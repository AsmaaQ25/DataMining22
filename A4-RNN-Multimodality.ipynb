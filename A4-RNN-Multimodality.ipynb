{
 "cells": [
  {
   "cell_type": "markdown",
   "metadata": {
    "id": "sc8eTiU3I9-v"
   },
   "source": [
    "# CISC 873 Data Mining Competition #4\n",
    "name: Asmaa Qindeel\n",
    "\n",
    "\n",
    "Competition #4: https://www.kaggle.com/c/cisc-873-dm-f22-a4\n",
    "# Multi-Modality and Mult-Task Learning"
   ]
  },
  {
   "cell_type": "markdown",
   "metadata": {
    "id": "wqBuhKAYI9-y"
   },
   "source": [
    "### TOPICS:\n",
    "* [Refrences](#ref)\n",
    "* [Questions & Answers](#Questions)\n",
    "* [Problem and Protocol](#intro)\n",
    "\n",
    "**Experiment Part**\n",
    "* [Preparing workspace: gathering info about the data](#pre)\n",
    "\n",
    "> * [About the Trials](#notes)\n",
    "\n",
    "\n",
    "* [Trail 1: Text Input with GRU](#t1)\n",
    "* [Trail 2: Text Input with BiDirectional layer](#t2)\n",
    "* [Trail 3: Image Input with Conv2d](#t3)\n",
    "* [Trail 4: Image Input with Dropout](#t4)\n",
    "    * [Trial 4.1: AlexNet Architecture](#t4.1)\n",
    "* [Trail 5: Multi-modality learning](#t5)\n",
    "* [Trial 6: Multi-objective learning.(predicting both price and type](#6)\n",
    "\n",
    "[**Conclusion**](#conc)"
   ]
  },
  {
   "cell_type": "markdown",
   "metadata": {
    "id": "5CXPyJw59YRY"
   },
   "source": [
    "<a class=\"anchor\" id=\"ref\"></a>\n",
    "# References:\n",
    "\n",
    "\n",
    "---\n",
    "\n",
    "\n",
    "[1]Early stopping: https://machinelearningmastery.com/how-to-stop-training-deep-neural-networks-at-the-right-time-using-early-stopping/\n",
    "\n",
    "[2] Regularization: https://machinelearningmastery.com/how-to-reduce-overfitting-in-deep-learning-with-weight-regularization/\n",
    "\n",
    "[3] LangID: https://www.kaggle.com/code/rtatman/analyzing-multilingual-data/notebook\n",
    "\n",
    "https://machinelearningmastery.com/multi-class-classification-tutorial-keras-deep-learning-library/\n",
    "\n",
    "lab_873_mml_mtl\n",
    "\n",
    "---"
   ]
  },
  {
   "cell_type": "markdown",
   "metadata": {
    "id": "DOWJPsaAI9-0"
   },
   "source": [
    "<a class=\"anchor\" id=\"Questions\"></a>\n",
    "\n",
    "# Questions:  \n",
    "\n",
    "1. Is fully-connected model a good one for sequential data? Why? How about for image data? Is it good? Why?\n",
    "- No it is not, because it's design can't extract information from sequential data, it is designed to handle only non sequential. It is also not good for image data because it can't quite extract image features, it only learns the patterns, but image processing depend on image features not pixel pattern.\n",
    "2. What is gradient vanishing and gradient explosion, and how GRU/LSTM tries to mitigate this problem?\n",
    "- gradient vanishing is when the gradient value decreases until it dies, so the weights can't be updated with that. Explosion is when it gets very high values that it breaks the network, causing high cost calculations, or just network not converging. Gradient problems can be solved by GRU/LSTM nets, which are designed to choose whether to keep a certain iteration's gradient calculations or forget them, Meaning choose which value contributes to the gradient. Which by dafalut fixis the vanishig||exploding problem.\n",
    "3. What is multi-objective/multi-task learning? What is multi-modality learning? How do you use them in this assignment?\n",
    "- multi-objective/multi-task learning is setting your eye(or the model's eye) on multi goals at the same time. Multi-modality is learning from various sources of input, like images and text at the same time. So the first is about the output, the second is about the input, this is another technique to mimic the human learning that dependes on our many senses at the same time, and the ability to solve several problems simultaneously. And we use both in this assignment, having the input be both text and images, and the output be two targets.\n",
    "4. What is the difference among xgboost, lightgbm and catboost\n",
    "- I haven't tried any, but, According to this article (https://www.springboard.com/blog/data-science/xgboost-random-forest-catboost-lightgbm/#:~:text=As%20of%20CatBoost%20version%200.6,reported%20much%20faster%20than%20XGBoost.) CatBoost is faster."
   ]
  },
  {
   "cell_type": "markdown",
   "metadata": {
    "id": "9Yzy-vq6I9-0"
   },
   "source": [
    "# Problem Formulation:\n",
    "<a class=\"anchor\" id=\"intro\"></a>\n",
    "\n",
    "https://www.kaggle.com/c/cisc-873-dm-f22-a4\n",
    "\n",
    "This is a multi--task, multi-modality problem, our input is text descriping a rental place, and images of that place, our target is both the (price and type) of that rental place.\n",
    "This problem is for Airbnb, a vacation rental company to help the new hosts with price suggestions for their rental place.\n",
    "\n",
    "In this project i'll explore the architecture of multi-modality system.\n",
    "\n",
    "The ideal solution i think compining the two inputs together(text and images) will increase the probability and cause the model to be more sure of its predictions.\n",
    "Challenges will include architecture design, parameter tuning(one doesn't simply **PICK** hyperparameters).\n",
    "\n",
    "Metric used in this problem is `accuracy`.\n",
    "\n",
    "\n",
    "## The Impact:\n",
    "\n",
    "Solving this problem will help the new users in Airbnb with estimating the right price for their rental. for me, i shall learn; How to use multi-modality to train a system. How build the architecture for that. How to handle the multi-task output.  \n",
    "\n",
    "\n",
    "# Experimental Protocol:\n",
    "---\n",
    "First i'll try to solve the problem with single modes separately, meaning trainig model with text and training another model with images, then comapre the results with a third multi-mode model that will be trained with both text and images. \n",
    "The architectures i'll be using is simple, no more than 4~5 layers in a model, because the resources i have isn't impressive. \n"
   ]
  },
  {
   "cell_type": "markdown",
   "metadata": {
    "id": "KUIBnkqu_Fwj"
   },
   "source": [
    "<a class=\"anchor\" id=\"pre\"></a>\n",
    "## Experiment Preparations\n",
    "Loading the data and importing the liberaries"
   ]
  },
  {
   "cell_type": "code",
   "execution_count": 46,
   "metadata": {
    "colab": {
     "base_uri": "https://localhost:8080/"
    },
    "id": "FfG5wVhQJD41",
    "outputId": "d7285930-c085-4591-e226-7c2617bbd2f1"
   },
   "outputs": [],
   "source": [
    "# ! wget https://github.com/CISC-873/Information-2021/releases/download/data/a4.zip\n",
    "\n",
    "# ! unzip -q a4.zip"
   ]
  },
  {
   "cell_type": "code",
   "execution_count": 47,
   "metadata": {
    "colab": {
     "base_uri": "https://localhost:8080/",
     "height": 423
    },
    "id": "zQuimpjMjedi",
    "outputId": "6c4f68e3-30d2-426c-a427-681430f5cbd7"
   },
   "outputs": [
    {
     "data": {
      "text/html": [
       "<div>\n",
       "<style scoped>\n",
       "    .dataframe tbody tr th:only-of-type {\n",
       "        vertical-align: middle;\n",
       "    }\n",
       "\n",
       "    .dataframe tbody tr th {\n",
       "        vertical-align: top;\n",
       "    }\n",
       "\n",
       "    .dataframe thead th {\n",
       "        text-align: right;\n",
       "    }\n",
       "</style>\n",
       "<table border=\"1\" class=\"dataframe\">\n",
       "  <thead>\n",
       "    <tr style=\"text-align: right;\">\n",
       "      <th></th>\n",
       "      <th>summary</th>\n",
       "      <th>image</th>\n",
       "      <th>type</th>\n",
       "      <th>price</th>\n",
       "    </tr>\n",
       "  </thead>\n",
       "  <tbody>\n",
       "    <tr>\n",
       "      <th>0</th>\n",
       "      <td>Spacious, sunny and cozy modern apartment in t...</td>\n",
       "      <td>img_train/0.jpg</td>\n",
       "      <td>Apartment</td>\n",
       "      <td>1</td>\n",
       "    </tr>\n",
       "    <tr>\n",
       "      <th>1</th>\n",
       "      <td>Located in one of the most vibrant and accessi...</td>\n",
       "      <td>img_train/1.jpg</td>\n",
       "      <td>Apartment</td>\n",
       "      <td>0</td>\n",
       "    </tr>\n",
       "    <tr>\n",
       "      <th>2</th>\n",
       "      <td>Logement coquet et douillet à 10 minutes du ce...</td>\n",
       "      <td>img_train/2.jpg</td>\n",
       "      <td>Apartment</td>\n",
       "      <td>1</td>\n",
       "    </tr>\n",
       "    <tr>\n",
       "      <th>3</th>\n",
       "      <td>Beautiful and spacious (1076 sc ft, / 100 mc) ...</td>\n",
       "      <td>img_train/3.jpg</td>\n",
       "      <td>Apartment</td>\n",
       "      <td>1</td>\n",
       "    </tr>\n",
       "    <tr>\n",
       "      <th>4</th>\n",
       "      <td>Très grand appartement ''rustique'' et très ag...</td>\n",
       "      <td>img_train/4.jpg</td>\n",
       "      <td>Apartment</td>\n",
       "      <td>0</td>\n",
       "    </tr>\n",
       "    <tr>\n",
       "      <th>...</th>\n",
       "      <td>...</td>\n",
       "      <td>...</td>\n",
       "      <td>...</td>\n",
       "      <td>...</td>\n",
       "    </tr>\n",
       "    <tr>\n",
       "      <th>7622</th>\n",
       "      <td>Un grand logement 4 et 1/2, tout inclut, bien ...</td>\n",
       "      <td>img_train/7626.jpg</td>\n",
       "      <td>Apartment</td>\n",
       "      <td>0</td>\n",
       "    </tr>\n",
       "    <tr>\n",
       "      <th>7623</th>\n",
       "      <td>Magnificent condo directly on the river. You w...</td>\n",
       "      <td>img_train/7627.jpg</td>\n",
       "      <td>Apartment</td>\n",
       "      <td>2</td>\n",
       "    </tr>\n",
       "    <tr>\n",
       "      <th>7624</th>\n",
       "      <td>This apartment is perfect for anyone visiting ...</td>\n",
       "      <td>img_train/7628.jpg</td>\n",
       "      <td>Apartment</td>\n",
       "      <td>1</td>\n",
       "    </tr>\n",
       "    <tr>\n",
       "      <th>7625</th>\n",
       "      <td>It is a cozy ,clean ,and comfortable apartment...</td>\n",
       "      <td>img_train/7629.jpg</td>\n",
       "      <td>Apartment</td>\n",
       "      <td>0</td>\n",
       "    </tr>\n",
       "    <tr>\n",
       "      <th>7626</th>\n",
       "      <td>Modern country style (newly-renovated); open c...</td>\n",
       "      <td>img_train/7630.jpg</td>\n",
       "      <td>House</td>\n",
       "      <td>1</td>\n",
       "    </tr>\n",
       "  </tbody>\n",
       "</table>\n",
       "<p>7627 rows × 4 columns</p>\n",
       "</div>"
      ],
      "text/plain": [
       "                                                summary               image  \\\n",
       "0     Spacious, sunny and cozy modern apartment in t...     img_train/0.jpg   \n",
       "1     Located in one of the most vibrant and accessi...     img_train/1.jpg   \n",
       "2     Logement coquet et douillet à 10 minutes du ce...     img_train/2.jpg   \n",
       "3     Beautiful and spacious (1076 sc ft, / 100 mc) ...     img_train/3.jpg   \n",
       "4     Très grand appartement ''rustique'' et très ag...     img_train/4.jpg   \n",
       "...                                                 ...                 ...   \n",
       "7622  Un grand logement 4 et 1/2, tout inclut, bien ...  img_train/7626.jpg   \n",
       "7623  Magnificent condo directly on the river. You w...  img_train/7627.jpg   \n",
       "7624  This apartment is perfect for anyone visiting ...  img_train/7628.jpg   \n",
       "7625  It is a cozy ,clean ,and comfortable apartment...  img_train/7629.jpg   \n",
       "7626  Modern country style (newly-renovated); open c...  img_train/7630.jpg   \n",
       "\n",
       "           type  price  \n",
       "0     Apartment      1  \n",
       "1     Apartment      0  \n",
       "2     Apartment      1  \n",
       "3     Apartment      1  \n",
       "4     Apartment      0  \n",
       "...         ...    ...  \n",
       "7622  Apartment      0  \n",
       "7623  Apartment      2  \n",
       "7624  Apartment      1  \n",
       "7625  Apartment      0  \n",
       "7626      House      1  \n",
       "\n",
       "[7627 rows x 4 columns]"
      ]
     },
     "execution_count": 47,
     "metadata": {},
     "output_type": "execute_result"
    }
   ],
   "source": [
    "import pandas as pd\n",
    "import numpy as np\n",
    "\n",
    "# my folder of images\n",
    "initial_path = 'D:/Workspace/Datasets/C4/'\n",
    "train_file = pd.read_csv(initial_path + 'train_xy.csv')\n",
    "test_file = pd.read_csv(initial_path + 'test_x.csv')\n",
    "df = train_file.copy()\n",
    "df_test = test_file.copy()\n",
    "df"
   ]
  },
  {
   "cell_type": "code",
   "execution_count": 48,
   "metadata": {
    "id": "d7ln9G8eI9-3"
   },
   "outputs": [],
   "source": [
    "#libs for modeling\n",
    "\n",
    "# NLTK tools\n",
    "from nltk.stem.snowball import SnowballStemmer\n",
    "from nltk.tokenize import word_tokenize\n",
    "from nltk.corpus import stopwords\n",
    "\n",
    "#vectorizor\n",
    "# from sklearn.feature_extraction.text import TfidfVectorizer, CountVectorizer\n",
    "\n",
    "# building model and tunign tools\n",
    "from sklearn.model_selection import train_test_split,  PredefinedSplit\n",
    "from sklearn.metrics import roc_auc_score, classification_report, accuracy_score\n",
    "# from sklearn.pipeline import Pipeline\n",
    "# from sklearn.model_selection import GridSearchCV, RandomizedSearchCV\n",
    "\n",
    "#tools for image preparation\n",
    "from ast import literal_eval\n",
    "from tqdm.notebook import tqdm\n",
    "from PIL import Image\n",
    "import os\n",
    "\n",
    "#import models\n",
    "# from sklearn.linear_model import LogisticRegression\n",
    "# from xgboost import XGBClassifier\n",
    "\n",
    "#import tensorflow and keras layersand optimizers\n",
    "import tensorflow\n",
    "from tensorflow.keras.preprocessing.sequence import pad_sequences\n",
    "from tensorflow.keras.models import Sequential\n",
    "from tensorflow.keras.optimizers import SGD, Adadelta, Adam, Adamax ,Adagrad, RMSprop, Nadam\n",
    "from tensorflow.keras.layers import Dense, Dropout, Embedding, SpatialDropout1D, BatchNormalization, Bidirectional\n",
    "from tensorflow.keras.layers import Activation, Dropout, Flatten, Conv2D, MaxPooling2D,MaxPool2D\n",
    "from tensorflow.keras.regularizers import l1, l2, l1_l2\n",
    "from tensorflow.keras.callbacks import EarlyStopping\n",
    "from tensorflow.keras.layers import LSTM , GRU , SimpleRNN\n",
    "from tensorflow.keras.callbacks import ModelCheckpoint\n",
    "\n",
    "np.random.seed(0)"
   ]
  },
  {
   "cell_type": "markdown",
   "metadata": {
    "id": "_fYGsgAi_eIY"
   },
   "source": [
    "Let's take a look at the data distribution"
   ]
  },
  {
   "cell_type": "code",
   "execution_count": 49,
   "metadata": {
    "colab": {
     "base_uri": "https://localhost:8080/"
    },
    "id": "DULznAfVI9-5",
    "outputId": "dbcd73a3-8095-4a10-a767-06986192d917"
   },
   "outputs": [
    {
     "data": {
      "text/plain": [
       "Apartment                 5765\n",
       "Condominium                691\n",
       "House                      406\n",
       "Loft                       324\n",
       "Townhouse                  167\n",
       "Serviced apartment          77\n",
       "Bed and breakfast           38\n",
       "Guest suite                 32\n",
       "Hostel                      26\n",
       "Bungalow                    25\n",
       "Guesthouse                  14\n",
       "Cottage                     12\n",
       "Aparthotel                  12\n",
       "Boutique hotel              10\n",
       "Other                        8\n",
       "Villa                        7\n",
       "Tiny house                   3\n",
       "Cabin                        2\n",
       "Boat                         2\n",
       "Camper/RV                    2\n",
       "Casa particular (Cuba)       1\n",
       "Earth house                  1\n",
       "Hotel                        1\n",
       "Castle                       1\n",
       "Name: type, dtype: int64"
      ]
     },
     "execution_count": 49,
     "metadata": {},
     "output_type": "execute_result"
    }
   ],
   "source": [
    "#check class distribution\n",
    "df.type.value_counts()"
   ]
  },
  {
   "cell_type": "code",
   "execution_count": null,
   "metadata": {
    "id": "xJfLB719I9-5",
    "outputId": "df7c5c64-2b7b-43bd-9b2c-45edd32a567f"
   },
   "outputs": [
    {
     "data": {
      "text/plain": [
       "0    4737\n",
       "1    2403\n",
       "2     487\n",
       "Name: price, dtype: int64"
      ]
     },
     "execution_count": 118,
     "metadata": {},
     "output_type": "execute_result"
    }
   ],
   "source": [
    "#check class distribution\n",
    "df.price.value_counts()"
   ]
  },
  {
   "cell_type": "markdown",
   "metadata": {},
   "source": [
    ">> Class 2 minority may cause a problem"
   ]
  },
  {
   "cell_type": "code",
   "execution_count": 50,
   "metadata": {
    "id": "z4fxyNu0I9-6",
    "outputId": "b9d6295c-c666-4c57-bc61-648cb2bde37a"
   },
   "outputs": [
    {
     "data": {
      "text/plain": [
       "image        0\n",
       "type         0\n",
       "price        0\n",
       "summary    301\n",
       "dtype: int64"
      ]
     },
     "execution_count": 50,
     "metadata": {},
     "output_type": "execute_result"
    }
   ],
   "source": [
    "#check null values\n",
    "null_count = df.isnull().sum().sort_values()\n",
    "null_count"
   ]
  },
  {
   "cell_type": "code",
   "execution_count": 53,
   "metadata": {
    "colab": {
     "base_uri": "https://localhost:8080/"
    },
    "id": "1z3FEfYsR1Zm",
    "outputId": "6a3073f8-9cce-4c5e-8a20-2a2889d8fb48"
   },
   "outputs": [
    {
     "data": {
      "text/plain": [
       "(24, 3)"
      ]
     },
     "execution_count": 53,
     "metadata": {},
     "output_type": "execute_result"
    }
   ],
   "source": [
    "# first label encode the type\n",
    "df['type'] = df.type.astype('category').cat.codes\n",
    "\n",
    "# get the number of types, and classes of prices for later use\n",
    "types_no = len(df.type.unique())\n",
    "prices_no = len(df.price.unique())\n",
    "\n",
    "# print the total number of unique outputs (later used for prediction)\n",
    "types_no, prices_no"
   ]
  },
  {
   "cell_type": "markdown",
   "metadata": {
    "id": "GyXhfzb7I9-6"
   },
   "source": [
    "<a class=\"anchor\" id=\"notes\"></a>\n",
    "# Trials x.b:\n",
    "## keeping only the majority language:\n",
    "I first did the trials(the ones with text input only) with one tokentizer, then i noticed that the text data is not all one language, the first sample is actually french.\n",
    "\n",
    "So here, I iterated back to check the data. I found that it is mostly english and french.\n",
    "\n",
    "**Corrective Action:** So in Trial x.b, which is the second version of my trials , i dropped other languages and kept english text only. That decision was based on the fact that english samples were 70~72% in train/test data. Of course this resulted in high bias model. It couldn't handle the test data. which makes sense since i dropped a big portion of the train samples(I finally found some sense. In comparison to last assignment, which nothing made sense in it)."
   ]
  },
  {
   "cell_type": "markdown",
   "metadata": {
    "id": "yRlKKRpyI9-6"
   },
   "source": [
    "# Trials x.c:\n",
    "## Splitting tokenizer over languages:\n",
    "After Trials x.b where i was just lazy and dropped all that is not english, I to take them all in and not take the shortcut :D.\n",
    "\n",
    "**Corrective Action:** So in Trial x.c, which is the third version of my trials , i rebuilt the tokenizer as two tokenizers. One for english and one for french text. since English is aroung 70% of the data and French is less than 30%, so they are the majority languages. \n",
    "\n",
    "I use  `langid` liberary to get the language of each text\n",
    "\n",
    "This lead to upgrade in val&test accuracy by around 0.002. Which was not worth the effort Really :') ."
   ]
  },
  {
   "cell_type": "markdown",
   "metadata": {
    "id": "yoFdUfZXI9-7"
   },
   "source": [
    "**when I Break my back preprocessing the data, but the accuracy gets higher by 0.001**\n",
    "![image](https://i.imgflip.com/42tfy6.png)\n"
   ]
  },
  {
   "cell_type": "code",
   "execution_count": 101,
   "metadata": {
    "id": "FboaFNGII9-7"
   },
   "outputs": [],
   "source": [
    "#first get 'langid' liberary, used to identify language of the given text\n",
    "# ! pip install langid\n",
    "import langid"
   ]
  },
  {
   "cell_type": "code",
   "execution_count": 102,
   "metadata": {
    "colab": {
     "base_uri": "https://localhost:8080/"
    },
    "id": "8QW0_qDFI9-7",
    "outputId": "ff9456b2-f5ac-4e39-ba13-ea1a0cbc0d11"
   },
   "outputs": [
    {
     "data": {
      "text/plain": [
       "0     (en, -671.7185382843018)\n",
       "1     (en, -720.2096455097198)\n",
       "2     (fr, -582.2557005882263)\n",
       "3    (en, -1058.9362189769745)\n",
       "Name: summary, dtype: object"
      ]
     },
     "execution_count": 102,
     "metadata": {},
     "output_type": "execute_result"
    }
   ],
   "source": [
    "#this is how the lngid works\n",
    "df.summary[0:4].apply(langid.classify)"
   ]
  },
  {
   "cell_type": "code",
   "execution_count": 103,
   "metadata": {
    "id": "3dZ8bM3PI9-7"
   },
   "outputs": [],
   "source": [
    "#make sure the summary column is str\n",
    "df['summary'] = df['summary'].astype(str)\n",
    "# get the language id for each text sample\n",
    "ids_langid = df.summary[0:-1].apply(langid.classify)\n",
    "\n",
    "#notice that the langid lib is not very effecint when it comes to non-europian languages\n",
    "        # as stated here https://www.kaggle.com/code/rtatman/analyzing-multilingual-data/notebook"
   ]
  },
  {
   "cell_type": "code",
   "execution_count": 104,
   "metadata": {
    "colab": {
     "base_uri": "https://localhost:8080/",
     "height": 351
    },
    "id": "H4VCr__sI9-8",
    "outputId": "61544bdf-4608-44da-d5ab-ef93650e7e88",
    "scrolled": true
   },
   "outputs": [
    {
     "data": {
      "text/plain": [
       "<AxesSubplot:>"
      ]
     },
     "execution_count": 104,
     "metadata": {},
     "output_type": "execute_result"
    },
    {
     "data": {
      "image/png": "[encoded data removed]",
      "text/plain": [
       "<Figure size 1440x720 with 1 Axes>"
      ]
     },
     "metadata": {
      "needs_background": "light"
     },
     "output_type": "display_data"
    }
   ],
   "source": [
    "# get just the language label from the tuble outout of the apply method, as DataFrame\n",
    "langs_df = pd.DataFrame(ids_langid.apply(lambda tuple: tuple[0]))\n",
    "\n",
    "#get the distribution of langs\n",
    "langs_count = langs_df.summary.value_counts()\n",
    "\n",
    "#plot the distribution\n",
    "langs_count.plot.bar(figsize=(20,10), fontsize=20)"
   ]
  },
  {
   "cell_type": "markdown",
   "metadata": {
    "id": "6OloKvtNI9-8"
   },
   "source": [
    "> So, english and french are the most dominent languages in our train set,\n",
    "\n",
    "Lets check for test data too:"
   ]
  },
  {
   "cell_type": "code",
   "execution_count": 105,
   "metadata": {
    "id": "ExodRfamI9-8"
   },
   "outputs": [],
   "source": [
    "#make sure the summary column is str\n",
    "df_test['summary'] = df_test['summary'].astype(str)\n",
    "# get the language id for each text sample\n",
    "ids_langid_test = df_test.summary[0:-1].apply(langid.classify)"
   ]
  },
  {
   "cell_type": "code",
   "execution_count": 106,
   "metadata": {
    "colab": {
     "base_uri": "https://localhost:8080/",
     "height": 376
    },
    "id": "EU--pXT8I9-9",
    "outputId": "355b5af6-a892-447d-f0a0-149f74eb85d1",
    "scrolled": true
   },
   "outputs": [
    {
     "data": {
      "text/plain": [
       "<AxesSubplot:title={'center':'Languages of test data'}, ylabel='number of samples'>"
      ]
     },
     "execution_count": 106,
     "metadata": {},
     "output_type": "execute_result"
    },
    {
     "data": {
      "image/png": "[encoded data removed]",
      "text/plain": [
       "<Figure size 1440x720 with 1 Axes>"
      ]
     },
     "metadata": {
      "needs_background": "light"
     },
     "output_type": "display_data"
    }
   ],
   "source": [
    "# get just the language label from the tuble outout of the apply method, as DataFrame\n",
    "langs_df_test = pd.DataFrame(ids_langid_test.apply(lambda tuple: tuple[0]))\n",
    "\n",
    "#get the distribution of langs\n",
    "langs_count = langs_df.summary.value_counts()\n",
    "\n",
    "#plot the distribution\n",
    "langs_count.plot.bar(figsize=(20,10), fontsize=20,\n",
    "                     title = 'Languages of test data', ylabel = 'number of samples')"
   ]
  },
  {
   "cell_type": "markdown",
   "metadata": {
    "id": "NGforL9qI9-9"
   },
   "source": [
    "> English and French it is"
   ]
  },
  {
   "cell_type": "code",
   "execution_count": 113,
   "metadata": {
    "id": "Y7xm4b5YI9-9"
   },
   "outputs": [],
   "source": [
    "# Add column for the language of summary, for tokenization later\n",
    "df['sum_lang'] = langs_df"
   ]
  },
  {
   "cell_type": "code",
   "execution_count": 114,
   "metadata": {
    "colab": {
     "base_uri": "https://localhost:8080/",
     "height": 468
    },
    "id": "dmbKgVZCI9-9",
    "outputId": "f6f63af4-87d1-4886-a9f2-6a9e8e166ea3"
   },
   "outputs": [
    {
     "data": {
      "text/html": [
       "<div>\n",
       "<style scoped>\n",
       "    .dataframe tbody tr th:only-of-type {\n",
       "        vertical-align: middle;\n",
       "    }\n",
       "\n",
       "    .dataframe tbody tr th {\n",
       "        vertical-align: top;\n",
       "    }\n",
       "\n",
       "    .dataframe thead th {\n",
       "        text-align: right;\n",
       "    }\n",
       "</style>\n",
       "<table border=\"1\" class=\"dataframe\">\n",
       "  <thead>\n",
       "    <tr style=\"text-align: right;\">\n",
       "      <th></th>\n",
       "      <th>id</th>\n",
       "      <th>summary</th>\n",
       "      <th>image</th>\n",
       "      <th>sum_lang</th>\n",
       "    </tr>\n",
       "  </thead>\n",
       "  <tbody>\n",
       "    <tr>\n",
       "      <th>0</th>\n",
       "      <td>0</td>\n",
       "      <td>Charming warm house is ready to host you here ...</td>\n",
       "      <td>img_test/0.jpg</td>\n",
       "      <td>en</td>\n",
       "    </tr>\n",
       "    <tr>\n",
       "      <th>1</th>\n",
       "      <td>1</td>\n",
       "      <td>La chambre est spacieuse et lumineuse, dans un...</td>\n",
       "      <td>img_test/1.jpg</td>\n",
       "      <td>fr</td>\n",
       "    </tr>\n",
       "    <tr>\n",
       "      <th>2</th>\n",
       "      <td>2</td>\n",
       "      <td>Grande chambre confortable située au sous-sol ...</td>\n",
       "      <td>img_test/2.jpg</td>\n",
       "      <td>fr</td>\n",
       "    </tr>\n",
       "    <tr>\n",
       "      <th>3</th>\n",
       "      <td>3</td>\n",
       "      <td>Près d’un Métro, ligne orange. 10 minutes à pi...</td>\n",
       "      <td>img_test/3.jpg</td>\n",
       "      <td>fr</td>\n",
       "    </tr>\n",
       "    <tr>\n",
       "      <th>4</th>\n",
       "      <td>4</td>\n",
       "      <td>Very bright appartment and very cosy. 2 separa...</td>\n",
       "      <td>img_test/4.jpg</td>\n",
       "      <td>en</td>\n",
       "    </tr>\n",
       "    <tr>\n",
       "      <th>...</th>\n",
       "      <td>...</td>\n",
       "      <td>...</td>\n",
       "      <td>...</td>\n",
       "      <td>...</td>\n",
       "    </tr>\n",
       "    <tr>\n",
       "      <th>7355</th>\n",
       "      <td>7626</td>\n",
       "      <td>Large, fully-furnished flat with brick walls a...</td>\n",
       "      <td>img_test/7627.jpg</td>\n",
       "      <td>en</td>\n",
       "    </tr>\n",
       "    <tr>\n",
       "      <th>7356</th>\n",
       "      <td>7627</td>\n",
       "      <td>Logement situé dans le haut d’un duplex. Vivez...</td>\n",
       "      <td>img_test/7628.jpg</td>\n",
       "      <td>fr</td>\n",
       "    </tr>\n",
       "    <tr>\n",
       "      <th>7357</th>\n",
       "      <td>7628</td>\n",
       "      <td>My place is close to parks, . My place is good...</td>\n",
       "      <td>img_test/7629.jpg</td>\n",
       "      <td>en</td>\n",
       "    </tr>\n",
       "    <tr>\n",
       "      <th>7358</th>\n",
       "      <td>7629</td>\n",
       "      <td>*** For security reasons, I will prioritize gu...</td>\n",
       "      <td>img_test/7630.jpg</td>\n",
       "      <td>en</td>\n",
       "    </tr>\n",
       "    <tr>\n",
       "      <th>7359</th>\n",
       "      <td>7630</td>\n",
       "      <td>Stay in an amazing area of Montreal! 5-7 min f...</td>\n",
       "      <td>img_test/7631.jpg</td>\n",
       "      <td>NaN</td>\n",
       "    </tr>\n",
       "  </tbody>\n",
       "</table>\n",
       "<p>7360 rows × 4 columns</p>\n",
       "</div>"
      ],
      "text/plain": [
       "        id                                            summary  \\\n",
       "0        0  Charming warm house is ready to host you here ...   \n",
       "1        1  La chambre est spacieuse et lumineuse, dans un...   \n",
       "2        2  Grande chambre confortable située au sous-sol ...   \n",
       "3        3  Près d’un Métro, ligne orange. 10 minutes à pi...   \n",
       "4        4  Very bright appartment and very cosy. 2 separa...   \n",
       "...    ...                                                ...   \n",
       "7355  7626  Large, fully-furnished flat with brick walls a...   \n",
       "7356  7627  Logement situé dans le haut d’un duplex. Vivez...   \n",
       "7357  7628  My place is close to parks, . My place is good...   \n",
       "7358  7629  *** For security reasons, I will prioritize gu...   \n",
       "7359  7630  Stay in an amazing area of Montreal! 5-7 min f...   \n",
       "\n",
       "                  image sum_lang  \n",
       "0        img_test/0.jpg       en  \n",
       "1        img_test/1.jpg       fr  \n",
       "2        img_test/2.jpg       fr  \n",
       "3        img_test/3.jpg       fr  \n",
       "4        img_test/4.jpg       en  \n",
       "...                 ...      ...  \n",
       "7355  img_test/7627.jpg       en  \n",
       "7356  img_test/7628.jpg       fr  \n",
       "7357  img_test/7629.jpg       en  \n",
       "7358  img_test/7630.jpg       en  \n",
       "7359  img_test/7631.jpg      NaN  \n",
       "\n",
       "[7360 rows x 4 columns]"
      ]
     },
     "execution_count": 114,
     "metadata": {},
     "output_type": "execute_result"
    }
   ],
   "source": [
    "# do the same for test\n",
    "df_test['sum_lang'] = langs_df_test\n",
    "df_test"
   ]
  },
  {
   "cell_type": "markdown",
   "metadata": {
    "id": "FUoMACSf_MRK"
   },
   "source": [
    "## Data Preprocessing\n",
    "\n",
    "We have image and text data. Here is the process to handle each:\n",
    "\n",
    "- Image data: resize images to convenient size my pc can handle\n",
    "- Text data: tokenization and converting to integer IDs for later embedding in keras layer"
   ]
  },
  {
   "cell_type": "code",
   "execution_count": 107,
   "metadata": {
    "id": "2FeUqcSAI9--"
   },
   "outputs": [],
   "source": [
    "# spliting modes\n",
    "# get train type \n",
    "y_type = df.type\n",
    "\n",
    "# get train price\n",
    "y_price = df.price"
   ]
  },
  {
   "cell_type": "markdown",
   "metadata": {},
   "source": [
    "## now processing the text data"
   ]
  },
  {
   "cell_type": "code",
   "execution_count": 115,
   "metadata": {
    "colab": {
     "base_uri": "https://localhost:8080/"
    },
    "id": "Xh70MnCDR1Zm",
    "outputId": "dd04941b-9774-4c62-fe79-28d4d9a6573d"
   },
   "outputs": [
    {
     "name": "stdout",
     "output_type": "stream",
     "text": [
      "(7627, 100) \n",
      " [  62   22   11   15   92    8  639    3   46   20    3   37    4 1568\n",
      "  730 3294    2    4 3983 3295 3984   67 1061    2 3985  861  116  646\n",
      "   36  575    2  510    1  949    3   44  331  139   99  842  134   22\n",
      "  441   43  125  180  185  349  442   49 1279  227  731    0    0    0\n",
      "    0    0    0    0    0    0    0    0    0    0    0    0    0    0\n",
      "    0    0    0    0    0    0    0    0    0    0    0    0    0    0\n",
      "    0    0    0    0    0    0    0    0    0    0    0    0    0    0\n",
      "    0    0]\n"
     ]
    }
   ],
   "source": [
    "# preprocess text data\n",
    "# define two tokenizers; english and french, fill them with texts of each language\n",
    "\n",
    "from tensorflow.keras.preprocessing.text import Tokenizer\n",
    "from tensorflow.keras.preprocessing.sequence import pad_sequences\n",
    "from sklearn.model_selection import train_test_split\n",
    "\n",
    "#define the size of the dictionary of words which the tokenizer will use. And the \n",
    "                # fixed lenth of the vector of each text (word2vec)\n",
    "vocab_size = 40000\n",
    "max_len = 100\n",
    "\n",
    "#define tokenizer for english\n",
    "tokenizer_en = Tokenizer(num_words=vocab_size)\n",
    "\n",
    "# build vocabulary from training set and test set, use concat to add them together\n",
    "tokenizer_en.fit_on_texts(pd.concat([df.loc[df['sum_lang']== 'fr', 'summary'],\n",
    "                                     df_test.loc[df_test['sum_lang']== 'fr', 'summary']]))\n",
    "\n",
    "# repeat for french\n",
    "tokenizer_fr = Tokenizer(num_words=vocab_size)\n",
    "tokenizer_fr.fit_on_texts(pd.concat([df.loc[df['sum_lang']== 'fr', 'summary'],\n",
    "                          df_test.loc[df_test['sum_lang']== 'fr', 'summary']]))\n",
    "\n",
    "\n",
    "# define method to embed the text depending on its language\n",
    "# set default language to English for all that is not French\n",
    "def preprocess_test(list_of_text, lang = ['en']):\n",
    "    \n",
    "    # the minority probability is the French language:\n",
    "    if lang=='fr':\n",
    "        return pad_sequences(\n",
    "        tokenizer_fr.texts_to_sequences(list_of_text),\n",
    "        maxlen=max_len,\n",
    "        padding='post' )\n",
    "    \n",
    "    else: #for English and other minority languages \n",
    "        return pad_sequences(\n",
    "            tokenizer_en.texts_to_sequences(list_of_text),\n",
    "            maxlen=max_len,\n",
    "            padding='post',\n",
    "        )\n",
    "    \n",
    "# now use the method and give it the new column we created 'sum_lang' as a list\n",
    "X_text_id = preprocess_test(df.summary.astype('str'), # the text sample\n",
    "                            df.sum_lang.to_list() ) # the text sample language\n",
    "# embedding test data\n",
    "X_test_text_id = preprocess_test(df_test.summary.astype('str'), df.sum_lang.to_list() )\n",
    "\n",
    "#check results\n",
    "print(X_text_id.shape, '\\n', X_text_id[7])"
   ]
  },
  {
   "cell_type": "markdown",
   "metadata": {
    "id": "CCRbCnARI9-_"
   },
   "source": [
    "\n",
    "<a class=\"anchor\" id=\"t1\"></a>\n",
    "\n",
    "# Trail 1.c: Text Input with GRU\n",
    "##   \n",
    "\n",
    "build a model to predict price category based on the text data only, the `summary` column.\n",
    "I tokenized the text separatly so that each language could have its own space.\n",
    "\n",
    "**plan** \n",
    "- design: sequential model with four essential layers( embedding, dropout, GRU/LSTM, Dense as the final layer)\n",
    "- hypers: pick randomly until i get a good result(not the best approach i know)\n",
    "- validation: add validation split of 0.2 at the model to observe the learning outcome"
   ]
  },
  {
   "cell_type": "code",
   "execution_count": 111,
   "metadata": {
    "id": "f0sG97_1I9_A"
   },
   "outputs": [
    {
     "name": "stdout",
     "output_type": "stream",
     "text": [
      "Model: \"sequential_8\"\n",
      "_________________________________________________________________\n",
      " Layer (type)                Output Shape              Param #   \n",
      "=================================================================\n",
      " embedding_1 (Embedding)     (None, 100, 32)           1280000   \n",
      "                                                                 \n",
      " batch_normalization_1 (Batc  (None, 100, 32)          400       \n",
      " hNormalization)                                                 \n",
      "                                                                 \n",
      " lstm_1 (LSTM)               (None, 8)                 1312      \n",
      "                                                                 \n",
      " dropout_5 (Dropout)         (None, 8)                 0         \n",
      "                                                                 \n",
      " dense_11 (Dense)            (None, 24)                216       \n",
      "                                                                 \n",
      "=================================================================\n",
      "Total params: 1,281,928\n",
      "Trainable params: 1,281,728\n",
      "Non-trainable params: 200\n",
      "_________________________________________________________________\n"
     ]
    }
   ],
   "source": [
    "#Build the model, add layers(embedding, dropout, lstm, dense)\n",
    "\n",
    "model1 = Sequential()\n",
    "model1.add(Embedding(vocab_size, 32, input_length = max_len))\n",
    "# Added bachNorm later # it did nothing really\n",
    "model1.add(BatchNormalization(axis = 1))\n",
    "model1.add(LSTM(8, \n",
    "                activation = 'tanh', \n",
    "                kernel_regularizer=l1(0.01),\n",
    "                recurrent_regularizer=l1(0.01),\n",
    "                bias_regularizer=l1(0.01)\n",
    "               )) # i added this in later runs\n",
    "model1.add(Dropout(0.5))\n",
    "model1.add(Dense(types_no, \n",
    "                 activation= 'softmax',\n",
    "                 kernel_regularizer=l2(0.01),\n",
    "                 bias_regularizer=l2(0.01),\n",
    "                activity_regularizer=l2(0.01)))\n",
    "model1.summary()"
   ]
  },
  {
   "cell_type": "code",
   "execution_count": 116,
   "metadata": {
    "id": "haxtQn3kI9_A"
   },
   "outputs": [],
   "source": [
    "# available optimizers: SGD, Adadelta, Adam, Adamax ,Adagrad, RMSprop, Nadam\n",
    "#p.s: they all suck.\n",
    "optimizer = Adam(learning_rate=0.01)\n",
    "batch = 16\n",
    "epoch = 20\n",
    "#add early stopping\n",
    "es = EarlyStopping(monitor='val_accuracy', mode='max', verbose=1, patience=5)\n",
    "model1.compile(loss='sparse_categorical_crossentropy', optimizer= optimizer, metrics=['accuracy'])"
   ]
  },
  {
   "cell_type": "code",
   "execution_count": 117,
   "metadata": {
    "id": "PeRdD8gVI9_A",
    "scrolled": true
   },
   "outputs": [
    {
     "name": "stdout",
     "output_type": "stream",
     "text": [
      "Epoch 1/20\n",
      "382/382 [==============================] - 31s 71ms/step - loss: 1.3879 - accuracy: 0.6014 - val_loss: 1.1042 - val_accuracy: 0.6252\n",
      "Epoch 2/20\n",
      "382/382 [==============================] - 29s 75ms/step - loss: 1.0751 - accuracy: 0.6135 - val_loss: 1.0221 - val_accuracy: 0.6252\n",
      "Epoch 3/20\n",
      "382/382 [==============================] - 27s 69ms/step - loss: 1.0733 - accuracy: 0.6199 - val_loss: 1.0200 - val_accuracy: 0.6252\n",
      "Epoch 4/20\n",
      "382/382 [==============================] - 27s 71ms/step - loss: 1.0641 - accuracy: 0.6199 - val_loss: 1.0369 - val_accuracy: 0.6252\n",
      "Epoch 5/20\n",
      "382/382 [==============================] - 27s 70ms/step - loss: 1.0746 - accuracy: 0.6188 - val_loss: 1.0152 - val_accuracy: 0.6252\n",
      "Epoch 6/20\n",
      "382/382 [==============================] - 26s 69ms/step - loss: 1.0698 - accuracy: 0.6197 - val_loss: 1.0169 - val_accuracy: 0.6252\n",
      "Epoch 6: early stopping\n"
     ]
    },
    {
     "data": {
      "text/plain": [
       "<keras.callbacks.History at 0x1ea1a749ca0>"
      ]
     },
     "execution_count": 117,
     "metadata": {},
     "output_type": "execute_result"
    }
   ],
   "source": [
    "# train the model\n",
    "model1.fit(X_text_id, y_price, batch_size=batch, epochs=epoch,\n",
    "          validation_split=0.2 , callbacks=[es])"
   ]
  },
  {
   "cell_type": "code",
   "execution_count": null,
   "metadata": {
    "id": "LfTtBzbgI9_A"
   },
   "outputs": [],
   "source": [
    "#predict and save to file\n",
    "y_hat = model1.predict(X_test_text_id)\n",
    "y_hat.shape"
   ]
  },
  {
   "cell_type": "code",
   "execution_count": null,
   "metadata": {
    "id": "ksbHcdTsI9_A"
   },
   "outputs": [],
   "source": [
    "price_predicted = np.argmax(y_hat, axis=1)\n",
    "\n",
    "dummy  = pd.DataFrame({'id': df_test.id, 'price': price_predicted})\n",
    "dummy.to_csv('T1_split_language.csv', index=False)"
   ]
  },
  {
   "cell_type": "markdown",
   "metadata": {
    "id": "opi5EjQJI9_B"
   },
   "source": [
    "**observations:**\n",
    "the model is not getting any better with any optimizer. **Not learning**.\n",
    "\n",
    "The val_accuracy and val_loss are almost the same during all epochs and all optimizers. While the accuarcy gets better(overfitting), which is why i added the Early stopping, And the Regularization. I don't get why the model isn't learning with any optimizer?!\n",
    "\n",
    "Of course i changed the hyperparameters, enlarged the nodes of layers and shrunk them, Added regularization, Added BatchNorm. I'm not sure what else to try. val_accuracy is stuck at 0.6127"
   ]
  },
  {
   "cell_type": "markdown",
   "metadata": {
    "id": "6dHYSwbgI9_B"
   },
   "source": [
    "\n",
    "<a class=\"anchor\" id=\"t2\"></a>\n",
    "\n",
    "# Trial 2: Text Input with BiDirectional layer\n",
    "##  \n",
    "\n",
    "Model 1 didn't perform well, it barely learned anything.\n",
    "\n",
    "**plan** \n",
    "\n",
    "Same architecture with BiDirectional layer of GRU instead of LSTM to explore the changes of their behaviour. maybe it could extract more features from the texr.\n",
    "\n",
    "Add two Bidirectional layers, and 2 Dense (fully connected) maybe this will make the model learn more."
   ]
  },
  {
   "cell_type": "code",
   "execution_count": 120,
   "metadata": {
    "id": "0Fo4BTExI9_B"
   },
   "outputs": [
    {
     "name": "stdout",
     "output_type": "stream",
     "text": [
      "Model: \"sequential_10\"\n",
      "_________________________________________________________________\n",
      " Layer (type)                Output Shape              Param #   \n",
      "=================================================================\n",
      " embedding_3 (Embedding)     (None, 100, 16)           640000    \n",
      "                                                                 \n",
      " dropout_7 (Dropout)         (None, 100, 16)           0         \n",
      "                                                                 \n",
      " bidirectional_1 (Bidirectio  (None, 100, 16)          1248      \n",
      " nal)                                                            \n",
      "                                                                 \n",
      " bidirectional_2 (Bidirectio  (None, 16)               1248      \n",
      " nal)                                                            \n",
      "                                                                 \n",
      " dense_13 (Dense)            (None, 16)                272       \n",
      "                                                                 \n",
      " dense_14 (Dense)            (None, 24)                408       \n",
      "                                                                 \n",
      "=================================================================\n",
      "Total params: 643,176\n",
      "Trainable params: 643,176\n",
      "Non-trainable params: 0\n",
      "_________________________________________________________________\n"
     ]
    }
   ],
   "source": [
    "#Build the model, add layers(embedding, dropout, 2*Bidirectional of gru instead of lstm, 2*dense)\n",
    "model2 = Sequential()\n",
    "model2.add(Embedding(vocab_size, 16, input_length = max_len))\n",
    "model2.add(Dropout(0.5))\n",
    "model2.add(Bidirectional(GRU(8, \n",
    "                activation = 'tanh', \n",
    "                kernel_regularizer=l1(0.01),\n",
    "                recurrent_regularizer=l1(0.01),\n",
    "                bias_regularizer=l1(0.01) , return_sequences= True\n",
    "               ))) # i added this in later runs\n",
    "model2.add(Bidirectional(GRU(8, \n",
    "                activation = 'tanh', \n",
    "                kernel_regularizer=l1(0.01),\n",
    "                recurrent_regularizer=l1(0.01),\n",
    "                bias_regularizer=l1(0.01) #, return_sequences= True\n",
    "               )))\n",
    "model2.add(Dropout(0.5))\n",
    "model2.add(Dense(16, activation = 'tanh'))\n",
    "model2.add(Dense(types_no, \n",
    "                 activation= 'softmax',\n",
    "                 kernel_regularizer=l2(0.01),\n",
    "                 bias_regularizer=l2(0.01),\n",
    "                activity_regularizer=l2(0.01)))\n",
    "model2.summary()"
   ]
  },
  {
   "cell_type": "code",
   "execution_count": 121,
   "metadata": {
    "id": "46KwvHaDI9_C"
   },
   "outputs": [],
   "source": [
    "# available optimizers: SGD, Adadelta, Adam, Adamax ,Adagrad, RMSprop, Nadam\n",
    "#p.s: they all suck.\n",
    "optimizer = RMSprop(learning_rate=0.01)\n",
    "batch = 16\n",
    "epoch = 20\n",
    "#add early stopping\n",
    "es = EarlyStopping(monitor='val_accuracy', mode='max', verbose=1, patience=5)\n",
    "model2.compile(loss='sparse_categorical_crossentropy', optimizer= optimizer, metrics=['accuracy'])"
   ]
  },
  {
   "cell_type": "code",
   "execution_count": 123,
   "metadata": {
    "id": "Iep2ZMjgI9_C"
   },
   "outputs": [],
   "source": [
    "# train the model\n",
    "model2.fit(X_text_id, y_price, batch_size=batch, epochs=epoch,\n",
    "          validation_split = 0.2 , callbacks=[es])"
   ]
  },
  {
   "cell_type": "code",
   "execution_count": null,
   "metadata": {
    "id": "mOsleJ7gI9_C"
   },
   "outputs": [],
   "source": [
    "#predict and save to file\n",
    "y_hat = model2.predict(X_test_text_id)\n",
    "y_hat.shape"
   ]
  },
  {
   "cell_type": "code",
   "execution_count": null,
   "metadata": {
    "id": "LeeNrCCmI9_C"
   },
   "outputs": [],
   "source": [
    "price_predicted = np.argmax(y_hat, axis=1)\n",
    "\n",
    "dummy  = pd.DataFrame({'id': df_test.id, 'price': price_predicted})\n",
    "dummy.to_csv('T2_bidirectional2.csv', index=False)"
   ]
  },
  {
   "cell_type": "markdown",
   "metadata": {
    "id": "raD86L4YI9_C"
   },
   "source": [
    "**observations:**\n",
    "still not getting any better with Bidirectiona layer. Same results, No added learning.\n",
    "\n",
    "The val_accuracy and val_loss are almost the same during all epochs and all optimizers. even with different layers, While the accuarcy gets better(overfitting), which is why i added the Early stopping and Regularization.\n",
    "\n",
    "At last i increased the dropout rate to 0.5, that moved the training a little bit. just made it oscilate a little around `val_accuracy` from 0.62 to 0.64\n",
    "\n",
    "**phew, I was losing hope there**  \n",
    "![image](https://c.tenor.com/g_d3iHyzc68AAAAM/hammaya-relaxed.gif) \n",
    "\n",
    "<!-- https://media.makeameme.org/created/this-makes-my-887af92be4.jpg) -->"
   ]
  },
  {
   "cell_type": "markdown",
   "metadata": {
    "id": "cznbdp5yI9_C"
   },
   "source": [
    "\n",
    "<a class=\"anchor\" id=\"t3\"></a>\n",
    "\n",
    "# Trail 3: Image Input with Conv2d\n",
    "##  \n",
    "\n",
    "Text models was not a success at all.\n",
    "\n",
    "**plan:**\n",
    "\n",
    "Lets hope images can make better results. I will build a simple model, 4~5 layers with 2 conv layers at most, i'll use many filters to open up the space and get as many features as i can.\n",
    "\n",
    "- first resize the images to (64, 64, 3) so my pc won't explode :D\n",
    "- build a simple model"
   ]
  },
  {
   "cell_type": "code",
   "execution_count": 6,
   "metadata": {
    "colab": {
     "base_uri": "https://localhost:8080/",
     "height": 49,
     "referenced_widgets": [
      "c53afa7cee8f41408a792dfa5052e456",
      "8dbb2c8f1ed24aa3ad9094890b9aaf3e",
      "4ba3a68321354b27886f0d8654ef524b",
      "a64ac80da0d643819ff1d749c991d08c",
      "c88d47135dc741ec9e865ab9a4892bf7",
      "a291be047c3f44e0972e6fcc403e95d9",
      "3c1a2a7de40e4f4295e5a8d94112f6e1",
      "5ee942bdf5a74640b88077c8c33a91eb",
      "ddeaba6a156f44718e2fb9cdf50d50ed",
      "4d3375acd8194357ad96cd313c0efe94",
      "6353c3fa13e34f4f8d0468f66d805ebd"
     ]
    },
    "id": "7NGojpH_R1Zl",
    "outputId": "9bffd3d0-6b05-4a10-b456-ce216dd07c03"
   },
   "outputs": [
    {
     "data": {
      "application/vnd.jupyter.widget-view+json": {
       "model_id": "03d4337d1a84417286f75c729a12ddb3",
       "version_major": 2,
       "version_minor": 0
      },
      "text/plain": [
       "  0%|          | 0/7627 [00:00<?, ?it/s]"
      ]
     },
     "metadata": {},
     "output_type": "display_data"
    }
   ],
   "source": [
    "# preprocess image data\n",
    "import os\n",
    "\n",
    "#this method converts the image into gray_scale with fixed size(64*64*2)\n",
    "\n",
    "def load_image(file):\n",
    "    try:\n",
    "        image = Image.open(\n",
    "            file\n",
    "        ).convert('RGB').resize((64, 64))\n",
    "        arr = np.array(image)\n",
    "    except:\n",
    "        arr = np.zeros((64, 64, 3))\n",
    "    return arr\n",
    "\n",
    "\n",
    "# loading images with method\n",
    "initial_path = 'D:/Workspace/Datasets/C4/'\n",
    "X_image = np.array([load_image(initial_path+i) for i in tqdm(df.image)])"
   ]
  },
  {
   "cell_type": "code",
   "execution_count": 11,
   "metadata": {
    "colab": {
     "base_uri": "https://localhost:8080/",
     "height": 287
    },
    "id": "Ayqfe7rQS0Mk",
    "outputId": "39589485-d7fa-482a-cf49-9a20221b3222",
    "scrolled": false
   },
   "outputs": [
    {
     "data": {
      "text/plain": [
       "<matplotlib.image.AxesImage at 0x12bfa31b0a0>"
      ]
     },
     "execution_count": 11,
     "metadata": {},
     "output_type": "execute_result"
    },
    {
     "data": {
      "image/png": "[encoded data removed]",
      "text/plain": [
       "<Figure size 432x288 with 1 Axes>"
      ]
     },
     "metadata": {
      "needs_background": "light"
     },
     "output_type": "display_data"
    }
   ],
   "source": [
    "# # check some images\n",
    "import matplotlib.pyplot as plt\n",
    "plt.imshow(X_image[2,:,:,0]) #,cmap='gray')"
   ]
  },
  {
   "cell_type": "code",
   "execution_count": 127,
   "metadata": {
    "colab": {
     "base_uri": "https://localhost:8080/"
    },
    "id": "K2HeyZoeI9_D",
    "outputId": "0cd91c41-982e-427d-d9f7-690b80ed7810"
   },
   "outputs": [
    {
     "name": "stdout",
     "output_type": "stream",
     "text": [
      "Model: \"sequential_12\"\n",
      "_________________________________________________________________\n",
      " Layer (type)                Output Shape              Param #   \n",
      "=================================================================\n",
      " conv2d_17 (Conv2D)          (None, 64, 64, 16)        448       \n",
      "                                                                 \n",
      " max_pooling2d_12 (MaxPoolin  (None, 32, 32, 16)       0         \n",
      " g2D)                                                            \n",
      "                                                                 \n",
      " conv2d_18 (Conv2D)          (None, 32, 32, 16)        2320      \n",
      "                                                                 \n",
      " max_pooling2d_13 (MaxPoolin  (None, 16, 16, 16)       0         \n",
      " g2D)                                                            \n",
      "                                                                 \n",
      " flatten_6 (Flatten)         (None, 4096)              0         \n",
      "                                                                 \n",
      " dense_16 (Dense)            (None, 16)                65552     \n",
      "                                                                 \n",
      " dense_17 (Dense)            (None, 3)                 51        \n",
      "                                                                 \n",
      "=================================================================\n",
      "Total params: 68,371\n",
      "Trainable params: 68,371\n",
      "Non-trainable params: 0\n",
      "_________________________________________________________________\n"
     ]
    }
   ],
   "source": [
    "#build model\n",
    "model3 = Sequential()\n",
    "\n",
    "model3.add(Conv2D(16, (3,3), padding = 'same',activation = 'relu', input_shape = X_image.shape[1:]))\n",
    "model3.add(MaxPooling2D(pool_size=(2,2), padding= 'valid' ))\n",
    "model3.add(Conv2D(16, (3,3), padding = 'same',activation = 'relu' ))\n",
    "model3.add(MaxPooling2D(pool_size=(2,2), padding= 'valid' ))\n",
    "model3.add(Flatten())\n",
    "\n",
    "model3.add(Dense(16, activation = 'relu',\n",
    "              kernel_regularizer=l2(0.01),\n",
    "                 bias_regularizer=l2(0.01),\n",
    "           activity_regularizer=l2(0.01)))\n",
    "model3.add(Dense(prices_no, \n",
    "                 activation= 'softmax'))\n",
    "model3.summary()"
   ]
  },
  {
   "cell_type": "code",
   "execution_count": 11,
   "metadata": {
    "id": "6ipy7_4ZI9_D"
   },
   "outputs": [],
   "source": [
    "#compile model\n",
    "# available optimizers: SGD, Adadelta, Adam, Adamax ,Adagrad, RMSprop, Nadam\n",
    "optimizer = Adam(learning_rate=0.01)\n",
    "batch = 16\n",
    "epoch = 20\n",
    "#add early stopping\n",
    "es = EarlyStopping(monitor='val_accuracy', mode='max', verbose=1, patience=5)\n",
    "model3.compile(loss='sparse_categorical_crossentropy', optimizer= optimizer, metrics=['accuracy'])"
   ]
  },
  {
   "cell_type": "code",
   "execution_count": 12,
   "metadata": {
    "colab": {
     "base_uri": "https://localhost:8080/"
    },
    "id": "KdWMEJNMI9_E",
    "outputId": "f97beeec-6277-4242-d99a-739b029d2c54"
   },
   "outputs": [
    {
     "name": "stdout",
     "output_type": "stream",
     "text": [
      "Epoch 1/20\n",
      "334/334 [==============================] - 17s 48ms/step - loss: 6.8418 - accuracy: 0.6040 - val_loss: 1.0566 - val_accuracy: 0.6317\n",
      "Epoch 2/20\n",
      "334/334 [==============================] - 15s 45ms/step - loss: 1.0530 - accuracy: 0.6165 - val_loss: 1.0211 - val_accuracy: 0.6317\n",
      "Epoch 3/20\n",
      "334/334 [==============================] - 19s 57ms/step - loss: 1.0271 - accuracy: 0.6165 - val_loss: 1.0022 - val_accuracy: 0.6308\n",
      "Epoch 4/20\n",
      "334/334 [==============================] - 18s 55ms/step - loss: 1.0085 - accuracy: 0.6167 - val_loss: 0.9822 - val_accuracy: 0.6308\n",
      "Epoch 5/20\n",
      "334/334 [==============================] - 18s 53ms/step - loss: 0.9898 - accuracy: 0.6161 - val_loss: 0.9662 - val_accuracy: 0.6308\n",
      "Epoch 6/20\n",
      "334/334 [==============================] - 15s 46ms/step - loss: 0.9744 - accuracy: 0.6163 - val_loss: 0.9558 - val_accuracy: 0.6317\n",
      "Epoch 6: early stopping\n"
     ]
    },
    {
     "data": {
      "text/plain": [
       "<keras.callbacks.History at 0x7f15b1685950>"
      ]
     },
     "execution_count": 12,
     "metadata": {},
     "output_type": "execute_result"
    }
   ],
   "source": [
    "#Train model\n",
    "model3.fit(X_image, y_price, validation_split=0.3, batch_size = batch, epochs = epoch\n",
    "           , callbacks = [es])"
   ]
  },
  {
   "cell_type": "code",
   "execution_count": 13,
   "metadata": {
    "colab": {
     "base_uri": "https://localhost:8080/",
     "height": 49,
     "referenced_widgets": [
      "64b77aa4c35d4eb08064de5e15893d8e",
      "fc7e58c0285d4acf918e9549d1b75e2c",
      "11afba12f1504eef81e8fe924f4c1241",
      "73caf98c01e64a9182c0693f6bbb1bd2",
      "e6bdfff811774a54bcdaf03a5b2475e4",
      "c2511ea186584958ad3e8a6861cd56aa",
      "736719ab616a432abd38d07eb3f1df7a",
      "65b57292c9b342029cac0504614d903d",
      "db4689b4862847e68b9ed3e189991bf6",
      "2428836a7e7d4079bd6ab551d1805fdf",
      "2c373d9d35c24bacb3f11832800ebeac"
     ]
    },
    "id": "c4_CKglwLw0d",
    "outputId": "a291571e-1419-4301-9237-9df4543b723e"
   },
   "outputs": [
    {
     "data": {
      "application/vnd.jupyter.widget-view+json": {
       "model_id": "64b77aa4c35d4eb08064de5e15893d8e",
       "version_major": 2,
       "version_minor": 0
      },
      "text/plain": [
       "  0%|          | 0/7360 [00:00<?, ?it/s]"
      ]
     },
     "metadata": {},
     "output_type": "display_data"
    }
   ],
   "source": [
    "#load test images\n",
    "X_test_image = np.array([load_image(i) for i in tqdm(df_test.image)])"
   ]
  },
  {
   "cell_type": "code",
   "execution_count": 14,
   "metadata": {
    "colab": {
     "base_uri": "https://localhost:8080/"
    },
    "id": "KpeyXFupI9_E",
    "outputId": "f0a46231-b64a-44db-f0bb-943703caeac8"
   },
   "outputs": [
    {
     "data": {
      "text/plain": [
       "(7360, 3)"
      ]
     },
     "execution_count": 14,
     "metadata": {},
     "output_type": "execute_result"
    }
   ],
   "source": [
    "#predict and save to file\n",
    "y_hat = model3.predict(X_test_image)\n",
    "y_hat.shape"
   ]
  },
  {
   "cell_type": "code",
   "execution_count": 15,
   "metadata": {
    "id": "TihY4be6I9_E"
   },
   "outputs": [],
   "source": [
    "price_predicted = np.argmax(y_hat, axis=1)\n",
    "\n",
    "dummy  = pd.DataFrame({'id': df_test.id, 'price': price_predicted})\n",
    "dummy.to_csv('T3.2.csv', index=False)"
   ]
  },
  {
   "cell_type": "markdown",
   "metadata": {
    "id": "P1rmSdRyI9_E"
   },
   "source": [
    "\n",
    "<a class=\"anchor\" id=\"t4\"></a>\n",
    "\n",
    "# Trail 4: Image Input with Dropout\n",
    "\n",
    "##  \n",
    "Image performed a little better that the text, with `val_accuracy`0.63 . it is a light change but it could mean that the text models were not extracting enough features.\n",
    "\n",
    "Here i'll add more conv layers, maybe this is what the text model needed ( more feature extraction) also, we 'll explore the effect of dropout layer over the model .\n",
    "Another slight change is the shape of the y_price, I will encode it wit oneHot, and change the loss to categorical instead of sparse_categorical, because i feel something iswrong there. maybe the previous code was wrong ?!\n",
    "\n",
    "**plan**\n",
    "- same design as Trial 3 \n",
    "- add dropout layers\n",
    "- add more conv layers \n",
    "- **corrective action** add class_weight "
   ]
  },
  {
   "cell_type": "code",
   "execution_count": 128,
   "metadata": {
    "colab": {
     "base_uri": "https://localhost:8080/"
    },
    "id": "ILhf7lSHI9_E",
    "outputId": "82cb27ac-a363-471b-8f7e-0ea8c38fe762"
   },
   "outputs": [
    {
     "name": "stdout",
     "output_type": "stream",
     "text": [
      "Model: \"sequential_13\"\n",
      "_________________________________________________________________\n",
      " Layer (type)                Output Shape              Param #   \n",
      "=================================================================\n",
      " conv2d_19 (Conv2D)          (None, 20, 20, 96)        14208     \n",
      "                                                                 \n",
      " max_pooling2d_14 (MaxPoolin  (None, 10, 10, 96)       0         \n",
      " g2D)                                                            \n",
      "                                                                 \n",
      " conv2d_20 (Conv2D)          (None, 6, 6, 384)         921984    \n",
      "                                                                 \n",
      " activation_15 (Activation)  (None, 6, 6, 384)         0         \n",
      "                                                                 \n",
      " max_pooling2d_15 (MaxPoolin  (None, 3, 3, 384)        0         \n",
      " g2D)                                                            \n",
      "                                                                 \n",
      " conv2d_21 (Conv2D)          (None, 1, 1, 256)         884992    \n",
      "                                                                 \n",
      " activation_16 (Activation)  (None, 1, 1, 256)         0         \n",
      "                                                                 \n",
      " flatten_7 (Flatten)         (None, 256)               0         \n",
      "                                                                 \n",
      " dense_18 (Dense)            (None, 128)               32896     \n",
      "                                                                 \n",
      " activation_17 (Activation)  (None, 128)               0         \n",
      "                                                                 \n",
      " dense_19 (Dense)            (None, 3)                 387       \n",
      "                                                                 \n",
      "=================================================================\n",
      "Total params: 1,854,467\n",
      "Trainable params: 1,854,467\n",
      "Non-trainable params: 0\n",
      "_________________________________________________________________\n"
     ]
    }
   ],
   "source": [
    "#build model\n",
    "model4 = Sequential()\n",
    "# 1st Convolutional Layer\n",
    "model4.add(Conv2D(filters=96, kernel_size=(7,7), strides=(3,3), \n",
    "                  padding='valid',activation = 'relu', \n",
    "                  input_shape =(64,64,3)))\n",
    "model4.add(MaxPooling2D(pool_size=(2,2), strides=(2,2), padding='same'))\n",
    "\n",
    "# 2nd Convolutional Layer\n",
    "model4.add(Conv2D(filters=384, kernel_size=(5,5), strides=(1,1), padding='valid'))\n",
    "model4.add(Activation('relu'))\n",
    "model4.add(MaxPooling2D(pool_size=(2,2), strides=(2,2), padding='same'))\n",
    "# Add Dropout to prevent overfitting\n",
    "model4.add(Dropout(0.4))\n",
    "# 3rd Convolutional Layer\n",
    "model4.add(Conv2D(filters=256, kernel_size=(3,3), strides=(1,1), padding='valid'))\n",
    "model4.add(Activation('relu'))\n",
    "\n",
    "#flatten the output\n",
    "model4.add(Flatten())\n",
    "\n",
    "#add fully connected\n",
    "model4.add(Dense(128, input_shape=(64*64*3,), \n",
    "                 kernel_regularizer=l2(0.02),\n",
    "                 bias_regularizer=l2(0.02),\n",
    "                activity_regularizer=l2(0.02) ) )\n",
    "model4.add(Activation('relu'))\n",
    "model4.add(Dense(prices_no,  activation= 'softmax'))\n",
    "\n",
    "model4.summary()"
   ]
  },
  {
   "cell_type": "code",
   "execution_count": 129,
   "metadata": {
    "id": "Eo_4IiTQI9_E"
   },
   "outputs": [],
   "source": [
    "# turn the y_price into sparse (do oneHot encoding)\n",
    "from keras.utils import np_utils\n",
    "y_price = df.price\n",
    "y_price_sparse = np_utils.to_categorical(y_price)"
   ]
  },
  {
   "cell_type": "code",
   "execution_count": 130,
   "metadata": {
    "id": "8qI-KSAFI9_F"
   },
   "outputs": [],
   "source": [
    "#compile model\n",
    "# available optimizers: SGD, Adadelta, Adam, Adamax ,Adagrad, RMSprop, Nadam\n",
    "optimizer = Adamax(learning_rate=0.1)\n",
    "batch = 32\n",
    "epoch = 20\n",
    "#add early stopping\n",
    "es = EarlyStopping(monitor='val_accuracy', mode='max', verbose=1, patience=5)\n",
    "model4.compile(loss='categorical_crossentropy', optimizer= optimizer,\n",
    "               metrics=['accuracy'])"
   ]
  },
  {
   "cell_type": "code",
   "execution_count": 131,
   "metadata": {
    "id": "_3rEAYrNI9_F"
   },
   "outputs": [
    {
     "name": "stdout",
     "output_type": "stream",
     "text": [
      "Epoch 1/20\n",
      "191/191 [==============================] - 70s 363ms/step - loss: 29222408028160.0000 - accuracy: 0.5617 - val_loss: 28.3746 - val_accuracy: 0.3119\n",
      "Epoch 2/20\n",
      "191/191 [==============================] - 72s 378ms/step - loss: 1389.4868 - accuracy: 0.4747 - val_loss: 26.1636 - val_accuracy: 0.3119\n",
      "Epoch 3/20\n",
      "191/191 [==============================] - 72s 378ms/step - loss: 451.0813 - accuracy: 0.6120 - val_loss: 19.3119 - val_accuracy: 0.6245\n",
      "Epoch 4/20\n",
      "191/191 [==============================] - 75s 393ms/step - loss: 163.1584 - accuracy: 0.5920 - val_loss: 17.0149 - val_accuracy: 0.6245\n",
      "Epoch 5/20\n",
      "191/191 [==============================] - 74s 386ms/step - loss: 65.8410 - accuracy: 0.6197 - val_loss: 15.2603 - val_accuracy: 0.6245\n",
      "Epoch 6/20\n",
      "191/191 [==============================] - 70s 369ms/step - loss: 51.5930 - accuracy: 0.6173 - val_loss: 14.0253 - val_accuracy: 0.6245\n",
      "Epoch 7/20\n",
      "191/191 [==============================] - 73s 380ms/step - loss: 52.4268 - accuracy: 0.6197 - val_loss: 12.9688 - val_accuracy: 0.6245\n",
      "Epoch 8/20\n",
      "191/191 [==============================] - 73s 384ms/step - loss: 85.5976 - accuracy: 0.6058 - val_loss: 12.4087 - val_accuracy: 0.6245\n",
      "Epoch 8: early stopping\n"
     ]
    },
    {
     "data": {
      "text/plain": [
       "<keras.callbacks.History at 0x1ea2146b8b0>"
      ]
     },
     "execution_count": 131,
     "metadata": {},
     "output_type": "execute_result"
    }
   ],
   "source": [
    "#define class weights\n",
    "class_weight={\n",
    "                   0: 4,\n",
    "                   1: 2,\n",
    "                   2: 1\n",
    "               }\n",
    "model4.fit(X_image, y_price_sparse,\n",
    "           validation_split=0.2, batch_size = batch, epochs = epoch\n",
    "           , callbacks = [es] , class_weight=None )"
   ]
  },
  {
   "cell_type": "markdown",
   "metadata": {},
   "source": [
    "**Something is wrong, my model's `val_accuracy` is oscillating between two values, two FIXED values.\n",
    "Lets check the model prediction on the training set**"
   ]
  },
  {
   "cell_type": "code",
   "execution_count": 34,
   "metadata": {},
   "outputs": [],
   "source": [
    "# predict the same trainig set to compare results for each class\n",
    "y_report = model4.predict(X_image)"
   ]
  },
  {
   "cell_type": "code",
   "execution_count": 36,
   "metadata": {},
   "outputs": [
    {
     "data": {
      "text/plain": [
       "'              precision    recall  f1-score   support\\n\\n           0       0.62      1.00      0.77      4737\\n           1       1.00      0.00      0.00      2403\\n           2       1.00      0.00      0.00       487\\n\\n    accuracy                           0.62      7627\\n   macro avg       0.87      0.33      0.26      7627\\nweighted avg       0.76      0.62      0.48      7627\\n'"
      ]
     },
     "execution_count": 36,
     "metadata": {},
     "output_type": "execute_result"
    }
   ],
   "source": [
    "from sklearn.metrics import classification_report\n",
    "classification_report(y_price.values, np.argmax(y_report, axis=1), zero_division=True)"
   ]
  },
  {
   "cell_type": "markdown",
   "metadata": {},
   "source": [
    "**WHAT?!** \n",
    "Class 1 and 2 have no output.\n",
    "\n",
    "Lets douple check withthe distribution"
   ]
  },
  {
   "cell_type": "code",
   "execution_count": 132,
   "metadata": {},
   "outputs": [
    {
     "data": {
      "text/plain": [
       "array([0], dtype=int64)"
      ]
     },
     "execution_count": 132,
     "metadata": {},
     "output_type": "execute_result"
    }
   ],
   "source": [
    "np.unique(y_report)"
   ]
  },
  {
   "cell_type": "markdown",
   "metadata": {},
   "source": [
    ">So the model is not learning at all, it is just predicting one value, one class\n"
   ]
  },
  {
   "cell_type": "markdown",
   "metadata": {},
   "source": [
    "<a class=\"anchor\" id=\"t4.1\"></a>\n",
    "# Trial 4.1: AlexNet Architecture\n",
    "**observations:**\n",
    "\n",
    "Nothing is making the model learn so far. It keeps predicting one class or the other. What does this mean?!\n",
    "\n",
    "Is it the architecture? is my design week and can't extract features? \n",
    "\n",
    "- so lets make sure it is not the archetecture by running AlexNet archeticture.\n",
    "\n",
    "**plan:**\n",
    "I loaded the images with size (224, 224, 3) for the original AlexNet architecture, And ran it for 3 epochs. Any more epochs would crach my pc, and google colab was not giving me enough RAM for the image loading.\n",
    "\n",
    "so here is the structure"
   ]
  },
  {
   "cell_type": "code",
   "execution_count": 12,
   "metadata": {
    "colab": {
     "base_uri": "https://localhost:8080/"
    },
    "id": "xQnWEtaoI9_E",
    "outputId": "cae0dcc7-de6f-4d9a-b7f4-9cc95eb998d2"
   },
   "outputs": [
    {
     "name": "stdout",
     "output_type": "stream",
     "text": [
      "Model: \"sequential\"\n",
      "_________________________________________________________________\n",
      " Layer (type)                Output Shape              Param #   \n",
      "=================================================================\n",
      " conv2d (Conv2D)             (None, 54, 54, 96)        34944     \n",
      "                                                                 \n",
      " activation (Activation)     (None, 54, 54, 96)        0         \n",
      "                                                                 \n",
      " max_pooling2d (MaxPooling2D  (None, 27, 27, 96)       0         \n",
      " )                                                               \n",
      "                                                                 \n",
      " conv2d_1 (Conv2D)           (None, 17, 17, 256)       2973952   \n",
      "                                                                 \n",
      " activation_1 (Activation)   (None, 17, 17, 256)       0         \n",
      "                                                                 \n",
      " max_pooling2d_1 (MaxPooling  (None, 8, 8, 256)        0         \n",
      " 2D)                                                             \n",
      "                                                                 \n",
      " conv2d_2 (Conv2D)           (None, 6, 6, 384)         885120    \n",
      "                                                                 \n",
      " activation_2 (Activation)   (None, 6, 6, 384)         0         \n",
      "                                                                 \n",
      " conv2d_3 (Conv2D)           (None, 4, 4, 384)         1327488   \n",
      "                                                                 \n",
      " activation_3 (Activation)   (None, 4, 4, 384)         0         \n",
      "                                                                 \n",
      " conv2d_4 (Conv2D)           (None, 2, 2, 256)         884992    \n",
      "                                                                 \n",
      " activation_4 (Activation)   (None, 2, 2, 256)         0         \n",
      "                                                                 \n",
      " max_pooling2d_2 (MaxPooling  (None, 1, 1, 256)        0         \n",
      " 2D)                                                             \n",
      "                                                                 \n",
      " flatten (Flatten)           (None, 256)               0         \n",
      "                                                                 \n",
      " dense (Dense)               (None, 4096)              1052672   \n",
      "                                                                 \n",
      " activation_5 (Activation)   (None, 4096)              0         \n",
      "                                                                 \n",
      " dropout (Dropout)           (None, 4096)              0         \n",
      "                                                                 \n",
      " dense_1 (Dense)             (None, 4096)              16781312  \n",
      "                                                                 \n",
      " activation_6 (Activation)   (None, 4096)              0         \n",
      "                                                                 \n",
      " dropout_1 (Dropout)         (None, 4096)              0         \n",
      "                                                                 \n",
      " dense_2 (Dense)             (None, 3)                 12291     \n",
      "                                                                 \n",
      " activation_7 (Activation)   (None, 3)                 0         \n",
      "                                                                 \n",
      "=================================================================\n",
      "Total params: 23,952,771\n",
      "Trainable params: 23,952,771\n",
      "Non-trainable params: 0\n",
      "_________________________________________________________________\n"
     ]
    }
   ],
   "source": [
    "model_alex = Sequential()\n",
    "model_alex.add(Conv2D(filters=96, kernel_size=(11,11), strides=(4,4), padding='valid', input_shape = X_image.shape[1:]))\n",
    "model_alex.add(Activation('relu'))\n",
    "model_alex.add(MaxPooling2D(pool_size=(2,2), strides=(2,2), padding='valid'))\n",
    "\n",
    "# 2nd Convolutional Layer\n",
    "model_alex.add(Conv2D(filters=256, kernel_size=(11,11), strides=(1,1), padding='valid'))\n",
    "model_alex.add(Activation('relu'))\n",
    "model_alex.add(MaxPooling2D(pool_size=(2,2), strides=(2,2), padding='valid'))\n",
    "\n",
    "# 3rd Convolutional Layer\n",
    "model_alex.add(Conv2D(filters=384, kernel_size=(3,3), strides=(1,1), padding='valid'))\n",
    "model_alex.add(Activation('relu'))\n",
    "\n",
    "# 4th Convolutional Layer\n",
    "model_alex.add(Conv2D(filters=384, kernel_size=(3,3), strides=(1,1), padding='valid'))\n",
    "model_alex.add(Activation('relu'))\n",
    "\n",
    "# 5th Convolutional Layer\n",
    "model_alex.add(Conv2D(filters=256, kernel_size=(3,3), strides=(1,1), padding='valid'))\n",
    "model_alex.add(Activation('relu'))\n",
    "model_alex.add(MaxPooling2D(pool_size=(2,2), strides=(2,2), padding='valid'))\n",
    "\n",
    "# Passing it to a Fully Connected layer\n",
    "model_alex.add(Flatten())\n",
    "\n",
    "# 1st Fully Connected Layer\n",
    "model_alex.add(Dense(4096, input_shape=(224*224*3,)))\n",
    "model_alex.add(Activation('relu'))\n",
    "# Add Dropout to prevent overfitting\n",
    "model_alex.add(Dropout(0.4))\n",
    "\n",
    "# 2nd Fully Connected Layer\n",
    "model_alex.add(Dense(4096))\n",
    "model_alex.add(Activation('relu'))\n",
    "# Add Dropout\n",
    "model_alex.add(Dropout(0.4))\n",
    "\n",
    "# 3rd Fully Connected Layer\n",
    "model_alex.add(Dense(3))\n",
    "model_alex.add(Activation('softmax'))\n",
    "\n",
    "model_alex.summary()"
   ]
  },
  {
   "cell_type": "code",
   "execution_count": 13,
   "metadata": {
    "id": "8qI-KSAFI9_F"
   },
   "outputs": [],
   "source": [
    "#compile model\n",
    "# available optimizers: SGD, Adadelta, Adam, Adamax ,Adagrad, RMSprop, Nadam\n",
    "optimizer = Adamax(learning_rate=0.1)\n",
    "batch = 32\n",
    "epoch = 20\n",
    "#add early stopping\n",
    "es = EarlyStopping(monitor='val_accuracy', mode='max', verbose=1, patience=5)\n",
    "model_alex.compile(loss='sparse_categorical_crossentropy', optimizer= optimizer,\n",
    "               metrics=['accuracy'])"
   ]
  },
  {
   "cell_type": "code",
   "execution_count": 14,
   "metadata": {
    "id": "_3rEAYrNI9_F"
   },
   "outputs": [
    {
     "name": "stdout",
     "output_type": "stream",
     "text": [
      "Epoch 1/20\n",
      "191/191 [==============================] - 160s 754ms/step - loss: 329635216752640.0000 - accuracy: 0.4086 - val_loss: 1401.9788 - val_accuracy: 0.6245\n",
      "Epoch 2/20\n",
      "191/191 [==============================] - 136s 711ms/step - loss: 117291.1797 - accuracy: 0.4471 - val_loss: 46.6714 - val_accuracy: 0.6252\n",
      "Epoch 3/20\n",
      "191/191 [==============================] - 135s 708ms/step - loss: 1226.8993 - accuracy: 0.5555 - val_loss: 0.9283 - val_accuracy: 0.6252\n",
      "Epoch 4/20\n",
      " 30/191 [===>..........................] - ETA: 1:47 - loss: 1.3519 - accuracy: 0.5615"
     ]
    },
    {
     "ename": "KeyboardInterrupt",
     "evalue": "",
     "output_type": "error",
     "traceback": [
      "\u001b[1;31m---------------------------------------------------------------------------\u001b[0m",
      "\u001b[1;31mKeyboardInterrupt\u001b[0m                         Traceback (most recent call last)",
      "\u001b[1;32m<ipython-input-14-31334b8f0377>\u001b[0m in \u001b[0;36m<module>\u001b[1;34m\u001b[0m\n\u001b[0;32m      5\u001b[0m                    \u001b[1;36m2\u001b[0m\u001b[1;33m:\u001b[0m \u001b[1;36m4\u001b[0m\u001b[1;33m\u001b[0m\u001b[1;33m\u001b[0m\u001b[0m\n\u001b[0;32m      6\u001b[0m                }\n\u001b[1;32m----> 7\u001b[1;33m model_alex.fit(X_image, y_price, validation_split=0.2, batch_size = batch, epochs = epoch\n\u001b[0m\u001b[0;32m      8\u001b[0m            , callbacks = [es] , class_weight=class_weight )\n",
      "\u001b[1;32m~\\AppData\\Roaming\\Python\\Python38\\site-packages\\keras\\utils\\traceback_utils.py\u001b[0m in \u001b[0;36merror_handler\u001b[1;34m(*args, **kwargs)\u001b[0m\n\u001b[0;32m     62\u001b[0m     \u001b[0mfiltered_tb\u001b[0m \u001b[1;33m=\u001b[0m \u001b[1;32mNone\u001b[0m\u001b[1;33m\u001b[0m\u001b[1;33m\u001b[0m\u001b[0m\n\u001b[0;32m     63\u001b[0m     \u001b[1;32mtry\u001b[0m\u001b[1;33m:\u001b[0m\u001b[1;33m\u001b[0m\u001b[1;33m\u001b[0m\u001b[0m\n\u001b[1;32m---> 64\u001b[1;33m       \u001b[1;32mreturn\u001b[0m \u001b[0mfn\u001b[0m\u001b[1;33m(\u001b[0m\u001b[1;33m*\u001b[0m\u001b[0margs\u001b[0m\u001b[1;33m,\u001b[0m \u001b[1;33m**\u001b[0m\u001b[0mkwargs\u001b[0m\u001b[1;33m)\u001b[0m\u001b[1;33m\u001b[0m\u001b[1;33m\u001b[0m\u001b[0m\n\u001b[0m\u001b[0;32m     65\u001b[0m     \u001b[1;32mexcept\u001b[0m \u001b[0mException\u001b[0m \u001b[1;32mas\u001b[0m \u001b[0me\u001b[0m\u001b[1;33m:\u001b[0m  \u001b[1;31m# pylint: disable=broad-except\u001b[0m\u001b[1;33m\u001b[0m\u001b[1;33m\u001b[0m\u001b[0m\n\u001b[0;32m     66\u001b[0m       \u001b[0mfiltered_tb\u001b[0m \u001b[1;33m=\u001b[0m \u001b[0m_process_traceback_frames\u001b[0m\u001b[1;33m(\u001b[0m\u001b[0me\u001b[0m\u001b[1;33m.\u001b[0m\u001b[0m__traceback__\u001b[0m\u001b[1;33m)\u001b[0m\u001b[1;33m\u001b[0m\u001b[1;33m\u001b[0m\u001b[0m\n",
      "\u001b[1;32m~\\AppData\\Roaming\\Python\\Python38\\site-packages\\keras\\engine\\training.py\u001b[0m in \u001b[0;36mfit\u001b[1;34m(self, x, y, batch_size, epochs, verbose, callbacks, validation_split, validation_data, shuffle, class_weight, sample_weight, initial_epoch, steps_per_epoch, validation_steps, validation_batch_size, validation_freq, max_queue_size, workers, use_multiprocessing)\u001b[0m\n\u001b[0;32m   1382\u001b[0m                 _r=1):\n\u001b[0;32m   1383\u001b[0m               \u001b[0mcallbacks\u001b[0m\u001b[1;33m.\u001b[0m\u001b[0mon_train_batch_begin\u001b[0m\u001b[1;33m(\u001b[0m\u001b[0mstep\u001b[0m\u001b[1;33m)\u001b[0m\u001b[1;33m\u001b[0m\u001b[1;33m\u001b[0m\u001b[0m\n\u001b[1;32m-> 1384\u001b[1;33m               \u001b[0mtmp_logs\u001b[0m \u001b[1;33m=\u001b[0m \u001b[0mself\u001b[0m\u001b[1;33m.\u001b[0m\u001b[0mtrain_function\u001b[0m\u001b[1;33m(\u001b[0m\u001b[0miterator\u001b[0m\u001b[1;33m)\u001b[0m\u001b[1;33m\u001b[0m\u001b[1;33m\u001b[0m\u001b[0m\n\u001b[0m\u001b[0;32m   1385\u001b[0m               \u001b[1;32mif\u001b[0m \u001b[0mdata_handler\u001b[0m\u001b[1;33m.\u001b[0m\u001b[0mshould_sync\u001b[0m\u001b[1;33m:\u001b[0m\u001b[1;33m\u001b[0m\u001b[1;33m\u001b[0m\u001b[0m\n\u001b[0;32m   1386\u001b[0m                 \u001b[0mcontext\u001b[0m\u001b[1;33m.\u001b[0m\u001b[0masync_wait\u001b[0m\u001b[1;33m(\u001b[0m\u001b[1;33m)\u001b[0m\u001b[1;33m\u001b[0m\u001b[1;33m\u001b[0m\u001b[0m\n",
      "\u001b[1;32m~\\AppData\\Roaming\\Python\\Python38\\site-packages\\tensorflow\\python\\util\\traceback_utils.py\u001b[0m in \u001b[0;36merror_handler\u001b[1;34m(*args, **kwargs)\u001b[0m\n\u001b[0;32m    148\u001b[0m     \u001b[0mfiltered_tb\u001b[0m \u001b[1;33m=\u001b[0m \u001b[1;32mNone\u001b[0m\u001b[1;33m\u001b[0m\u001b[1;33m\u001b[0m\u001b[0m\n\u001b[0;32m    149\u001b[0m     \u001b[1;32mtry\u001b[0m\u001b[1;33m:\u001b[0m\u001b[1;33m\u001b[0m\u001b[1;33m\u001b[0m\u001b[0m\n\u001b[1;32m--> 150\u001b[1;33m       \u001b[1;32mreturn\u001b[0m \u001b[0mfn\u001b[0m\u001b[1;33m(\u001b[0m\u001b[1;33m*\u001b[0m\u001b[0margs\u001b[0m\u001b[1;33m,\u001b[0m \u001b[1;33m**\u001b[0m\u001b[0mkwargs\u001b[0m\u001b[1;33m)\u001b[0m\u001b[1;33m\u001b[0m\u001b[1;33m\u001b[0m\u001b[0m\n\u001b[0m\u001b[0;32m    151\u001b[0m     \u001b[1;32mexcept\u001b[0m \u001b[0mException\u001b[0m \u001b[1;32mas\u001b[0m \u001b[0me\u001b[0m\u001b[1;33m:\u001b[0m\u001b[1;33m\u001b[0m\u001b[1;33m\u001b[0m\u001b[0m\n\u001b[0;32m    152\u001b[0m       \u001b[0mfiltered_tb\u001b[0m \u001b[1;33m=\u001b[0m \u001b[0m_process_traceback_frames\u001b[0m\u001b[1;33m(\u001b[0m\u001b[0me\u001b[0m\u001b[1;33m.\u001b[0m\u001b[0m__traceback__\u001b[0m\u001b[1;33m)\u001b[0m\u001b[1;33m\u001b[0m\u001b[1;33m\u001b[0m\u001b[0m\n",
      "\u001b[1;32m~\\AppData\\Roaming\\Python\\Python38\\site-packages\\tensorflow\\python\\eager\\def_function.py\u001b[0m in \u001b[0;36m__call__\u001b[1;34m(self, *args, **kwds)\u001b[0m\n\u001b[0;32m    913\u001b[0m \u001b[1;33m\u001b[0m\u001b[0m\n\u001b[0;32m    914\u001b[0m       \u001b[1;32mwith\u001b[0m \u001b[0mOptionalXlaContext\u001b[0m\u001b[1;33m(\u001b[0m\u001b[0mself\u001b[0m\u001b[1;33m.\u001b[0m\u001b[0m_jit_compile\u001b[0m\u001b[1;33m)\u001b[0m\u001b[1;33m:\u001b[0m\u001b[1;33m\u001b[0m\u001b[1;33m\u001b[0m\u001b[0m\n\u001b[1;32m--> 915\u001b[1;33m         \u001b[0mresult\u001b[0m \u001b[1;33m=\u001b[0m \u001b[0mself\u001b[0m\u001b[1;33m.\u001b[0m\u001b[0m_call\u001b[0m\u001b[1;33m(\u001b[0m\u001b[1;33m*\u001b[0m\u001b[0margs\u001b[0m\u001b[1;33m,\u001b[0m \u001b[1;33m**\u001b[0m\u001b[0mkwds\u001b[0m\u001b[1;33m)\u001b[0m\u001b[1;33m\u001b[0m\u001b[1;33m\u001b[0m\u001b[0m\n\u001b[0m\u001b[0;32m    916\u001b[0m \u001b[1;33m\u001b[0m\u001b[0m\n\u001b[0;32m    917\u001b[0m       \u001b[0mnew_tracing_count\u001b[0m \u001b[1;33m=\u001b[0m \u001b[0mself\u001b[0m\u001b[1;33m.\u001b[0m\u001b[0mexperimental_get_tracing_count\u001b[0m\u001b[1;33m(\u001b[0m\u001b[1;33m)\u001b[0m\u001b[1;33m\u001b[0m\u001b[1;33m\u001b[0m\u001b[0m\n",
      "\u001b[1;32m~\\AppData\\Roaming\\Python\\Python38\\site-packages\\tensorflow\\python\\eager\\def_function.py\u001b[0m in \u001b[0;36m_call\u001b[1;34m(self, *args, **kwds)\u001b[0m\n\u001b[0;32m    945\u001b[0m       \u001b[1;31m# In this case we have created variables on the first call, so we run the\u001b[0m\u001b[1;33m\u001b[0m\u001b[1;33m\u001b[0m\u001b[1;33m\u001b[0m\u001b[0m\n\u001b[0;32m    946\u001b[0m       \u001b[1;31m# defunned version which is guaranteed to never create variables.\u001b[0m\u001b[1;33m\u001b[0m\u001b[1;33m\u001b[0m\u001b[1;33m\u001b[0m\u001b[0m\n\u001b[1;32m--> 947\u001b[1;33m       \u001b[1;32mreturn\u001b[0m \u001b[0mself\u001b[0m\u001b[1;33m.\u001b[0m\u001b[0m_stateless_fn\u001b[0m\u001b[1;33m(\u001b[0m\u001b[1;33m*\u001b[0m\u001b[0margs\u001b[0m\u001b[1;33m,\u001b[0m \u001b[1;33m**\u001b[0m\u001b[0mkwds\u001b[0m\u001b[1;33m)\u001b[0m  \u001b[1;31m# pylint: disable=not-callable\u001b[0m\u001b[1;33m\u001b[0m\u001b[1;33m\u001b[0m\u001b[0m\n\u001b[0m\u001b[0;32m    948\u001b[0m     \u001b[1;32melif\u001b[0m \u001b[0mself\u001b[0m\u001b[1;33m.\u001b[0m\u001b[0m_stateful_fn\u001b[0m \u001b[1;32mis\u001b[0m \u001b[1;32mnot\u001b[0m \u001b[1;32mNone\u001b[0m\u001b[1;33m:\u001b[0m\u001b[1;33m\u001b[0m\u001b[1;33m\u001b[0m\u001b[0m\n\u001b[0;32m    949\u001b[0m       \u001b[1;31m# Release the lock early so that multiple threads can perform the call\u001b[0m\u001b[1;33m\u001b[0m\u001b[1;33m\u001b[0m\u001b[1;33m\u001b[0m\u001b[0m\n",
      "\u001b[1;32m~\\AppData\\Roaming\\Python\\Python38\\site-packages\\tensorflow\\python\\eager\\function.py\u001b[0m in \u001b[0;36m__call__\u001b[1;34m(self, *args, **kwargs)\u001b[0m\n\u001b[0;32m   2954\u001b[0m       (graph_function,\n\u001b[0;32m   2955\u001b[0m        filtered_flat_args) = self._maybe_define_function(args, kwargs)\n\u001b[1;32m-> 2956\u001b[1;33m     return graph_function._call_flat(\n\u001b[0m\u001b[0;32m   2957\u001b[0m         filtered_flat_args, captured_inputs=graph_function.captured_inputs)  # pylint: disable=protected-access\n\u001b[0;32m   2958\u001b[0m \u001b[1;33m\u001b[0m\u001b[0m\n",
      "\u001b[1;32m~\\AppData\\Roaming\\Python\\Python38\\site-packages\\tensorflow\\python\\eager\\function.py\u001b[0m in \u001b[0;36m_call_flat\u001b[1;34m(self, args, captured_inputs, cancellation_manager)\u001b[0m\n\u001b[0;32m   1851\u001b[0m         and executing_eagerly):\n\u001b[0;32m   1852\u001b[0m       \u001b[1;31m# No tape is watching; skip to running the function.\u001b[0m\u001b[1;33m\u001b[0m\u001b[1;33m\u001b[0m\u001b[1;33m\u001b[0m\u001b[0m\n\u001b[1;32m-> 1853\u001b[1;33m       return self._build_call_outputs(self._inference_function.call(\n\u001b[0m\u001b[0;32m   1854\u001b[0m           ctx, args, cancellation_manager=cancellation_manager))\n\u001b[0;32m   1855\u001b[0m     forward_backward = self._select_forward_and_backward_functions(\n",
      "\u001b[1;32m~\\AppData\\Roaming\\Python\\Python38\\site-packages\\tensorflow\\python\\eager\\function.py\u001b[0m in \u001b[0;36mcall\u001b[1;34m(self, ctx, args, cancellation_manager)\u001b[0m\n\u001b[0;32m    497\u001b[0m       \u001b[1;32mwith\u001b[0m \u001b[0m_InterpolateFunctionError\u001b[0m\u001b[1;33m(\u001b[0m\u001b[0mself\u001b[0m\u001b[1;33m)\u001b[0m\u001b[1;33m:\u001b[0m\u001b[1;33m\u001b[0m\u001b[1;33m\u001b[0m\u001b[0m\n\u001b[0;32m    498\u001b[0m         \u001b[1;32mif\u001b[0m \u001b[0mcancellation_manager\u001b[0m \u001b[1;32mis\u001b[0m \u001b[1;32mNone\u001b[0m\u001b[1;33m:\u001b[0m\u001b[1;33m\u001b[0m\u001b[1;33m\u001b[0m\u001b[0m\n\u001b[1;32m--> 499\u001b[1;33m           outputs = execute.execute(\n\u001b[0m\u001b[0;32m    500\u001b[0m               \u001b[0mstr\u001b[0m\u001b[1;33m(\u001b[0m\u001b[0mself\u001b[0m\u001b[1;33m.\u001b[0m\u001b[0msignature\u001b[0m\u001b[1;33m.\u001b[0m\u001b[0mname\u001b[0m\u001b[1;33m)\u001b[0m\u001b[1;33m,\u001b[0m\u001b[1;33m\u001b[0m\u001b[1;33m\u001b[0m\u001b[0m\n\u001b[0;32m    501\u001b[0m               \u001b[0mnum_outputs\u001b[0m\u001b[1;33m=\u001b[0m\u001b[0mself\u001b[0m\u001b[1;33m.\u001b[0m\u001b[0m_num_outputs\u001b[0m\u001b[1;33m,\u001b[0m\u001b[1;33m\u001b[0m\u001b[1;33m\u001b[0m\u001b[0m\n",
      "\u001b[1;32m~\\AppData\\Roaming\\Python\\Python38\\site-packages\\tensorflow\\python\\eager\\execute.py\u001b[0m in \u001b[0;36mquick_execute\u001b[1;34m(op_name, num_outputs, inputs, attrs, ctx, name)\u001b[0m\n\u001b[0;32m     52\u001b[0m   \u001b[1;32mtry\u001b[0m\u001b[1;33m:\u001b[0m\u001b[1;33m\u001b[0m\u001b[1;33m\u001b[0m\u001b[0m\n\u001b[0;32m     53\u001b[0m     \u001b[0mctx\u001b[0m\u001b[1;33m.\u001b[0m\u001b[0mensure_initialized\u001b[0m\u001b[1;33m(\u001b[0m\u001b[1;33m)\u001b[0m\u001b[1;33m\u001b[0m\u001b[1;33m\u001b[0m\u001b[0m\n\u001b[1;32m---> 54\u001b[1;33m     tensors = pywrap_tfe.TFE_Py_Execute(ctx._handle, device_name, op_name,\n\u001b[0m\u001b[0;32m     55\u001b[0m                                         inputs, attrs, num_outputs)\n\u001b[0;32m     56\u001b[0m   \u001b[1;32mexcept\u001b[0m \u001b[0mcore\u001b[0m\u001b[1;33m.\u001b[0m\u001b[0m_NotOkStatusException\u001b[0m \u001b[1;32mas\u001b[0m \u001b[0me\u001b[0m\u001b[1;33m:\u001b[0m\u001b[1;33m\u001b[0m\u001b[1;33m\u001b[0m\u001b[0m\n",
      "\u001b[1;31mKeyboardInterrupt\u001b[0m: "
     ]
    }
   ],
   "source": [
    "#Train model\n",
    "# class_weight={\n",
    "#                    0: 1,\n",
    "#                    1: 1,\n",
    "#                    2: 4\n",
    "#                }\n",
    "model_alex.fit(X_image, y_price, validation_split=0.2, batch_size = batch, epochs = epoch\n",
    "           , callbacks = [es]) # , class_weight=class_weight )"
   ]
  },
  {
   "cell_type": "markdown",
   "metadata": {},
   "source": [
    ">This was the output of the AlexNet structure, So the architecture is not te be blamed for our problem.\n",
    "\n",
    "**problem** model is predicting only one class ( the majority class), this could mean that the training is stuck at a local minima of the loss curve\n",
    "\n",
    "**solution:**\n",
    "Try Different Optimizer(something with momentum) and different learning rates, and maybe different initialization for the weights. if that doesn't work, change the loss function "
   ]
  },
  {
   "cell_type": "markdown",
   "metadata": {
    "id": "i938-wjFI9_F"
   },
   "source": [
    "<a class=\"anchor\" id=\"t5\"></a>\n",
    "\n",
    "# Trial 5: Multi-modality learning\n",
    " \n",
    "*means learn with both text and image to solve one task*\n",
    "**plan** build model to take in text and image input separatley then compine the result of their features togetherin one Fully connected layer to predict the price of the sample.\n",
    "\n",
    "Also use functional method to build the model, since we need to build its layers parallel in the beginning.\n",
    "\n",
    "- Try  different optimizers:\n",
    "- different learning rates\n",
    "- try to change the loss function"
   ]
  },
  {
   "cell_type": "code",
   "execution_count": 161,
   "metadata": {
    "id": "GIyaH9-1I9_F",
    "outputId": "608f6ee0-2722-4bb0-80cf-fc7c6ccd5d49",
    "scrolled": true
   },
   "outputs": [
    {
     "name": "stdout",
     "output_type": "stream",
     "text": [
      "Model: \"model_7\"\n",
      "__________________________________________________________________________________________________\n",
      " Layer (type)                   Output Shape         Param #     Connected to                     \n",
      "==================================================================================================\n",
      " input_22 (InputLayer)          [(None, 64, 64, 3)]  0           []                               \n",
      "                                                                                                  \n",
      " conv2d_52 (Conv2D)             (None, 60, 60, 32)   2432        ['input_22[0][0]']               \n",
      "                                                                                                  \n",
      " max_pooling2d_46 (MaxPooling2D  (None, 12, 12, 32)  0           ['conv2d_52[0][0]']              \n",
      " )                                                                                                \n",
      "                                                                                                  \n",
      " dropout_49 (Dropout)           (None, 12, 12, 32)   0           ['max_pooling2d_46[0][0]']       \n",
      "                                                                                                  \n",
      " conv2d_53 (Conv2D)             (None, 12, 12, 64)   18496       ['dropout_49[0][0]']             \n",
      "                                                                                                  \n",
      " max_pooling2d_47 (MaxPooling2D  (None, 4, 4, 64)    0           ['conv2d_53[0][0]']              \n",
      " )                                                                                                \n",
      "                                                                                                  \n",
      " input_21 (InputLayer)          [(None, 100)]        0           []                               \n",
      "                                                                                                  \n",
      " dropout_50 (Dropout)           (None, 4, 4, 64)     0           ['max_pooling2d_47[0][0]']       \n",
      "                                                                                                  \n",
      " embedding_14 (Embedding)       (None, 100, 100)     4000000     ['input_21[0][0]']               \n",
      "                                                                                                  \n",
      " conv2d_54 (Conv2D)             (None, 4, 4, 16)     9232        ['dropout_50[0][0]']             \n",
      "                                                                                                  \n",
      " lstm_22 (LSTM)                 (None, 100, 16)      7488        ['embedding_14[0][0]']           \n",
      "                                                                                                  \n",
      " max_pooling2d_48 (MaxPooling2D  (None, 1, 1, 16)    0           ['conv2d_54[0][0]']              \n",
      " )                                                                                                \n",
      "                                                                                                  \n",
      " dropout_48 (Dropout)           (None, 100, 16)      0           ['lstm_22[0][0]']                \n",
      "                                                                                                  \n",
      " dropout_51 (Dropout)           (None, 1, 1, 16)     0           ['max_pooling2d_48[0][0]']       \n",
      "                                                                                                  \n",
      " lstm_23 (LSTM)                 (None, 8)            800         ['dropout_48[0][0]']             \n",
      "                                                                                                  \n",
      " flatten_18 (Flatten)           (None, 16)           0           ['dropout_51[0][0]']             \n",
      "                                                                                                  \n",
      " tf.concat_10 (TFOpLambda)      (None, 24)           0           ['lstm_23[0][0]',                \n",
      "                                                                  'flatten_18[0][0]']             \n",
      "                                                                                                  \n",
      " price (Dense)                  (None, 3)            75          ['tf.concat_10[0][0]']           \n",
      "                                                                                                  \n",
      "==================================================================================================\n",
      "Total params: 4,038,523\n",
      "Trainable params: 4,038,523\n",
      "Non-trainable params: 0\n",
      "__________________________________________________________________________________________________\n"
     ]
    }
   ],
   "source": [
    "#build model\n",
    "#input layers\n",
    "in_text = keras.Input(batch_shape=(None, max_len))\n",
    "in_image = keras.Input(batch_shape=(None, 64, 64, 3)) #the image shape\n",
    "\n",
    "\n",
    "#embedding layer for text input\n",
    "embedded = keras.layers.Embedding(vocab_size, 100)(in_text)\n",
    "#1st LSTM\n",
    "lstm1 = LSTM(16, \n",
    "                activation = 'tanh', \n",
    "                kernel_regularizer=l1(0.01),\n",
    "                recurrent_regularizer=l1(0.01),\n",
    "                bias_regularizer=l1(0.01),return_sequences= True\n",
    "               )(embedded) \n",
    "drop_lstm1 = Dropout(0.5)(lstm1)\n",
    "\n",
    "#2nd LSTM\n",
    "lstm2 = LSTM(8, \n",
    "                activation = 'tanh', \n",
    "                kernel_regularizer=l1(0.01),\n",
    "                recurrent_regularizer=l1(0.01),\n",
    "                bias_regularizer=l1(0.01)\n",
    "               )(drop_lstm1)\n",
    "\n",
    "# image part \n",
    "# 1st conv\n",
    "cov1 = Conv2D(32, (5, 5), padding = 'valid',activation = 'relu')(in_image)\n",
    "pl1 = MaxPool2D((5, 5), padding='valid')(cov1)\n",
    "drop_conv1 = Dropout(0.5)(pl1)\n",
    "\n",
    "# 2nd conv\n",
    "#more filters to open up the space\n",
    "cov2 = Conv2D(64, (3, 3), padding = 'same',activation = 'relu')(drop_conv1)\n",
    "pl2 = MaxPool2D((3, 3), padding='valid')(cov2)\n",
    "drop_conv2 = Dropout(0.5)(pl2)\n",
    "\n",
    "# 3rd conv\n",
    "cov3 = Conv2D(16, (3, 3), padding = 'same',activation = 'relu')(drop_conv2)\n",
    "pl3 = MaxPool2D((3, 3), padding='valid')(cov3)\n",
    "drop_conv3 = Dropout(0.5)(pl3)\n",
    "\n",
    "flattened = Flatten()(drop_conv3)\n",
    "\n",
    "\n",
    "# fusion - combinig both\n",
    "fused = tf.concat([lstm2, flattened], axis=-1)\n",
    "\n",
    "#fully cnnected layer for the final prediction\n",
    "p_price = Dense(prices_no, activation='softmax', name='price')(fused)\n",
    "\n",
    "# define model input/output with dictionary.\n",
    "model5 = keras.Model(\n",
    "    inputs={\n",
    "        'summary': in_text,\n",
    "        'image': in_image\n",
    "    },\n",
    "    outputs=\n",
    "        p_price\n",
    ")\n",
    "\n",
    "model5.summary()"
   ]
  },
  {
   "cell_type": "code",
   "execution_count": 164,
   "metadata": {
    "id": "NzCm7aelI9_G"
   },
   "outputs": [],
   "source": [
    "#compile the model \n",
    "model5.compile(\n",
    "    optimizer=Adam(learning_rate=0.01),\n",
    "    loss= 'sparse_categorical_crossentropy',\n",
    "    metrics='SparseCategoricalAccuracy'\n",
    "\n",
    ")"
   ]
  },
  {
   "cell_type": "code",
   "execution_count": 166,
   "metadata": {
    "id": "UOtS-Fq6I9_G",
    "outputId": "736a643b-2872-4604-c268-19086ca66282"
   },
   "outputs": [
    {
     "name": "stdout",
     "output_type": "stream",
     "text": [
      "Epoch 1/20\n",
      "191/191 [==============================] - 53s 244ms/step - loss: 18.2543 - sparse_categorical_accuracy: 0.3172 - val_loss: 1.2607 - val_sparse_categorical_accuracy: 0.3119\n",
      "Epoch 2/20\n",
      "191/191 [==============================] - 45s 237ms/step - loss: 5.0058 - sparse_categorical_accuracy: 0.3158 - val_loss: 1.2346 - val_sparse_categorical_accuracy: 0.3119\n",
      "Epoch 3/20\n",
      "191/191 [==============================] - 47s 244ms/step - loss: 4.9935 - sparse_categorical_accuracy: 0.3158 - val_loss: 1.2406 - val_sparse_categorical_accuracy: 0.3119\n",
      "Epoch 4/20\n",
      "191/191 [==============================] - 47s 245ms/step - loss: 4.9859 - sparse_categorical_accuracy: 0.3158 - val_loss: 1.2092 - val_sparse_categorical_accuracy: 0.3119\n",
      "Epoch 5/20\n",
      "191/191 [==============================] - 46s 242ms/step - loss: 4.9789 - sparse_categorical_accuracy: 0.3158 - val_loss: 1.2402 - val_sparse_categorical_accuracy: 0.3119\n",
      "Epoch 6/20\n",
      "191/191 [==============================] - 47s 247ms/step - loss: 4.9815 - sparse_categorical_accuracy: 0.3158 - val_loss: 1.2551 - val_sparse_categorical_accuracy: 0.3119\n",
      "Epoch 6: early stopping\n"
     ]
    },
    {
     "data": {
      "text/plain": [
       "<keras.callbacks.History at 0x1ea08ab3280>"
      ]
     },
     "execution_count": 166,
     "metadata": {},
     "output_type": "execute_result"
    }
   ],
   "source": [
    "batch = 32\n",
    "epoch = 20\n",
    "#add early stopping to counterfit overfitting\n",
    "es = EarlyStopping(monitor='val_sparse_categorical_accuracy', mode='max', verbose=1, patience=5)\n",
    "\n",
    "class_weights = {\n",
    "    0: 2,\n",
    "    1: 8,\n",
    "    2: 16\n",
    "}\n",
    "#train the model\n",
    "# add the inputs separately in dict\n",
    "model5.fit(x={\n",
    "    'summary': X_text_id, \n",
    "    'image': X_image\n",
    "}, \n",
    "           y= y_price , \n",
    "          batch_size=batch,\n",
    "          epochs=epoch,\n",
    "          validation_split=0.2,\n",
    "           class_weight=class_weights,\n",
    "          callbacks=[es])"
   ]
  },
  {
   "cell_type": "code",
   "execution_count": 169,
   "metadata": {
    "id": "5O416tAqI9_G",
    "outputId": "3284898f-8a66-4f67-be0a-32aae0f7b35d"
   },
   "outputs": [
    {
     "data": {
      "application/vnd.jupyter.widget-view+json": {
       "model_id": "0c3a71ec2a6c48d880bb957c37baddb9",
       "version_major": 2,
       "version_minor": 0
      },
      "text/plain": [
       "  0%|          | 0/7360 [00:00<?, ?it/s]"
      ]
     },
     "metadata": {},
     "output_type": "display_data"
    },
    {
     "data": {
      "text/plain": [
       "array([[0.25123304, 0.53218085, 0.21658608],\n",
       "       [0.25123304, 0.53218085, 0.21658608],\n",
       "       [0.25123304, 0.53218085, 0.21658608],\n",
       "       ...,\n",
       "       [0.25123304, 0.53218085, 0.21658608],\n",
       "       [0.25123304, 0.53218085, 0.21658608],\n",
       "       [0.25123304, 0.53218085, 0.21658608]], dtype=float32)"
      ]
     },
     "execution_count": 169,
     "metadata": {},
     "output_type": "execute_result"
    }
   ],
   "source": [
    "#predict and save to file\n",
    "# get the test images\n",
    "X_test_image = np.array([load_image(initial_path + i) for i in tqdm(df_test.image)])\n",
    "y_hat = model5.predict(x = \n",
    "                       {'summary':X_test_text_id,\n",
    "                        'image': X_test_image}\n",
    "                            )\n",
    "y_hat"
   ]
  },
  {
   "cell_type": "code",
   "execution_count": 172,
   "metadata": {
    "id": "wf4rEEVQI9_G"
   },
   "outputs": [],
   "source": [
    "#get the highes class predicted\n",
    "price_predicted = np.argmax(y_hat, axis=1)\n",
    "\n",
    "#save to file\n",
    "dummy  = pd.DataFrame({'id': df_test.id, 'price': price_predicted})\n",
    "dummy.to_csv('T5.csv', index=False)"
   ]
  },
  {
   "cell_type": "markdown",
   "metadata": {
    "id": "DeOV-c-4I9_G"
   },
   "source": [
    "\n",
    "<a class=\"anchor\" id=\"t6\"></a>\n",
    "\n",
    "# Trial 6: Multi-objective learning.(predicting both price and type\n",
    "\n",
    "Still no learning. I lost hope two Trails ago. \n",
    "VAl_accuracy is fixed at a point 0.62. \n",
    "\n",
    "Lets just do the last trial anyway.\n",
    "same as Trial 5 but making the model predict both the price and the type of the rental based on both the summary(text) and images"
   ]
  },
  {
   "cell_type": "code",
   "execution_count": 167,
   "metadata": {
    "id": "GIyaH9-1I9_F",
    "outputId": "608f6ee0-2722-4bb0-80cf-fc7c6ccd5d49",
    "scrolled": true
   },
   "outputs": [
    {
     "name": "stdout",
     "output_type": "stream",
     "text": [
      "Model: \"model_8\"\n",
      "__________________________________________________________________________________________________\n",
      " Layer (type)                   Output Shape         Param #     Connected to                     \n",
      "==================================================================================================\n",
      " input_24 (InputLayer)          [(None, 64, 64, 3)]  0           []                               \n",
      "                                                                                                  \n",
      " conv2d_55 (Conv2D)             (None, 60, 60, 32)   2432        ['input_24[0][0]']               \n",
      "                                                                                                  \n",
      " max_pooling2d_49 (MaxPooling2D  (None, 12, 12, 32)  0           ['conv2d_55[0][0]']              \n",
      " )                                                                                                \n",
      "                                                                                                  \n",
      " dropout_53 (Dropout)           (None, 12, 12, 32)   0           ['max_pooling2d_49[0][0]']       \n",
      "                                                                                                  \n",
      " conv2d_56 (Conv2D)             (None, 12, 12, 64)   18496       ['dropout_53[0][0]']             \n",
      "                                                                                                  \n",
      " max_pooling2d_50 (MaxPooling2D  (None, 4, 4, 64)    0           ['conv2d_56[0][0]']              \n",
      " )                                                                                                \n",
      "                                                                                                  \n",
      " input_23 (InputLayer)          [(None, 100)]        0           []                               \n",
      "                                                                                                  \n",
      " dropout_54 (Dropout)           (None, 4, 4, 64)     0           ['max_pooling2d_50[0][0]']       \n",
      "                                                                                                  \n",
      " embedding_15 (Embedding)       (None, 100, 100)     4000000     ['input_23[0][0]']               \n",
      "                                                                                                  \n",
      " conv2d_57 (Conv2D)             (None, 4, 4, 16)     9232        ['dropout_54[0][0]']             \n",
      "                                                                                                  \n",
      " lstm_24 (LSTM)                 (None, 100, 16)      7488        ['embedding_15[0][0]']           \n",
      "                                                                                                  \n",
      " max_pooling2d_51 (MaxPooling2D  (None, 1, 1, 16)    0           ['conv2d_57[0][0]']              \n",
      " )                                                                                                \n",
      "                                                                                                  \n",
      " dropout_52 (Dropout)           (None, 100, 16)      0           ['lstm_24[0][0]']                \n",
      "                                                                                                  \n",
      " dropout_55 (Dropout)           (None, 1, 1, 16)     0           ['max_pooling2d_51[0][0]']       \n",
      "                                                                                                  \n",
      " lstm_25 (LSTM)                 (None, 8)            800         ['dropout_52[0][0]']             \n",
      "                                                                                                  \n",
      " flatten_19 (Flatten)           (None, 16)           0           ['dropout_55[0][0]']             \n",
      "                                                                                                  \n",
      " tf.concat_11 (TFOpLambda)      (None, 24)           0           ['lstm_25[0][0]',                \n",
      "                                                                  'flatten_19[0][0]']             \n",
      "                                                                                                  \n",
      " price (Dense)                  (None, 3)            75          ['tf.concat_11[0][0]']           \n",
      "                                                                                                  \n",
      " type (Dense)                   (None, 24)           600         ['tf.concat_11[0][0]']           \n",
      "                                                                                                  \n",
      "==================================================================================================\n",
      "Total params: 4,039,123\n",
      "Trainable params: 4,039,123\n",
      "Non-trainable params: 0\n",
      "__________________________________________________________________________________________________\n"
     ]
    }
   ],
   "source": [
    "#build first layers for the input separately\n",
    "in_text = keras.Input(batch_shape=(None, max_len))\n",
    "in_image = keras.Input(batch_shape=(None, 64, 64, 3)) #the image shape\n",
    "\n",
    "# text part\n",
    "#\n",
    "embedded = keras.layers.Embedding(vocab_size, 100)(in_text)\n",
    "\n",
    "lstm1 = LSTM(16, \n",
    "                activation = 'tanh', \n",
    "                kernel_regularizer=l1(0.01),\n",
    "                recurrent_regularizer=l1(0.01),\n",
    "                bias_regularizer=l1(0.01),return_sequences= True\n",
    "               )(embedded) \n",
    "drop_lstm1 = Dropout(0.5)(lstm1)\n",
    "lstm2 = LSTM(8, \n",
    "                activation = 'tanh', \n",
    "                kernel_regularizer=l1(0.01),\n",
    "                recurrent_regularizer=l1(0.01),\n",
    "                bias_regularizer=l1(0.01)\n",
    "               )(drop_lstm1)\n",
    "\n",
    "# image part \n",
    "cov1 = Conv2D(32, (5, 5), padding = 'valid',activation = 'relu')(in_image)\n",
    "pl1 = MaxPool2D((5, 5), padding='valid')(cov1)\n",
    "drop_conv1 = Dropout(0.5)(pl1)\n",
    "\n",
    "#more filters to open up the space\n",
    "cov2 = Conv2D(64, (3, 3), padding = 'same',activation = 'relu')(drop_conv1)\n",
    "pl2 = MaxPool2D((3, 3), padding='valid')(cov2)\n",
    "drop_conv2 = Dropout(0.5)(pl2)\n",
    "\n",
    "cov3 = Conv2D(16, (3, 3), padding = 'same',activation = 'relu')(drop_conv2)\n",
    "pl3 = MaxPool2D((3, 3), padding='valid')(cov3)\n",
    "drop_conv3 = Dropout(0.5)(pl3)\n",
    "\n",
    "flattened = Flatten()(drop_conv3)\n",
    "\n",
    "# fusion - combinig both\n",
    "fused = tf.concat([lstm2, flattened], axis=-1)\n",
    "\n",
    "# multi-task learning (each is a multi-class classification)\n",
    "# one dense layer for each task\n",
    "p_type = Dense(types_no, activation='softmax', name='type')(fused)\n",
    "p_price = Dense(prices_no, activation='softmax', name='price')(fused)\n",
    "\n",
    "\n",
    "# define model input two modes\n",
    "# model output two objects\n",
    "model6 = keras.Model(\n",
    "    inputs={\n",
    "        'summary': in_text,\n",
    "        'image': in_image\n",
    "    },\n",
    "    outputs={\n",
    "        'type': p_type,\n",
    "        'price': p_price,\n",
    "    },\n",
    ")\n",
    "#view the model details\n",
    "model6.summary()"
   ]
  },
  {
   "cell_type": "code",
   "execution_count": 174,
   "metadata": {
    "id": "NzCm7aelI9_G"
   },
   "outputs": [],
   "source": [
    "#copile the model\n",
    "model6.compile(\n",
    "    optimizer=Adam(),\n",
    "    loss={\n",
    "        'type': 'sparse_categorical_crossentropy',\n",
    "        'price': 'sparse_categorical_crossentropy',\n",
    "    },\n",
    "    # add learning weights to prioritize the price output\n",
    "    loss_weights={\n",
    "        'type': 0.2,\n",
    "        'price': 1,       \n",
    "    },\n",
    "    metrics={\n",
    "        'type': ['SparseCategoricalAccuracy'],\n",
    "        'price': ['SparseCategoricalAccuracy'],\n",
    "    },\n",
    ")"
   ]
  },
  {
   "cell_type": "code",
   "execution_count": 175,
   "metadata": {
    "id": "UOtS-Fq6I9_G",
    "outputId": "736a643b-2872-4604-c268-19086ca66282"
   },
   "outputs": [
    {
     "name": "stdout",
     "output_type": "stream",
     "text": [
      "Epoch 1/20\n",
      "191/191 [==============================] - 83s 363ms/step - loss: 11.3160 - price_loss: 5.8067 - type_loss: 10.1292 - price_sparse_categorical_accuracy: 0.5152 - type_sparse_categorical_accuracy: 0.4365 - val_loss: 1.9071 - val_price_loss: 0.8408 - val_type_loss: 1.8868 - val_price_sparse_categorical_accuracy: 0.6252 - val_type_sparse_categorical_accuracy: 0.7647\n",
      "Epoch 2/20\n",
      "191/191 [==============================] - 65s 340ms/step - loss: 1.5923 - price_loss: 0.8754 - type_loss: 1.4556 - price_sparse_categorical_accuracy: 0.6050 - type_sparse_categorical_accuracy: 0.7330 - val_loss: 1.3743 - val_price_loss: 0.8311 - val_type_loss: 1.2477 - val_price_sparse_categorical_accuracy: 0.6252 - val_type_sparse_categorical_accuracy: 0.7647\n",
      "Epoch 3/20\n",
      "191/191 [==============================] - 73s 383ms/step - loss: 1.3547 - price_loss: 0.8552 - type_loss: 1.1984 - price_sparse_categorical_accuracy: 0.6109 - type_sparse_categorical_accuracy: 0.7504 - val_loss: 1.2844 - val_price_loss: 0.8310 - val_type_loss: 1.1181 - val_price_sparse_categorical_accuracy: 0.6252 - val_type_sparse_categorical_accuracy: 0.7647\n",
      "Epoch 4/20\n",
      "191/191 [==============================] - 70s 368ms/step - loss: 1.2733 - price_loss: 0.8450 - type_loss: 1.1303 - price_sparse_categorical_accuracy: 0.6156 - type_sparse_categorical_accuracy: 0.7518 - val_loss: 1.2222 - val_price_loss: 0.8310 - val_type_loss: 1.0791 - val_price_sparse_categorical_accuracy: 0.6252 - val_type_sparse_categorical_accuracy: 0.7647\n",
      "Epoch 5/20\n",
      "191/191 [==============================] - 71s 371ms/step - loss: 1.2132 - price_loss: 0.8436 - type_loss: 1.1036 - price_sparse_categorical_accuracy: 0.6166 - type_sparse_categorical_accuracy: 0.7518 - val_loss: 1.1674 - val_price_loss: 0.8311 - val_type_loss: 1.0532 - val_price_sparse_categorical_accuracy: 0.6252 - val_type_sparse_categorical_accuracy: 0.7647\n",
      "Epoch 6/20\n",
      "191/191 [==============================] - 69s 361ms/step - loss: 1.1721 - price_loss: 0.8407 - type_loss: 1.0850 - price_sparse_categorical_accuracy: 0.6174 - type_sparse_categorical_accuracy: 0.7541 - val_loss: 1.1462 - val_price_loss: 0.8314 - val_type_loss: 1.0430 - val_price_sparse_categorical_accuracy: 0.6252 - val_type_sparse_categorical_accuracy: 0.7647\n",
      "Epoch 6: early stopping\n"
     ]
    },
    {
     "data": {
      "text/plain": [
       "<keras.callbacks.History at 0x1ea096eb820>"
      ]
     },
     "execution_count": 175,
     "metadata": {},
     "output_type": "execute_result"
    }
   ],
   "source": [
    "batch = 32\n",
    "epoch = 20\n",
    "#add early stopping to counterfit overfitting\n",
    "es = EarlyStopping(monitor='val_price_sparse_categorical_accuracy', mode='max', verbose=1, patience=5)\n",
    "#train the model\n",
    "\n",
    "model6.fit(x={\n",
    "    'summary': X_text_id, \n",
    "    'image': X_image\n",
    "}, \n",
    "           y={'type': y_type,\n",
    "           'price': y_price} ,\n",
    "          batch_size=batch,\n",
    "          epochs=epoch,\n",
    "          validation_split=0.2,\n",
    "          callbacks=[es])"
   ]
  },
  {
   "cell_type": "code",
   "execution_count": null,
   "metadata": {
    "id": "5O416tAqI9_G",
    "outputId": "3284898f-8a66-4f67-be0a-32aae0f7b35d"
   },
   "outputs": [
    {
     "data": {
      "text/plain": [
       "{'price': array([[0.6179501 , 0.31807163, 0.06397825],\n",
       "        [0.6179501 , 0.31807163, 0.06397825],\n",
       "        [0.6179501 , 0.31807163, 0.06397825],\n",
       "        ...,\n",
       "        [0.6179501 , 0.31807163, 0.06397825],\n",
       "        [0.6179501 , 0.31807163, 0.06397825],\n",
       "        [0.6179501 , 0.31807163, 0.06397825]], dtype=float32)}"
      ]
     },
     "execution_count": 58,
     "metadata": {},
     "output_type": "execute_result"
    }
   ],
   "source": [
    "#predict and save to file\n",
    "y_hat = model6.predict(x = \n",
    "                       {'summary':X_test_text_id,\n",
    "                        'image': X_test_image}\n",
    "                            )\n",
    "y_hat"
   ]
  },
  {
   "cell_type": "code",
   "execution_count": null,
   "metadata": {
    "id": "wf4rEEVQI9_G"
   },
   "outputs": [],
   "source": [
    "price_predicted = np.argmax(y_hat['price'], axis=1)\n",
    "\n",
    "dummy  = pd.DataFrame({'id': df_test.id, 'price': price_predicted})\n",
    "dummy.to_csv('T6.csv', index=False)"
   ]
  },
  {
   "cell_type": "markdown",
   "metadata": {},
   "source": [
    "<a class=\"anchor\" id=\"conc\"></a>\n",
    "# Conclusion:\n",
    "As usual, I still have more experiments i want to try, but again, as usual i'll try them in my own time since this assignment's due in a couple of hours :D .\n",
    "\n",
    "But one thing for sure, all of my models were not learning. The `val_accuracy` was the same 0.625  through most of the trials. Sometimes it was 0.311, but that is just another class dominating the loss curve.\n",
    "\n",
    "My thoughts in order of most probalbe; \n",
    "\n",
    "- The model is stuck at local minima, at which the majority class gives a local maxima accuracy and a local minima loss.  so it is not getting any better.\n",
    "- The imbalance in the classes is causing this.\n",
    "- one fatal mistake repeated in all trials(a universal bug :D) \n",
    "- ~~bad archetecture~~: no since we tried the AlexNet\n",
    "\n",
    "## Corrective Actions: *Future Plans*\n",
    "\n",
    "- For the first hypothesis **Local Minima** i think a different initialization of the weights could do the trick. Other solutions may include changing the loss function, maybe hard-code one of my own instead of the built-in `spase_categoricalcrossentropy`. I already tried Different optimizers and Different Learning rates.\n",
    "- 2nd Hypothesis: try Data Augmentation for the minority classes, like class2(6% of the total train set) and class1 (30%), maybe just flip their images and create more samples with the flipped images. Also, notice that Data Augmentation is very important for vision problems( the model won't identify something it didn't see before\n",
    "- Take the laze road: Sleep on it, maybe it will solve itself in the morning :D "
   ]
  }
 ],
 "metadata": {
  "colab": {
   "collapsed_sections": [],
   "name": "C4_mml_mtl_v5.ipynb",
   "provenance": []
  },
  "kernelspec": {
   "display_name": "Python 3",
   "language": "python",
   "name": "python3"
  },
  "language_info": {
   "codemirror_mode": {
    "name": "ipython",
    "version": 3
   },
   "file_extension": ".py",
   "mimetype": "text/x-python",
   "name": "python",
   "nbconvert_exporter": "python",
   "pygments_lexer": "ipython3",
   "version": "3.8.8"
  },
  "widgets": {
   "application/vnd.jupyter.widget-state+json": {
    "11afba12f1504eef81e8fe924f4c1241": {
     "model_module": "@jupyter-widgets/controls",
     "model_module_version": "1.5.0",
     "model_name": "FloatProgressModel",
     "state": {
      "_dom_classes": [],
      "_model_module": "@jupyter-widgets/controls",
      "_model_module_version": "1.5.0",
      "_model_name": "FloatProgressModel",
      "_view_count": null,
      "_view_module": "@jupyter-widgets/controls",
      "_view_module_version": "1.5.0",
      "_view_name": "ProgressView",
      "bar_style": "success",
      "description": "",
      "description_tooltip": null,
      "layout": "IPY_MODEL_65b57292c9b342029cac0504614d903d",
      "max": 7360,
      "min": 0,
      "orientation": "horizontal",
      "style": "IPY_MODEL_db4689b4862847e68b9ed3e189991bf6",
      "value": 7360
     }
    },
    "17153fab5195470cac2dcdabbcfe825f": {
     "model_module": "@jupyter-widgets/controls",
     "model_module_version": "1.5.0",
     "model_name": "DescriptionStyleModel",
     "state": {
      "_model_module": "@jupyter-widgets/controls",
      "_model_module_version": "1.5.0",
      "_model_name": "DescriptionStyleModel",
      "_view_count": null,
      "_view_module": "@jupyter-widgets/base",
      "_view_module_version": "1.2.0",
      "_view_name": "StyleView",
      "description_width": ""
     }
    },
    "2428836a7e7d4079bd6ab551d1805fdf": {
     "model_module": "@jupyter-widgets/base",
     "model_module_version": "1.2.0",
     "model_name": "LayoutModel",
     "state": {
      "_model_module": "@jupyter-widgets/base",
      "_model_module_version": "1.2.0",
      "_model_name": "LayoutModel",
      "_view_count": null,
      "_view_module": "@jupyter-widgets/base",
      "_view_module_version": "1.2.0",
      "_view_name": "LayoutView",
      "align_content": null,
      "align_items": null,
      "align_self": null,
      "border": null,
      "bottom": null,
      "display": null,
      "flex": null,
      "flex_flow": null,
      "grid_area": null,
      "grid_auto_columns": null,
      "grid_auto_flow": null,
      "grid_auto_rows": null,
      "grid_column": null,
      "grid_gap": null,
      "grid_row": null,
      "grid_template_areas": null,
      "grid_template_columns": null,
      "grid_template_rows": null,
      "height": null,
      "justify_content": null,
      "justify_items": null,
      "left": null,
      "margin": null,
      "max_height": null,
      "max_width": null,
      "min_height": null,
      "min_width": null,
      "object_fit": null,
      "object_position": null,
      "order": null,
      "overflow": null,
      "overflow_x": null,
      "overflow_y": null,
      "padding": null,
      "right": null,
      "top": null,
      "visibility": null,
      "width": null
     }
    },
    "263c0d7bff714c7ab87983d6049e5b25": {
     "model_module": "@jupyter-widgets/controls",
     "model_module_version": "1.5.0",
     "model_name": "HTMLModel",
     "state": {
      "_dom_classes": [],
      "_model_module": "@jupyter-widgets/controls",
      "_model_module_version": "1.5.0",
      "_model_name": "HTMLModel",
      "_view_count": null,
      "_view_module": "@jupyter-widgets/controls",
      "_view_module_version": "1.5.0",
      "_view_name": "HTMLView",
      "description": "",
      "description_tooltip": null,
      "layout": "IPY_MODEL_6f6bbda0f16d4b2898ef719eba0de775",
      "placeholder": "​",
      "style": "IPY_MODEL_17153fab5195470cac2dcdabbcfe825f",
      "value": "100%"
     }
    },
    "2c373d9d35c24bacb3f11832800ebeac": {
     "model_module": "@jupyter-widgets/controls",
     "model_module_version": "1.5.0",
     "model_name": "DescriptionStyleModel",
     "state": {
      "_model_module": "@jupyter-widgets/controls",
      "_model_module_version": "1.5.0",
      "_model_name": "DescriptionStyleModel",
      "_view_count": null,
      "_view_module": "@jupyter-widgets/base",
      "_view_module_version": "1.2.0",
      "_view_name": "StyleView",
      "description_width": ""
     }
    },
    "3c1a2a7de40e4f4295e5a8d94112f6e1": {
     "model_module": "@jupyter-widgets/controls",
     "model_module_version": "1.5.0",
     "model_name": "DescriptionStyleModel",
     "state": {
      "_model_module": "@jupyter-widgets/controls",
      "_model_module_version": "1.5.0",
      "_model_name": "DescriptionStyleModel",
      "_view_count": null,
      "_view_module": "@jupyter-widgets/base",
      "_view_module_version": "1.2.0",
      "_view_name": "StyleView",
      "description_width": ""
     }
    },
    "4a49f11e7828432ca125cb415f8e1fcc": {
     "model_module": "@jupyter-widgets/controls",
     "model_module_version": "1.5.0",
     "model_name": "DescriptionStyleModel",
     "state": {
      "_model_module": "@jupyter-widgets/controls",
      "_model_module_version": "1.5.0",
      "_model_name": "DescriptionStyleModel",
      "_view_count": null,
      "_view_module": "@jupyter-widgets/base",
      "_view_module_version": "1.2.0",
      "_view_name": "StyleView",
      "description_width": ""
     }
    },
    "4ba3a68321354b27886f0d8654ef524b": {
     "model_module": "@jupyter-widgets/controls",
     "model_module_version": "1.5.0",
     "model_name": "FloatProgressModel",
     "state": {
      "_dom_classes": [],
      "_model_module": "@jupyter-widgets/controls",
      "_model_module_version": "1.5.0",
      "_model_name": "FloatProgressModel",
      "_view_count": null,
      "_view_module": "@jupyter-widgets/controls",
      "_view_module_version": "1.5.0",
      "_view_name": "ProgressView",
      "bar_style": "success",
      "description": "",
      "description_tooltip": null,
      "layout": "IPY_MODEL_5ee942bdf5a74640b88077c8c33a91eb",
      "max": 7627,
      "min": 0,
      "orientation": "horizontal",
      "style": "IPY_MODEL_ddeaba6a156f44718e2fb9cdf50d50ed",
      "value": 7627
     }
    },
    "4d3375acd8194357ad96cd313c0efe94": {
     "model_module": "@jupyter-widgets/base",
     "model_module_version": "1.2.0",
     "model_name": "LayoutModel",
     "state": {
      "_model_module": "@jupyter-widgets/base",
      "_model_module_version": "1.2.0",
      "_model_name": "LayoutModel",
      "_view_count": null,
      "_view_module": "@jupyter-widgets/base",
      "_view_module_version": "1.2.0",
      "_view_name": "LayoutView",
      "align_content": null,
      "align_items": null,
      "align_self": null,
      "border": null,
      "bottom": null,
      "display": null,
      "flex": null,
      "flex_flow": null,
      "grid_area": null,
      "grid_auto_columns": null,
      "grid_auto_flow": null,
      "grid_auto_rows": null,
      "grid_column": null,
      "grid_gap": null,
      "grid_row": null,
      "grid_template_areas": null,
      "grid_template_columns": null,
      "grid_template_rows": null,
      "height": null,
      "justify_content": null,
      "justify_items": null,
      "left": null,
      "margin": null,
      "max_height": null,
      "max_width": null,
      "min_height": null,
      "min_width": null,
      "object_fit": null,
      "object_position": null,
      "order": null,
      "overflow": null,
      "overflow_x": null,
      "overflow_y": null,
      "padding": null,
      "right": null,
      "top": null,
      "visibility": null,
      "width": null
     }
    },
    "51c2e108c7ff421693c9cf72aa3f2bf6": {
     "model_module": "@jupyter-widgets/controls",
     "model_module_version": "1.5.0",
     "model_name": "ProgressStyleModel",
     "state": {
      "_model_module": "@jupyter-widgets/controls",
      "_model_module_version": "1.5.0",
      "_model_name": "ProgressStyleModel",
      "_view_count": null,
      "_view_module": "@jupyter-widgets/base",
      "_view_module_version": "1.2.0",
      "_view_name": "StyleView",
      "bar_color": null,
      "description_width": ""
     }
    },
    "5ee942bdf5a74640b88077c8c33a91eb": {
     "model_module": "@jupyter-widgets/base",
     "model_module_version": "1.2.0",
     "model_name": "LayoutModel",
     "state": {
      "_model_module": "@jupyter-widgets/base",
      "_model_module_version": "1.2.0",
      "_model_name": "LayoutModel",
      "_view_count": null,
      "_view_module": "@jupyter-widgets/base",
      "_view_module_version": "1.2.0",
      "_view_name": "LayoutView",
      "align_content": null,
      "align_items": null,
      "align_self": null,
      "border": null,
      "bottom": null,
      "display": null,
      "flex": null,
      "flex_flow": null,
      "grid_area": null,
      "grid_auto_columns": null,
      "grid_auto_flow": null,
      "grid_auto_rows": null,
      "grid_column": null,
      "grid_gap": null,
      "grid_row": null,
      "grid_template_areas": null,
      "grid_template_columns": null,
      "grid_template_rows": null,
      "height": null,
      "justify_content": null,
      "justify_items": null,
      "left": null,
      "margin": null,
      "max_height": null,
      "max_width": null,
      "min_height": null,
      "min_width": null,
      "object_fit": null,
      "object_position": null,
      "order": null,
      "overflow": null,
      "overflow_x": null,
      "overflow_y": null,
      "padding": null,
      "right": null,
      "top": null,
      "visibility": null,
      "width": null
     }
    },
    "6353c3fa13e34f4f8d0468f66d805ebd": {
     "model_module": "@jupyter-widgets/controls",
     "model_module_version": "1.5.0",
     "model_name": "DescriptionStyleModel",
     "state": {
      "_model_module": "@jupyter-widgets/controls",
      "_model_module_version": "1.5.0",
      "_model_name": "DescriptionStyleModel",
      "_view_count": null,
      "_view_module": "@jupyter-widgets/base",
      "_view_module_version": "1.2.0",
      "_view_name": "StyleView",
      "description_width": ""
     }
    },
    "64b77aa4c35d4eb08064de5e15893d8e": {
     "model_module": "@jupyter-widgets/controls",
     "model_module_version": "1.5.0",
     "model_name": "HBoxModel",
     "state": {
      "_dom_classes": [],
      "_model_module": "@jupyter-widgets/controls",
      "_model_module_version": "1.5.0",
      "_model_name": "HBoxModel",
      "_view_count": null,
      "_view_module": "@jupyter-widgets/controls",
      "_view_module_version": "1.5.0",
      "_view_name": "HBoxView",
      "box_style": "",
      "children": [
       "IPY_MODEL_fc7e58c0285d4acf918e9549d1b75e2c",
       "IPY_MODEL_11afba12f1504eef81e8fe924f4c1241",
       "IPY_MODEL_73caf98c01e64a9182c0693f6bbb1bd2"
      ],
      "layout": "IPY_MODEL_e6bdfff811774a54bcdaf03a5b2475e4"
     }
    },
    "65b57292c9b342029cac0504614d903d": {
     "model_module": "@jupyter-widgets/base",
     "model_module_version": "1.2.0",
     "model_name": "LayoutModel",
     "state": {
      "_model_module": "@jupyter-widgets/base",
      "_model_module_version": "1.2.0",
      "_model_name": "LayoutModel",
      "_view_count": null,
      "_view_module": "@jupyter-widgets/base",
      "_view_module_version": "1.2.0",
      "_view_name": "LayoutView",
      "align_content": null,
      "align_items": null,
      "align_self": null,
      "border": null,
      "bottom": null,
      "display": null,
      "flex": null,
      "flex_flow": null,
      "grid_area": null,
      "grid_auto_columns": null,
      "grid_auto_flow": null,
      "grid_auto_rows": null,
      "grid_column": null,
      "grid_gap": null,
      "grid_row": null,
      "grid_template_areas": null,
      "grid_template_columns": null,
      "grid_template_rows": null,
      "height": null,
      "justify_content": null,
      "justify_items": null,
      "left": null,
      "margin": null,
      "max_height": null,
      "max_width": null,
      "min_height": null,
      "min_width": null,
      "object_fit": null,
      "object_position": null,
      "order": null,
      "overflow": null,
      "overflow_x": null,
      "overflow_y": null,
      "padding": null,
      "right": null,
      "top": null,
      "visibility": null,
      "width": null
     }
    },
    "6f6bbda0f16d4b2898ef719eba0de775": {
     "model_module": "@jupyter-widgets/base",
     "model_module_version": "1.2.0",
     "model_name": "LayoutModel",
     "state": {
      "_model_module": "@jupyter-widgets/base",
      "_model_module_version": "1.2.0",
      "_model_name": "LayoutModel",
      "_view_count": null,
      "_view_module": "@jupyter-widgets/base",
      "_view_module_version": "1.2.0",
      "_view_name": "LayoutView",
      "align_content": null,
      "align_items": null,
      "align_self": null,
      "border": null,
      "bottom": null,
      "display": null,
      "flex": null,
      "flex_flow": null,
      "grid_area": null,
      "grid_auto_columns": null,
      "grid_auto_flow": null,
      "grid_auto_rows": null,
      "grid_column": null,
      "grid_gap": null,
      "grid_row": null,
      "grid_template_areas": null,
      "grid_template_columns": null,
      "grid_template_rows": null,
      "height": null,
      "justify_content": null,
      "justify_items": null,
      "left": null,
      "margin": null,
      "max_height": null,
      "max_width": null,
      "min_height": null,
      "min_width": null,
      "object_fit": null,
      "object_position": null,
      "order": null,
      "overflow": null,
      "overflow_x": null,
      "overflow_y": null,
      "padding": null,
      "right": null,
      "top": null,
      "visibility": null,
      "width": null
     }
    },
    "736719ab616a432abd38d07eb3f1df7a": {
     "model_module": "@jupyter-widgets/controls",
     "model_module_version": "1.5.0",
     "model_name": "DescriptionStyleModel",
     "state": {
      "_model_module": "@jupyter-widgets/controls",
      "_model_module_version": "1.5.0",
      "_model_name": "DescriptionStyleModel",
      "_view_count": null,
      "_view_module": "@jupyter-widgets/base",
      "_view_module_version": "1.2.0",
      "_view_name": "StyleView",
      "description_width": ""
     }
    },
    "73caf98c01e64a9182c0693f6bbb1bd2": {
     "model_module": "@jupyter-widgets/controls",
     "model_module_version": "1.5.0",
     "model_name": "HTMLModel",
     "state": {
      "_dom_classes": [],
      "_model_module": "@jupyter-widgets/controls",
      "_model_module_version": "1.5.0",
      "_model_name": "HTMLModel",
      "_view_count": null,
      "_view_module": "@jupyter-widgets/controls",
      "_view_module_version": "1.5.0",
      "_view_name": "HTMLView",
      "description": "",
      "description_tooltip": null,
      "layout": "IPY_MODEL_2428836a7e7d4079bd6ab551d1805fdf",
      "placeholder": "​",
      "style": "IPY_MODEL_2c373d9d35c24bacb3f11832800ebeac",
      "value": " 7360/7360 [01:16&lt;00:00, 102.83it/s]"
     }
    },
    "899b3233eafe49e4b6f9dc5713fde4d7": {
     "model_module": "@jupyter-widgets/base",
     "model_module_version": "1.2.0",
     "model_name": "LayoutModel",
     "state": {
      "_model_module": "@jupyter-widgets/base",
      "_model_module_version": "1.2.0",
      "_model_name": "LayoutModel",
      "_view_count": null,
      "_view_module": "@jupyter-widgets/base",
      "_view_module_version": "1.2.0",
      "_view_name": "LayoutView",
      "align_content": null,
      "align_items": null,
      "align_self": null,
      "border": null,
      "bottom": null,
      "display": null,
      "flex": null,
      "flex_flow": null,
      "grid_area": null,
      "grid_auto_columns": null,
      "grid_auto_flow": null,
      "grid_auto_rows": null,
      "grid_column": null,
      "grid_gap": null,
      "grid_row": null,
      "grid_template_areas": null,
      "grid_template_columns": null,
      "grid_template_rows": null,
      "height": null,
      "justify_content": null,
      "justify_items": null,
      "left": null,
      "margin": null,
      "max_height": null,
      "max_width": null,
      "min_height": null,
      "min_width": null,
      "object_fit": null,
      "object_position": null,
      "order": null,
      "overflow": null,
      "overflow_x": null,
      "overflow_y": null,
      "padding": null,
      "right": null,
      "top": null,
      "visibility": null,
      "width": null
     }
    },
    "8dbb2c8f1ed24aa3ad9094890b9aaf3e": {
     "model_module": "@jupyter-widgets/controls",
     "model_module_version": "1.5.0",
     "model_name": "HTMLModel",
     "state": {
      "_dom_classes": [],
      "_model_module": "@jupyter-widgets/controls",
      "_model_module_version": "1.5.0",
      "_model_name": "HTMLModel",
      "_view_count": null,
      "_view_module": "@jupyter-widgets/controls",
      "_view_module_version": "1.5.0",
      "_view_name": "HTMLView",
      "description": "",
      "description_tooltip": null,
      "layout": "IPY_MODEL_a291be047c3f44e0972e6fcc403e95d9",
      "placeholder": "​",
      "style": "IPY_MODEL_3c1a2a7de40e4f4295e5a8d94112f6e1",
      "value": "100%"
     }
    },
    "a291be047c3f44e0972e6fcc403e95d9": {
     "model_module": "@jupyter-widgets/base",
     "model_module_version": "1.2.0",
     "model_name": "LayoutModel",
     "state": {
      "_model_module": "@jupyter-widgets/base",
      "_model_module_version": "1.2.0",
      "_model_name": "LayoutModel",
      "_view_count": null,
      "_view_module": "@jupyter-widgets/base",
      "_view_module_version": "1.2.0",
      "_view_name": "LayoutView",
      "align_content": null,
      "align_items": null,
      "align_self": null,
      "border": null,
      "bottom": null,
      "display": null,
      "flex": null,
      "flex_flow": null,
      "grid_area": null,
      "grid_auto_columns": null,
      "grid_auto_flow": null,
      "grid_auto_rows": null,
      "grid_column": null,
      "grid_gap": null,
      "grid_row": null,
      "grid_template_areas": null,
      "grid_template_columns": null,
      "grid_template_rows": null,
      "height": null,
      "justify_content": null,
      "justify_items": null,
      "left": null,
      "margin": null,
      "max_height": null,
      "max_width": null,
      "min_height": null,
      "min_width": null,
      "object_fit": null,
      "object_position": null,
      "order": null,
      "overflow": null,
      "overflow_x": null,
      "overflow_y": null,
      "padding": null,
      "right": null,
      "top": null,
      "visibility": null,
      "width": null
     }
    },
    "a39ce2e920b14888a2d8154a521549ac": {
     "model_module": "@jupyter-widgets/controls",
     "model_module_version": "1.5.0",
     "model_name": "HTMLModel",
     "state": {
      "_dom_classes": [],
      "_model_module": "@jupyter-widgets/controls",
      "_model_module_version": "1.5.0",
      "_model_name": "HTMLModel",
      "_view_count": null,
      "_view_module": "@jupyter-widgets/controls",
      "_view_module_version": "1.5.0",
      "_view_name": "HTMLView",
      "description": "",
      "description_tooltip": null,
      "layout": "IPY_MODEL_dc4e329522564a369874b5b13051779f",
      "placeholder": "​",
      "style": "IPY_MODEL_4a49f11e7828432ca125cb415f8e1fcc",
      "value": " 1608/1608 [00:03&lt;00:00, 536.76it/s]"
     }
    },
    "a64ac80da0d643819ff1d749c991d08c": {
     "model_module": "@jupyter-widgets/controls",
     "model_module_version": "1.5.0",
     "model_name": "HTMLModel",
     "state": {
      "_dom_classes": [],
      "_model_module": "@jupyter-widgets/controls",
      "_model_module_version": "1.5.0",
      "_model_name": "HTMLModel",
      "_view_count": null,
      "_view_module": "@jupyter-widgets/controls",
      "_view_module_version": "1.5.0",
      "_view_name": "HTMLView",
      "description": "",
      "description_tooltip": null,
      "layout": "IPY_MODEL_4d3375acd8194357ad96cd313c0efe94",
      "placeholder": "​",
      "style": "IPY_MODEL_6353c3fa13e34f4f8d0468f66d805ebd",
      "value": " 7627/7627 [01:33&lt;00:00, 88.47it/s]"
     }
    },
    "a697551f7e0649458104ea54b8f41505": {
     "model_module": "@jupyter-widgets/controls",
     "model_module_version": "1.5.0",
     "model_name": "HBoxModel",
     "state": {
      "_dom_classes": [],
      "_model_module": "@jupyter-widgets/controls",
      "_model_module_version": "1.5.0",
      "_model_name": "HBoxModel",
      "_view_count": null,
      "_view_module": "@jupyter-widgets/controls",
      "_view_module_version": "1.5.0",
      "_view_name": "HBoxView",
      "box_style": "",
      "children": [
       "IPY_MODEL_263c0d7bff714c7ab87983d6049e5b25",
       "IPY_MODEL_e55fa877f14347df9142bf52ddd52d7c",
       "IPY_MODEL_a39ce2e920b14888a2d8154a521549ac"
      ],
      "layout": "IPY_MODEL_899b3233eafe49e4b6f9dc5713fde4d7"
     }
    },
    "c2511ea186584958ad3e8a6861cd56aa": {
     "model_module": "@jupyter-widgets/base",
     "model_module_version": "1.2.0",
     "model_name": "LayoutModel",
     "state": {
      "_model_module": "@jupyter-widgets/base",
      "_model_module_version": "1.2.0",
      "_model_name": "LayoutModel",
      "_view_count": null,
      "_view_module": "@jupyter-widgets/base",
      "_view_module_version": "1.2.0",
      "_view_name": "LayoutView",
      "align_content": null,
      "align_items": null,
      "align_self": null,
      "border": null,
      "bottom": null,
      "display": null,
      "flex": null,
      "flex_flow": null,
      "grid_area": null,
      "grid_auto_columns": null,
      "grid_auto_flow": null,
      "grid_auto_rows": null,
      "grid_column": null,
      "grid_gap": null,
      "grid_row": null,
      "grid_template_areas": null,
      "grid_template_columns": null,
      "grid_template_rows": null,
      "height": null,
      "justify_content": null,
      "justify_items": null,
      "left": null,
      "margin": null,
      "max_height": null,
      "max_width": null,
      "min_height": null,
      "min_width": null,
      "object_fit": null,
      "object_position": null,
      "order": null,
      "overflow": null,
      "overflow_x": null,
      "overflow_y": null,
      "padding": null,
      "right": null,
      "top": null,
      "visibility": null,
      "width": null
     }
    },
    "c53afa7cee8f41408a792dfa5052e456": {
     "model_module": "@jupyter-widgets/controls",
     "model_module_version": "1.5.0",
     "model_name": "HBoxModel",
     "state": {
      "_dom_classes": [],
      "_model_module": "@jupyter-widgets/controls",
      "_model_module_version": "1.5.0",
      "_model_name": "HBoxModel",
      "_view_count": null,
      "_view_module": "@jupyter-widgets/controls",
      "_view_module_version": "1.5.0",
      "_view_name": "HBoxView",
      "box_style": "",
      "children": [
       "IPY_MODEL_8dbb2c8f1ed24aa3ad9094890b9aaf3e",
       "IPY_MODEL_4ba3a68321354b27886f0d8654ef524b",
       "IPY_MODEL_a64ac80da0d643819ff1d749c991d08c"
      ],
      "layout": "IPY_MODEL_c88d47135dc741ec9e865ab9a4892bf7"
     }
    },
    "c562b0e3bb674a828c1b0874ff760498": {
     "model_module": "@jupyter-widgets/base",
     "model_module_version": "1.2.0",
     "model_name": "LayoutModel",
     "state": {
      "_model_module": "@jupyter-widgets/base",
      "_model_module_version": "1.2.0",
      "_model_name": "LayoutModel",
      "_view_count": null,
      "_view_module": "@jupyter-widgets/base",
      "_view_module_version": "1.2.0",
      "_view_name": "LayoutView",
      "align_content": null,
      "align_items": null,
      "align_self": null,
      "border": null,
      "bottom": null,
      "display": null,
      "flex": null,
      "flex_flow": null,
      "grid_area": null,
      "grid_auto_columns": null,
      "grid_auto_flow": null,
      "grid_auto_rows": null,
      "grid_column": null,
      "grid_gap": null,
      "grid_row": null,
      "grid_template_areas": null,
      "grid_template_columns": null,
      "grid_template_rows": null,
      "height": null,
      "justify_content": null,
      "justify_items": null,
      "left": null,
      "margin": null,
      "max_height": null,
      "max_width": null,
      "min_height": null,
      "min_width": null,
      "object_fit": null,
      "object_position": null,
      "order": null,
      "overflow": null,
      "overflow_x": null,
      "overflow_y": null,
      "padding": null,
      "right": null,
      "top": null,
      "visibility": null,
      "width": null
     }
    },
    "c88d47135dc741ec9e865ab9a4892bf7": {
     "model_module": "@jupyter-widgets/base",
     "model_module_version": "1.2.0",
     "model_name": "LayoutModel",
     "state": {
      "_model_module": "@jupyter-widgets/base",
      "_model_module_version": "1.2.0",
      "_model_name": "LayoutModel",
      "_view_count": null,
      "_view_module": "@jupyter-widgets/base",
      "_view_module_version": "1.2.0",
      "_view_name": "LayoutView",
      "align_content": null,
      "align_items": null,
      "align_self": null,
      "border": null,
      "bottom": null,
      "display": null,
      "flex": null,
      "flex_flow": null,
      "grid_area": null,
      "grid_auto_columns": null,
      "grid_auto_flow": null,
      "grid_auto_rows": null,
      "grid_column": null,
      "grid_gap": null,
      "grid_row": null,
      "grid_template_areas": null,
      "grid_template_columns": null,
      "grid_template_rows": null,
      "height": null,
      "justify_content": null,
      "justify_items": null,
      "left": null,
      "margin": null,
      "max_height": null,
      "max_width": null,
      "min_height": null,
      "min_width": null,
      "object_fit": null,
      "object_position": null,
      "order": null,
      "overflow": null,
      "overflow_x": null,
      "overflow_y": null,
      "padding": null,
      "right": null,
      "top": null,
      "visibility": null,
      "width": null
     }
    },
    "db4689b4862847e68b9ed3e189991bf6": {
     "model_module": "@jupyter-widgets/controls",
     "model_module_version": "1.5.0",
     "model_name": "ProgressStyleModel",
     "state": {
      "_model_module": "@jupyter-widgets/controls",
      "_model_module_version": "1.5.0",
      "_model_name": "ProgressStyleModel",
      "_view_count": null,
      "_view_module": "@jupyter-widgets/base",
      "_view_module_version": "1.2.0",
      "_view_name": "StyleView",
      "bar_color": null,
      "description_width": ""
     }
    },
    "dc4e329522564a369874b5b13051779f": {
     "model_module": "@jupyter-widgets/base",
     "model_module_version": "1.2.0",
     "model_name": "LayoutModel",
     "state": {
      "_model_module": "@jupyter-widgets/base",
      "_model_module_version": "1.2.0",
      "_model_name": "LayoutModel",
      "_view_count": null,
      "_view_module": "@jupyter-widgets/base",
      "_view_module_version": "1.2.0",
      "_view_name": "LayoutView",
      "align_content": null,
      "align_items": null,
      "align_self": null,
      "border": null,
      "bottom": null,
      "display": null,
      "flex": null,
      "flex_flow": null,
      "grid_area": null,
      "grid_auto_columns": null,
      "grid_auto_flow": null,
      "grid_auto_rows": null,
      "grid_column": null,
      "grid_gap": null,
      "grid_row": null,
      "grid_template_areas": null,
      "grid_template_columns": null,
      "grid_template_rows": null,
      "height": null,
      "justify_content": null,
      "justify_items": null,
      "left": null,
      "margin": null,
      "max_height": null,
      "max_width": null,
      "min_height": null,
      "min_width": null,
      "object_fit": null,
      "object_position": null,
      "order": null,
      "overflow": null,
      "overflow_x": null,
      "overflow_y": null,
      "padding": null,
      "right": null,
      "top": null,
      "visibility": null,
      "width": null
     }
    },
    "ddeaba6a156f44718e2fb9cdf50d50ed": {
     "model_module": "@jupyter-widgets/controls",
     "model_module_version": "1.5.0",
     "model_name": "ProgressStyleModel",
     "state": {
      "_model_module": "@jupyter-widgets/controls",
      "_model_module_version": "1.5.0",
      "_model_name": "ProgressStyleModel",
      "_view_count": null,
      "_view_module": "@jupyter-widgets/base",
      "_view_module_version": "1.2.0",
      "_view_name": "StyleView",
      "bar_color": null,
      "description_width": ""
     }
    },
    "e55fa877f14347df9142bf52ddd52d7c": {
     "model_module": "@jupyter-widgets/controls",
     "model_module_version": "1.5.0",
     "model_name": "FloatProgressModel",
     "state": {
      "_dom_classes": [],
      "_model_module": "@jupyter-widgets/controls",
      "_model_module_version": "1.5.0",
      "_model_name": "FloatProgressModel",
      "_view_count": null,
      "_view_module": "@jupyter-widgets/controls",
      "_view_module_version": "1.5.0",
      "_view_name": "ProgressView",
      "bar_style": "success",
      "description": "",
      "description_tooltip": null,
      "layout": "IPY_MODEL_c562b0e3bb674a828c1b0874ff760498",
      "max": 1608,
      "min": 0,
      "orientation": "horizontal",
      "style": "IPY_MODEL_51c2e108c7ff421693c9cf72aa3f2bf6",
      "value": 1608
     }
    },
    "e6bdfff811774a54bcdaf03a5b2475e4": {
     "model_module": "@jupyter-widgets/base",
     "model_module_version": "1.2.0",
     "model_name": "LayoutModel",
     "state": {
      "_model_module": "@jupyter-widgets/base",
      "_model_module_version": "1.2.0",
      "_model_name": "LayoutModel",
      "_view_count": null,
      "_view_module": "@jupyter-widgets/base",
      "_view_module_version": "1.2.0",
      "_view_name": "LayoutView",
      "align_content": null,
      "align_items": null,
      "align_self": null,
      "border": null,
      "bottom": null,
      "display": null,
      "flex": null,
      "flex_flow": null,
      "grid_area": null,
      "grid_auto_columns": null,
      "grid_auto_flow": null,
      "grid_auto_rows": null,
      "grid_column": null,
      "grid_gap": null,
      "grid_row": null,
      "grid_template_areas": null,
      "grid_template_columns": null,
      "grid_template_rows": null,
      "height": null,
      "justify_content": null,
      "justify_items": null,
      "left": null,
      "margin": null,
      "max_height": null,
      "max_width": null,
      "min_height": null,
      "min_width": null,
      "object_fit": null,
      "object_position": null,
      "order": null,
      "overflow": null,
      "overflow_x": null,
      "overflow_y": null,
      "padding": null,
      "right": null,
      "top": null,
      "visibility": null,
      "width": null
     }
    },
    "fc7e58c0285d4acf918e9549d1b75e2c": {
     "model_module": "@jupyter-widgets/controls",
     "model_module_version": "1.5.0",
     "model_name": "HTMLModel",
     "state": {
      "_dom_classes": [],
      "_model_module": "@jupyter-widgets/controls",
      "_model_module_version": "1.5.0",
      "_model_name": "HTMLModel",
      "_view_count": null,
      "_view_module": "@jupyter-widgets/controls",
      "_view_module_version": "1.5.0",
      "_view_name": "HTMLView",
      "description": "",
      "description_tooltip": null,
      "layout": "IPY_MODEL_c2511ea186584958ad3e8a6861cd56aa",
      "placeholder": "​",
      "style": "IPY_MODEL_736719ab616a432abd38d07eb3f1df7a",
      "value": "100%"
     }
    }
   }
  }
 },
 "nbformat": 4,
 "nbformat_minor": 1
}
