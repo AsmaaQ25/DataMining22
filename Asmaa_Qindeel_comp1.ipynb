{
 "cells": [
  {
   "cell_type": "markdown",
   "id": "fd63a8bc",
   "metadata": {},
   "source": [
    "# CISC 873 Data Mining Competition #1\n",
    "name: Asmaa Qindeel\n",
    "code: 21aaae1"
   ]
  },
  {
   "cell_type": "markdown",
   "id": "283ac45a",
   "metadata": {},
   "source": [
    "# TOPICS:\n",
    "* [Questions & Answers](#Questions)\n",
    "* [Introduction to problem](#intro)\n",
    "* [**Abstract**](#abst)\n",
    "\n",
    "**Code Part**\n",
    "\n",
    "* [Data Cleaning](#data1)\n",
    "* [Data Analysis](#data2)\n",
    "* [Data Preprocessing](#data3)\n",
    "* [Trail 0: Naive Bayes ](#t0)\n",
    "* [Trail 1: Decision  Trees ](#t1)\n",
    "* [Trail 2: Decesion Trees with Features selection](#t2)\n",
    "* [Trail 3: SVM then Grid search ](#t3)\n",
    "* [more trials](#t6)\n",
    "* [more:Bagging and Stacking](#more)\n",
    "\n",
    "**vision**\n",
    "\n",
    "* [Vision: Data Resampling](#Resample_data)"
   ]
  },
  {
   "cell_type": "markdown",
   "id": "3d5ccf78",
   "metadata": {},
   "source": [
    "# Questions:  <a class=\"anchor\" id=\"Questions\"></a>\n",
    "1- Why Data Mining is a misnomer? What is another preferred name?\n",
    "* because we are not digging for more data or more row of useless numbers, but for something more meaningfull and usefull to us. Basically data with depth a.k.a knowledge, the relations between data, connecting the dots, it is more critic and valuable than just random samples. So, **knowledge extraction** is a better name\n",
    "\n",
    "2- What is the general knowledge discovery process? What is the difference between a data engineer and data scientist/AI engineer?\n",
    "* I'm not sure what you mean in the first Q. \n",
    "* The data engineer is someone who takes care and manages the data as it is, doesn't try to chage it into anything deeper like knowledge. The Data Scientist looks to extract something different from the data other than its view. in another word, the data engineer is more interested in th representation of data while the scientist takes interest in the behaviour of data. also Data engineering is a boring job, i used to do it.\n",
    "\n",
    "3- In data mining, what is the difference between prediction and categorization?\n",
    "* Prediction is futuristic knowledge -data i don't have yet- from current data, categorization is labeling what we already have.\n",
    "\n",
    "4- Why data science/machine learning is a bad idea in the context of information security?\n",
    "* applying Ds/ML on any sort of data could tell you critical information. it is basically like having a stalker recording every movement you make, every penny you spend. that is a privacy breach. what if this was used on secure information, like money movements, national payments, secret army sceduales, security systems!\n",
    "\n",
    "5- What is CIA principle and how can we use it to access the security/privacy aspect of the AI system/pipelines?\n",
    "* confidentiality, integrity, and availability. by attacking confidentiality you can disclose Personal information, Proprietary information, Government classified information... by using attacks on the model (Information Leak, Reconstruct original Training set, Steal neural nets, membership inference). attacking on ntegrity level may lead to: Unauthorized transactions, Wrong execution of software, Corruption of data... using (adversarial attack, backdoor attacks). Attacking on the availability level may lead to: Denial of Service, Loss of Data."
   ]
  },
  {
   "cell_type": "markdown",
   "id": "e2ada89c",
   "metadata": {},
   "source": [
    "# Problem Formulation:<a class=\"anchor\" id=\"intro\"></a>\n",
    "\n",
    "The problem is multi-class classification, the input is various information about products and the output is 'rating', the predicted ratings of these products, ranging for 1:5.\n",
    "\n",
    "Some of the challenges will be data visualization and analysis, the data is not clean, not direct, and it is filled with noise. Basically it is human-collected, more like a survey data, so it doesn't have any standards.\n",
    "Another challenge will be coding, it will take time to get skilled with pandas and sklearn. But hopefully this will be the impact of this project, better coding skill.\n",
    "\n",
    "## Impact:\n",
    "The impact of the porblem it self lies within how wish.com would use their model? for better customer recomendation or for decieving customers, like we said Data mining couldbe used for evil causes.\n",
    "Personal Impact: i really got better with python and pandas duringthis asignment. I also got many many seafood recipes because that was my study escape :D \n",
    "\n",
    "\n",
    "# Experimental Protocol:\n",
    "## Preprocessing:\n",
    "after cleaning, \n",
    "\n",
    "I applied label encoding on the categorical data for decision tree, \n",
    "\n",
    "I normalized for the SVM.\n",
    "\n",
    "steps: \n",
    "\n",
    "    -new_model -fetch data specified for new_model -Train then test with hold out, take notes -re-train model over entire set -predict and save results -enhance model -start over with new model"
   ]
  },
  {
   "cell_type": "markdown",
   "id": "d53f5a91",
   "metadata": {},
   "source": [
    "---"
   ]
  },
  {
   "cell_type": "markdown",
   "id": "08423653",
   "metadata": {},
   "source": [
    "# Results and Discussion(abstract): <a class=\"anchor\" id=\"abst\"></a>\n",
    "The data is human gathered,so it was a challenge.\n",
    "\n",
    "Naive Bayes was the worst model, it performed 0.4 average f1-score, because the data is unbalanced, dependent, and chaotic, while Naive assumes normal, independant, distributed data.\n",
    "\n",
    "SVM was a better model, performed around 0.7 average f1_score with kernels(poly 3rd degree, rbf, and linear) which is understandable since the three configs are rather close to each other in our case. I used gridSearch to find the best config, it was poly of order 2 with penalty 0.7.\n",
    "\n",
    "Decision trees are the most promising model, it was higher than 0.7 with max_depth=7, this means the problem can do better with less features.\n",
    "## Feature Selection models:\n",
    "* KBest model with chi2: adapted from [stackexchange](https://stats.stackexchange.com/)  features selected upgraded naive from 0.4 f1-score to 0.6.\n",
    "* ExtraTreesClassifier **best model so far**  with 0.8 f1-score\n",
    "\n",
    "## Ideal solution (Future Vision):\n",
    "* My next tryout would be to make data balanced, i read an article called [Dealing with Imbalanced Data](https://towardsdatascience.com/methods-for-dealing-with-imbalanced-data-5b761be45a18).the process is to repeat random samples -make up data- for the low sampled-classes, like rate (1) it had only 2 sample points, and rate (2) it had 12 sample points, while rate (4) had over 400 sample points, this unbalanced data could make the model unbiased against the low sampled classes - except Decision trees i think, because it is not affected by the distribution of samples-\n",
    "\n",
    "* Also, For the next solution/try, I thought to view the complete f1-score, separately for each class. I only viewed the *average f1-score* but then I observed certain classes kept getting low f1. I'm not sure what, but i would do something towards those classes' samples, really dig deep in the data."
   ]
  },
  {
   "cell_type": "markdown",
   "id": "b0678fe0",
   "metadata": {},
   "source": [
    "# Before starting: Data cleaning and analysis. <a class=\"anchor\" id=\"data0\"></a>\n",
    "*Idea*: visualize and understand the data using code, without actually seeing it, because human eye will not catch everything.  "
   ]
  },
  {
   "cell_type": "code",
   "execution_count": 1,
   "id": "da984494",
   "metadata": {},
   "outputs": [],
   "source": [
    "import numpy as np\n",
    "import pandas as pd"
   ]
  },
  {
   "cell_type": "code",
   "execution_count": 2,
   "id": "2c819782",
   "metadata": {},
   "outputs": [
    {
     "name": "stdout",
     "output_type": "stream",
     "text": [
      "(1094, 34) (479, 34) (1573, 34)\n"
     ]
    },
    {
     "data": {
      "text/html": [
       "<div>\n",
       "<style scoped>\n",
       "    .dataframe tbody tr th:only-of-type {\n",
       "        vertical-align: middle;\n",
       "    }\n",
       "\n",
       "    .dataframe tbody tr th {\n",
       "        vertical-align: top;\n",
       "    }\n",
       "\n",
       "    .dataframe thead th {\n",
       "        text-align: right;\n",
       "    }\n",
       "</style>\n",
       "<table border=\"1\" class=\"dataframe\">\n",
       "  <thead>\n",
       "    <tr style=\"text-align: right;\">\n",
       "      <th></th>\n",
       "      <th>price</th>\n",
       "      <th>retail_price</th>\n",
       "      <th>currency_buyer</th>\n",
       "      <th>units_sold</th>\n",
       "      <th>uses_ad_boosts</th>\n",
       "      <th>rating</th>\n",
       "      <th>rating_count</th>\n",
       "      <th>badges_count</th>\n",
       "      <th>badge_local_product</th>\n",
       "      <th>badge_product_quality</th>\n",
       "      <th>...</th>\n",
       "      <th>merchant_name</th>\n",
       "      <th>merchant_info_subtitle</th>\n",
       "      <th>merchant_rating_count</th>\n",
       "      <th>merchant_rating</th>\n",
       "      <th>merchant_id</th>\n",
       "      <th>merchant_has_profile_picture</th>\n",
       "      <th>merchant_profile_picture</th>\n",
       "      <th>theme</th>\n",
       "      <th>crawl_month</th>\n",
       "      <th>id</th>\n",
       "    </tr>\n",
       "  </thead>\n",
       "  <tbody>\n",
       "    <tr>\n",
       "      <th>count</th>\n",
       "      <td>1573.000000</td>\n",
       "      <td>1573.000000</td>\n",
       "      <td>1573</td>\n",
       "      <td>1573.000000</td>\n",
       "      <td>1573.000000</td>\n",
       "      <td>1573.000000</td>\n",
       "      <td>1573.000000</td>\n",
       "      <td>1573.000000</td>\n",
       "      <td>1573.000000</td>\n",
       "      <td>1573.000000</td>\n",
       "      <td>...</td>\n",
       "      <td>1569</td>\n",
       "      <td>1572</td>\n",
       "      <td>1.573000e+03</td>\n",
       "      <td>1573.000000</td>\n",
       "      <td>1573</td>\n",
       "      <td>1573.000000</td>\n",
       "      <td>226</td>\n",
       "      <td>1573</td>\n",
       "      <td>1573</td>\n",
       "      <td>1573.000000</td>\n",
       "    </tr>\n",
       "    <tr>\n",
       "      <th>unique</th>\n",
       "      <td>NaN</td>\n",
       "      <td>NaN</td>\n",
       "      <td>1</td>\n",
       "      <td>NaN</td>\n",
       "      <td>NaN</td>\n",
       "      <td>NaN</td>\n",
       "      <td>NaN</td>\n",
       "      <td>NaN</td>\n",
       "      <td>NaN</td>\n",
       "      <td>NaN</td>\n",
       "      <td>...</td>\n",
       "      <td>957</td>\n",
       "      <td>1058</td>\n",
       "      <td>NaN</td>\n",
       "      <td>NaN</td>\n",
       "      <td>958</td>\n",
       "      <td>NaN</td>\n",
       "      <td>125</td>\n",
       "      <td>1</td>\n",
       "      <td>1</td>\n",
       "      <td>NaN</td>\n",
       "    </tr>\n",
       "    <tr>\n",
       "      <th>top</th>\n",
       "      <td>NaN</td>\n",
       "      <td>NaN</td>\n",
       "      <td>EUR</td>\n",
       "      <td>NaN</td>\n",
       "      <td>NaN</td>\n",
       "      <td>NaN</td>\n",
       "      <td>NaN</td>\n",
       "      <td>NaN</td>\n",
       "      <td>NaN</td>\n",
       "      <td>NaN</td>\n",
       "      <td>...</td>\n",
       "      <td>广州唯适唯服饰有限公司</td>\n",
       "      <td>83 % avis positifs (32,168 notes)</td>\n",
       "      <td>NaN</td>\n",
       "      <td>NaN</td>\n",
       "      <td>558c2cdc89d53c4005ea2920</td>\n",
       "      <td>NaN</td>\n",
       "      <td>https://s3-us-west-1.amazonaws.com/sweeper-pro...</td>\n",
       "      <td>summer</td>\n",
       "      <td>2020-08</td>\n",
       "      <td>NaN</td>\n",
       "    </tr>\n",
       "    <tr>\n",
       "      <th>freq</th>\n",
       "      <td>NaN</td>\n",
       "      <td>NaN</td>\n",
       "      <td>1573</td>\n",
       "      <td>NaN</td>\n",
       "      <td>NaN</td>\n",
       "      <td>NaN</td>\n",
       "      <td>NaN</td>\n",
       "      <td>NaN</td>\n",
       "      <td>NaN</td>\n",
       "      <td>NaN</td>\n",
       "      <td>...</td>\n",
       "      <td>15</td>\n",
       "      <td>14</td>\n",
       "      <td>NaN</td>\n",
       "      <td>NaN</td>\n",
       "      <td>15</td>\n",
       "      <td>NaN</td>\n",
       "      <td>12</td>\n",
       "      <td>1573</td>\n",
       "      <td>1573</td>\n",
       "      <td>NaN</td>\n",
       "    </tr>\n",
       "    <tr>\n",
       "      <th>mean</th>\n",
       "      <td>8.325372</td>\n",
       "      <td>23.288620</td>\n",
       "      <td>NaN</td>\n",
       "      <td>4339.005086</td>\n",
       "      <td>0.432931</td>\n",
       "      <td>32.933249</td>\n",
       "      <td>889.659250</td>\n",
       "      <td>0.105531</td>\n",
       "      <td>0.018436</td>\n",
       "      <td>0.074380</td>\n",
       "      <td>...</td>\n",
       "      <td>NaN</td>\n",
       "      <td>NaN</td>\n",
       "      <td>2.649583e+04</td>\n",
       "      <td>4.032345</td>\n",
       "      <td>NaN</td>\n",
       "      <td>0.143675</td>\n",
       "      <td>NaN</td>\n",
       "      <td>NaN</td>\n",
       "      <td>NaN</td>\n",
       "      <td>786.000000</td>\n",
       "    </tr>\n",
       "    <tr>\n",
       "      <th>std</th>\n",
       "      <td>3.932030</td>\n",
       "      <td>30.357863</td>\n",
       "      <td>NaN</td>\n",
       "      <td>9356.539302</td>\n",
       "      <td>0.495639</td>\n",
       "      <td>43.732794</td>\n",
       "      <td>1983.928834</td>\n",
       "      <td>0.340709</td>\n",
       "      <td>0.134565</td>\n",
       "      <td>0.262472</td>\n",
       "      <td>...</td>\n",
       "      <td>NaN</td>\n",
       "      <td>NaN</td>\n",
       "      <td>7.847446e+04</td>\n",
       "      <td>0.204768</td>\n",
       "      <td>NaN</td>\n",
       "      <td>0.350871</td>\n",
       "      <td>NaN</td>\n",
       "      <td>NaN</td>\n",
       "      <td>NaN</td>\n",
       "      <td>454.230301</td>\n",
       "    </tr>\n",
       "    <tr>\n",
       "      <th>min</th>\n",
       "      <td>1.000000</td>\n",
       "      <td>1.000000</td>\n",
       "      <td>NaN</td>\n",
       "      <td>1.000000</td>\n",
       "      <td>0.000000</td>\n",
       "      <td>1.000000</td>\n",
       "      <td>0.000000</td>\n",
       "      <td>0.000000</td>\n",
       "      <td>0.000000</td>\n",
       "      <td>0.000000</td>\n",
       "      <td>...</td>\n",
       "      <td>NaN</td>\n",
       "      <td>NaN</td>\n",
       "      <td>0.000000e+00</td>\n",
       "      <td>2.333333</td>\n",
       "      <td>NaN</td>\n",
       "      <td>0.000000</td>\n",
       "      <td>NaN</td>\n",
       "      <td>NaN</td>\n",
       "      <td>NaN</td>\n",
       "      <td>0.000000</td>\n",
       "    </tr>\n",
       "    <tr>\n",
       "      <th>25%</th>\n",
       "      <td>5.810000</td>\n",
       "      <td>7.000000</td>\n",
       "      <td>NaN</td>\n",
       "      <td>100.000000</td>\n",
       "      <td>0.000000</td>\n",
       "      <td>4.000000</td>\n",
       "      <td>24.000000</td>\n",
       "      <td>0.000000</td>\n",
       "      <td>0.000000</td>\n",
       "      <td>0.000000</td>\n",
       "      <td>...</td>\n",
       "      <td>NaN</td>\n",
       "      <td>NaN</td>\n",
       "      <td>1.987000e+03</td>\n",
       "      <td>3.917353</td>\n",
       "      <td>NaN</td>\n",
       "      <td>0.000000</td>\n",
       "      <td>NaN</td>\n",
       "      <td>NaN</td>\n",
       "      <td>NaN</td>\n",
       "      <td>393.000000</td>\n",
       "    </tr>\n",
       "    <tr>\n",
       "      <th>50%</th>\n",
       "      <td>8.000000</td>\n",
       "      <td>10.000000</td>\n",
       "      <td>NaN</td>\n",
       "      <td>1000.000000</td>\n",
       "      <td>0.000000</td>\n",
       "      <td>4.000000</td>\n",
       "      <td>150.000000</td>\n",
       "      <td>0.000000</td>\n",
       "      <td>0.000000</td>\n",
       "      <td>0.000000</td>\n",
       "      <td>...</td>\n",
       "      <td>NaN</td>\n",
       "      <td>NaN</td>\n",
       "      <td>7.936000e+03</td>\n",
       "      <td>4.040650</td>\n",
       "      <td>NaN</td>\n",
       "      <td>0.000000</td>\n",
       "      <td>NaN</td>\n",
       "      <td>NaN</td>\n",
       "      <td>NaN</td>\n",
       "      <td>786.000000</td>\n",
       "    </tr>\n",
       "    <tr>\n",
       "      <th>75%</th>\n",
       "      <td>11.000000</td>\n",
       "      <td>26.000000</td>\n",
       "      <td>NaN</td>\n",
       "      <td>5000.000000</td>\n",
       "      <td>1.000000</td>\n",
       "      <td>99.000000</td>\n",
       "      <td>855.000000</td>\n",
       "      <td>0.000000</td>\n",
       "      <td>0.000000</td>\n",
       "      <td>0.000000</td>\n",
       "      <td>...</td>\n",
       "      <td>NaN</td>\n",
       "      <td>NaN</td>\n",
       "      <td>2.456400e+04</td>\n",
       "      <td>4.161797</td>\n",
       "      <td>NaN</td>\n",
       "      <td>0.000000</td>\n",
       "      <td>NaN</td>\n",
       "      <td>NaN</td>\n",
       "      <td>NaN</td>\n",
       "      <td>1179.000000</td>\n",
       "    </tr>\n",
       "    <tr>\n",
       "      <th>max</th>\n",
       "      <td>49.000000</td>\n",
       "      <td>252.000000</td>\n",
       "      <td>NaN</td>\n",
       "      <td>100000.000000</td>\n",
       "      <td>1.000000</td>\n",
       "      <td>99.000000</td>\n",
       "      <td>20744.000000</td>\n",
       "      <td>3.000000</td>\n",
       "      <td>1.000000</td>\n",
       "      <td>1.000000</td>\n",
       "      <td>...</td>\n",
       "      <td>NaN</td>\n",
       "      <td>NaN</td>\n",
       "      <td>2.174765e+06</td>\n",
       "      <td>5.000000</td>\n",
       "      <td>NaN</td>\n",
       "      <td>1.000000</td>\n",
       "      <td>NaN</td>\n",
       "      <td>NaN</td>\n",
       "      <td>NaN</td>\n",
       "      <td>1572.000000</td>\n",
       "    </tr>\n",
       "  </tbody>\n",
       "</table>\n",
       "<p>11 rows × 34 columns</p>\n",
       "</div>"
      ],
      "text/plain": [
       "              price  retail_price currency_buyer     units_sold  \\\n",
       "count   1573.000000   1573.000000           1573    1573.000000   \n",
       "unique          NaN           NaN              1            NaN   \n",
       "top             NaN           NaN            EUR            NaN   \n",
       "freq            NaN           NaN           1573            NaN   \n",
       "mean       8.325372     23.288620            NaN    4339.005086   \n",
       "std        3.932030     30.357863            NaN    9356.539302   \n",
       "min        1.000000      1.000000            NaN       1.000000   \n",
       "25%        5.810000      7.000000            NaN     100.000000   \n",
       "50%        8.000000     10.000000            NaN    1000.000000   \n",
       "75%       11.000000     26.000000            NaN    5000.000000   \n",
       "max       49.000000    252.000000            NaN  100000.000000   \n",
       "\n",
       "        uses_ad_boosts       rating  rating_count  badges_count  \\\n",
       "count      1573.000000  1573.000000   1573.000000   1573.000000   \n",
       "unique             NaN          NaN           NaN           NaN   \n",
       "top                NaN          NaN           NaN           NaN   \n",
       "freq               NaN          NaN           NaN           NaN   \n",
       "mean          0.432931    32.933249    889.659250      0.105531   \n",
       "std           0.495639    43.732794   1983.928834      0.340709   \n",
       "min           0.000000     1.000000      0.000000      0.000000   \n",
       "25%           0.000000     4.000000     24.000000      0.000000   \n",
       "50%           0.000000     4.000000    150.000000      0.000000   \n",
       "75%           1.000000    99.000000    855.000000      0.000000   \n",
       "max           1.000000    99.000000  20744.000000      3.000000   \n",
       "\n",
       "        badge_local_product  badge_product_quality  ...  merchant_name  \\\n",
       "count           1573.000000            1573.000000  ...           1569   \n",
       "unique                  NaN                    NaN  ...            957   \n",
       "top                     NaN                    NaN  ...    广州唯适唯服饰有限公司   \n",
       "freq                    NaN                    NaN  ...             15   \n",
       "mean               0.018436               0.074380  ...            NaN   \n",
       "std                0.134565               0.262472  ...            NaN   \n",
       "min                0.000000               0.000000  ...            NaN   \n",
       "25%                0.000000               0.000000  ...            NaN   \n",
       "50%                0.000000               0.000000  ...            NaN   \n",
       "75%                0.000000               0.000000  ...            NaN   \n",
       "max                1.000000               1.000000  ...            NaN   \n",
       "\n",
       "                   merchant_info_subtitle merchant_rating_count  \\\n",
       "count                                1572          1.573000e+03   \n",
       "unique                               1058                   NaN   \n",
       "top     83 % avis positifs (32,168 notes)                   NaN   \n",
       "freq                                   14                   NaN   \n",
       "mean                                  NaN          2.649583e+04   \n",
       "std                                   NaN          7.847446e+04   \n",
       "min                                   NaN          0.000000e+00   \n",
       "25%                                   NaN          1.987000e+03   \n",
       "50%                                   NaN          7.936000e+03   \n",
       "75%                                   NaN          2.456400e+04   \n",
       "max                                   NaN          2.174765e+06   \n",
       "\n",
       "       merchant_rating               merchant_id merchant_has_profile_picture  \\\n",
       "count      1573.000000                      1573                  1573.000000   \n",
       "unique             NaN                       958                          NaN   \n",
       "top                NaN  558c2cdc89d53c4005ea2920                          NaN   \n",
       "freq               NaN                        15                          NaN   \n",
       "mean          4.032345                       NaN                     0.143675   \n",
       "std           0.204768                       NaN                     0.350871   \n",
       "min           2.333333                       NaN                     0.000000   \n",
       "25%           3.917353                       NaN                     0.000000   \n",
       "50%           4.040650                       NaN                     0.000000   \n",
       "75%           4.161797                       NaN                     0.000000   \n",
       "max           5.000000                       NaN                     1.000000   \n",
       "\n",
       "                                 merchant_profile_picture   theme  \\\n",
       "count                                                 226    1573   \n",
       "unique                                                125       1   \n",
       "top     https://s3-us-west-1.amazonaws.com/sweeper-pro...  summer   \n",
       "freq                                                   12    1573   \n",
       "mean                                                  NaN     NaN   \n",
       "std                                                   NaN     NaN   \n",
       "min                                                   NaN     NaN   \n",
       "25%                                                   NaN     NaN   \n",
       "50%                                                   NaN     NaN   \n",
       "75%                                                   NaN     NaN   \n",
       "max                                                   NaN     NaN   \n",
       "\n",
       "        crawl_month           id  \n",
       "count          1573  1573.000000  \n",
       "unique            1          NaN  \n",
       "top         2020-08          NaN  \n",
       "freq           1573          NaN  \n",
       "mean            NaN   786.000000  \n",
       "std             NaN   454.230301  \n",
       "min             NaN     0.000000  \n",
       "25%             NaN   393.000000  \n",
       "50%             NaN   786.000000  \n",
       "75%             NaN  1179.000000  \n",
       "max             NaN  1572.000000  \n",
       "\n",
       "[11 rows x 34 columns]"
      ]
     },
     "execution_count": 2,
     "metadata": {},
     "output_type": "execute_result"
    }
   ],
   "source": [
    "#load the data, train and test together for cleaning and preprocessing\n",
    "train_file = pd.read_csv('train_new.csv', header = 0)\n",
    "test_file = pd.read_csv('test_new.csv', header = 0)\n",
    "\n",
    "\n",
    "#add dummy 'rating' value for the test_file to mask with it later.(To call the test samples alone)\n",
    "# hint: i checked that 99 is not a false rating in the train file\n",
    "test_file['rating'] = 99 \n",
    "\n",
    "df = pd.concat([train_file, test_file]) \n",
    "\n",
    "#take a look at the data\n",
    "print(train_file.shape ,test_file.shape, df.shape)\n",
    "df.describe(include='all')"
   ]
  },
  {
   "cell_type": "markdown",
   "id": "66c849ad",
   "metadata": {},
   "source": [
    ">notice the target 'rating' is not at the end column\n",
    "\n",
    ">unique, top, freq are for categorical data."
   ]
  },
  {
   "cell_type": "markdown",
   "id": "ae694357",
   "metadata": {},
   "source": [
    "#### Understanding how much is missing\n"
   ]
  },
  {
   "cell_type": "code",
   "execution_count": 3,
   "id": "836017cc",
   "metadata": {},
   "outputs": [
    {
     "data": {
      "text/plain": [
       "merchant_profile_picture     1347\n",
       "has_urgency_banner           1100\n",
       "urgency_text                 1100\n",
       "product_color                  41\n",
       "origin_country                 17\n",
       "product_variation_size_id      14\n",
       "merchant_name                   4\n",
       "merchant_info_subtitle          1\n",
       "merchant_title                  0\n",
       "price                           0\n",
       "dtype: int64"
      ]
     },
     "execution_count": 3,
     "metadata": {},
     "output_type": "execute_result"
    }
   ],
   "source": [
    "# missing values per-column \n",
    "total = df.isnull().sum().sort_values(ascending=False)\n",
    "total.nlargest(10)"
   ]
  },
  {
   "cell_type": "markdown",
   "id": "06027a25",
   "metadata": {},
   "source": [
    "## steps for cleaning: missing values handling <a class=\"anchor\" id=\"data1\"></a>\n",
    "   \n",
    "    1.rearrange keys make 'rating' at the end\n",
    "    2.replace nan value: \n",
    "        A. in numeric features with random small number like 0.00125, this is because I'm afraid there is a categorical zero in the data that i can't see, so this way 0.00125 would be close to zero, so no significant effect, but doesn't change the distripution of other zero values.\n",
    "        B. in Categorical features fillna with space \" \"\n",
    "    3. remove redundant columns/features, that have only one value, so they are useless in the learning process\n",
    "        3.b. feature selection: remove logically useless columns, like ('merchant_id', 'id', 'merchant_profile_picture', 'merchant_info_subtitle') i chose the last two by sense. First the picture can't be helpfull in the learning since we can't lock at it, and this is not CNN. \"merchant_info_subtitle\" I don't think it was a meaninglful data for the client who rated the product - \n",
    "*who rates based on merchant_info_subtitle?! a robot?*\n",
    "\n",
    "    4.drop all Nan rows\n",
    "    5.check and tweek the false data\n",
    "    6. personal choice: turn 'tags' feature into len(tags)"
   ]
  },
  {
   "cell_type": "markdown",
   "id": "f3111c79",
   "metadata": {},
   "source": [
    "#### now for the 'tags' feature, I figured it would contribute to the rating in two ways:\n",
    " 1. Accuracy of it, i.e. having keywords on a product that actually describes it, not like having keyword= 'men clothing' on a 'dress'\n",
    " 2. the length of the tags. Having several keywords on the product makes it easer to search for, hence better rating.\n",
    " > Now, since we can't measure the accuracy of the given tags, I will ***assume*** they are true, and i will take their length as a feature instead."
   ]
  },
  {
   "cell_type": "code",
   "execution_count": 4,
   "id": "8fb071b6",
   "metadata": {},
   "outputs": [],
   "source": [
    "# 1-- reindex 'rating' to be at end of DataFrame for ease\n",
    "#hint: get all keys with df.keys()\n",
    "\n",
    "df = df.reindex(labels=['price', 'retail_price', 'currency_buyer', 'units_sold',\n",
    "       'uses_ad_boosts', 'rating_count', 'badges_count',\n",
    "       'badge_local_product', 'badge_product_quality', 'badge_fast_shipping',\n",
    "       'tags', 'product_color', 'product_variation_size_id',\n",
    "       'product_variation_inventory', 'shipping_option_name',\n",
    "       'shipping_option_price', 'shipping_is_express', 'countries_shipped_to',\n",
    "       'inventory_total', 'has_urgency_banner', 'urgency_text',\n",
    "       'origin_country', 'merchant_title', 'merchant_name',\n",
    "       'merchant_info_subtitle', 'merchant_rating_count', 'merchant_rating',\n",
    "       'merchant_id', 'merchant_has_profile_picture',\n",
    "       'merchant_profile_picture', 'theme', 'crawl_month', 'id', 'rating'], axis = 1)"
   ]
  },
  {
   "cell_type": "code",
   "execution_count": 5,
   "id": "08cfdbdf",
   "metadata": {},
   "outputs": [
    {
     "data": {
      "text/plain": [
       "Index(['currency_buyer', 'theme', 'crawl_month'], dtype='object')"
      ]
     },
     "execution_count": 5,
     "metadata": {},
     "output_type": "execute_result"
    }
   ],
   "source": [
    "# 2-- fillna in numeric with a 'random' small number  \n",
    "\n",
    "# replace Nan in number columns with 0.00125\n",
    "# replace Nan in srting columns with space\n",
    "\n",
    "df.update(df.select_dtypes(include=[np.number]).fillna(0.0125))\n",
    "df.update(df.select_dtypes(include=[object]).fillna(\" \", axis = 1))\n",
    "\n",
    "#3--  remove redundant column/features\n",
    "# to do so, we need to fill the nan values - we already did\n",
    "# then, check useless columns, the columns with only one value\n",
    "#using mask df.nunique() == 1 gets you the columns with number of unique values = 1 \n",
    "useless_columns_keys = df.loc[:, df.nunique()==1].keys()\n",
    "useless_columns_keys"
   ]
  },
  {
   "cell_type": "code",
   "execution_count": 6,
   "id": "0702b760",
   "metadata": {},
   "outputs": [
    {
     "data": {
      "text/plain": [
       "price                            127\n",
       "retail_price                     104\n",
       "currency_buyer                     1\n",
       "units_sold                        15\n",
       "uses_ad_boosts                     2\n",
       "rating_count                     761\n",
       "badges_count                       4\n",
       "badge_local_product                2\n",
       "badge_product_quality              2\n",
       "badge_fast_shipping                2\n",
       "tags                            1230\n",
       "product_color                    102\n",
       "product_variation_size_id        107\n",
       "product_variation_inventory       48\n",
       "shipping_option_name              15\n",
       "shipping_option_price              8\n",
       "shipping_is_express                2\n",
       "countries_shipped_to              94\n",
       "inventory_total                   10\n",
       "has_urgency_banner                 2\n",
       "urgency_text                       3\n",
       "origin_country                     7\n",
       "merchant_title                   958\n",
       "merchant_name                    958\n",
       "merchant_info_subtitle          1059\n",
       "merchant_rating_count            917\n",
       "merchant_rating                  952\n",
       "merchant_id                      958\n",
       "merchant_has_profile_picture       2\n",
       "merchant_profile_picture         126\n",
       "theme                              1\n",
       "crawl_month                        1\n",
       "id                              1573\n",
       "rating                             7\n",
       "dtype: int64"
      ]
     },
     "execution_count": 6,
     "metadata": {},
     "output_type": "execute_result"
    }
   ],
   "source": [
    "df.nunique()"
   ]
  },
  {
   "cell_type": "markdown",
   "id": "2228a795",
   "metadata": {},
   "source": [
    ">why is rating 7 values??  it is supposed to be from 1:5 + one dummy value of my choice(99)"
   ]
  },
  {
   "cell_type": "code",
   "execution_count": 7,
   "id": "db153e99",
   "metadata": {},
   "outputs": [
    {
     "data": {
      "text/plain": [
       "array([ 4.,  3.,  5.,  2.,  1.,  6., 99.])"
      ]
     },
     "execution_count": 7,
     "metadata": {},
     "output_type": "execute_result"
    }
   ],
   "source": [
    "# why is rating 6 values??  6+my own dummy value 99\n",
    "rating_values = pd.Series(df['rating'])\n",
    "rating_values.unique()"
   ]
  },
  {
   "cell_type": "markdown",
   "id": "0b125a9d",
   "metadata": {},
   "source": [
    "Lets assume that 6 was mistaken for 5. and replace 6 with 5"
   ]
  },
  {
   "cell_type": "code",
   "execution_count": 8,
   "id": "34ba4a22",
   "metadata": {},
   "outputs": [
    {
     "data": {
      "text/plain": [
       "array([ 4.,  3.,  5.,  2.,  1., 99.])"
      ]
     },
     "execution_count": 8,
     "metadata": {},
     "output_type": "execute_result"
    }
   ],
   "source": [
    "df['rating'] = df['rating'].replace(6, 5)\n",
    "rating_values = pd.Series(df['rating'])\n",
    "rating_values.unique()"
   ]
  },
  {
   "cell_type": "code",
   "execution_count": 9,
   "id": "327485c9",
   "metadata": {},
   "outputs": [
    {
     "name": "stdout",
     "output_type": "stream",
     "text": [
      "(1573, 34)\n"
     ]
    },
    {
     "data": {
      "text/plain": [
       "(479, 34)"
      ]
     },
     "execution_count": 9,
     "metadata": {},
     "output_type": "execute_result"
    }
   ],
   "source": [
    "# # 4-- drop duplicate and all NAN rows (if any)\n",
    "df.dropna(axis= 'rows', how = 'all', inplace=True)\n",
    "df.drop_duplicates(inplace=True)\n",
    "#check shape train samples\n",
    "print(df.shape )\n",
    "#check shape of test samples - make sure no row is deleted\n",
    "df[df['rating'] == 99].shape"
   ]
  },
  {
   "cell_type": "code",
   "execution_count": 10,
   "id": "e6f3f0c3",
   "metadata": {},
   "outputs": [],
   "source": [
    "# Feature selection : drop useless columns:\n",
    "\n",
    "df.drop(labels=['currency_buyer', 'theme', 'crawl_month' ], axis = 1, inplace=True)\n",
    "\n",
    "# 3-- drop 'merchant_id' because it is useless in the rating outcome,\n",
    "# but keeping merchant_name, because the name of a brand does matter in the rating\n",
    "#  and of course drop 'id'\n",
    "df.drop(labels=['merchant_id', 'id', 'merchant_profile_picture', 'merchant_info_subtitle']\n",
    "             , axis = 1, inplace=True)"
   ]
  },
  {
   "cell_type": "code",
   "execution_count": 11,
   "id": "724c16ab",
   "metadata": {},
   "outputs": [
    {
     "name": "stdout",
     "output_type": "stream",
     "text": [
      "(1573, 27) Index(['price', 'retail_price', 'units_sold', 'uses_ad_boosts', 'rating_count',\n",
      "       'badges_count', 'badge_local_product', 'badge_product_quality',\n",
      "       'badge_fast_shipping', 'tags', 'product_color',\n",
      "       'product_variation_size_id', 'product_variation_inventory',\n",
      "       'shipping_option_name', 'shipping_option_price', 'shipping_is_express',\n",
      "       'countries_shipped_to', 'inventory_total', 'has_urgency_banner',\n",
      "       'urgency_text', 'origin_country', 'merchant_title', 'merchant_name',\n",
      "       'merchant_rating_count', 'merchant_rating',\n",
      "       'merchant_has_profile_picture', 'rating'],\n",
      "      dtype='object')\n"
     ]
    }
   ],
   "source": [
    "print (df.shape , df.keys())"
   ]
  },
  {
   "cell_type": "code",
   "execution_count": 12,
   "id": "864c7f54",
   "metadata": {},
   "outputs": [],
   "source": [
    "#turn tags to size of tags. add column len(tags) instead of tags\n",
    "a = pd.Series(df['tags'].str.len())\n",
    "df['tags'] = a\n",
    "#a"
   ]
  },
  {
   "cell_type": "code",
   "execution_count": 13,
   "id": "0ae4e783",
   "metadata": {},
   "outputs": [
    {
     "data": {
      "text/html": [
       "<div>\n",
       "<style scoped>\n",
       "    .dataframe tbody tr th:only-of-type {\n",
       "        vertical-align: middle;\n",
       "    }\n",
       "\n",
       "    .dataframe tbody tr th {\n",
       "        vertical-align: top;\n",
       "    }\n",
       "\n",
       "    .dataframe thead th {\n",
       "        text-align: right;\n",
       "    }\n",
       "</style>\n",
       "<table border=\"1\" class=\"dataframe\">\n",
       "  <thead>\n",
       "    <tr style=\"text-align: right;\">\n",
       "      <th></th>\n",
       "      <th>price</th>\n",
       "      <th>retail_price</th>\n",
       "      <th>units_sold</th>\n",
       "      <th>uses_ad_boosts</th>\n",
       "      <th>rating_count</th>\n",
       "      <th>badges_count</th>\n",
       "      <th>badge_local_product</th>\n",
       "      <th>badge_product_quality</th>\n",
       "      <th>badge_fast_shipping</th>\n",
       "      <th>tags</th>\n",
       "      <th>...</th>\n",
       "      <th>inventory_total</th>\n",
       "      <th>has_urgency_banner</th>\n",
       "      <th>urgency_text</th>\n",
       "      <th>origin_country</th>\n",
       "      <th>merchant_title</th>\n",
       "      <th>merchant_name</th>\n",
       "      <th>merchant_rating_count</th>\n",
       "      <th>merchant_rating</th>\n",
       "      <th>merchant_has_profile_picture</th>\n",
       "      <th>rating</th>\n",
       "    </tr>\n",
       "  </thead>\n",
       "  <tbody>\n",
       "    <tr>\n",
       "      <th>count</th>\n",
       "      <td>1573.000000</td>\n",
       "      <td>1573.000000</td>\n",
       "      <td>1573.000000</td>\n",
       "      <td>1573.000000</td>\n",
       "      <td>1573.000000</td>\n",
       "      <td>1573.000000</td>\n",
       "      <td>1573.000000</td>\n",
       "      <td>1573.000000</td>\n",
       "      <td>1573.000000</td>\n",
       "      <td>1573.000000</td>\n",
       "      <td>...</td>\n",
       "      <td>1573.000000</td>\n",
       "      <td>1573.000000</td>\n",
       "      <td>1573</td>\n",
       "      <td>1573</td>\n",
       "      <td>1573</td>\n",
       "      <td>1573</td>\n",
       "      <td>1.573000e+03</td>\n",
       "      <td>1573.000000</td>\n",
       "      <td>1573.000000</td>\n",
       "      <td>1573.000000</td>\n",
       "    </tr>\n",
       "    <tr>\n",
       "      <th>unique</th>\n",
       "      <td>NaN</td>\n",
       "      <td>NaN</td>\n",
       "      <td>NaN</td>\n",
       "      <td>NaN</td>\n",
       "      <td>NaN</td>\n",
       "      <td>NaN</td>\n",
       "      <td>NaN</td>\n",
       "      <td>NaN</td>\n",
       "      <td>NaN</td>\n",
       "      <td>NaN</td>\n",
       "      <td>...</td>\n",
       "      <td>NaN</td>\n",
       "      <td>NaN</td>\n",
       "      <td>3</td>\n",
       "      <td>7</td>\n",
       "      <td>958</td>\n",
       "      <td>958</td>\n",
       "      <td>NaN</td>\n",
       "      <td>NaN</td>\n",
       "      <td>NaN</td>\n",
       "      <td>NaN</td>\n",
       "    </tr>\n",
       "    <tr>\n",
       "      <th>top</th>\n",
       "      <td>NaN</td>\n",
       "      <td>NaN</td>\n",
       "      <td>NaN</td>\n",
       "      <td>NaN</td>\n",
       "      <td>NaN</td>\n",
       "      <td>NaN</td>\n",
       "      <td>NaN</td>\n",
       "      <td>NaN</td>\n",
       "      <td>NaN</td>\n",
       "      <td>NaN</td>\n",
       "      <td>...</td>\n",
       "      <td>NaN</td>\n",
       "      <td>NaN</td>\n",
       "      <td></td>\n",
       "      <td>CN</td>\n",
       "      <td>guangzhouweishiweifushiyouxiangongsi</td>\n",
       "      <td>广州唯适唯服饰有限公司</td>\n",
       "      <td>NaN</td>\n",
       "      <td>NaN</td>\n",
       "      <td>NaN</td>\n",
       "      <td>NaN</td>\n",
       "    </tr>\n",
       "    <tr>\n",
       "      <th>freq</th>\n",
       "      <td>NaN</td>\n",
       "      <td>NaN</td>\n",
       "      <td>NaN</td>\n",
       "      <td>NaN</td>\n",
       "      <td>NaN</td>\n",
       "      <td>NaN</td>\n",
       "      <td>NaN</td>\n",
       "      <td>NaN</td>\n",
       "      <td>NaN</td>\n",
       "      <td>NaN</td>\n",
       "      <td>...</td>\n",
       "      <td>NaN</td>\n",
       "      <td>NaN</td>\n",
       "      <td>1100</td>\n",
       "      <td>1516</td>\n",
       "      <td>15</td>\n",
       "      <td>15</td>\n",
       "      <td>NaN</td>\n",
       "      <td>NaN</td>\n",
       "      <td>NaN</td>\n",
       "      <td>NaN</td>\n",
       "    </tr>\n",
       "    <tr>\n",
       "      <th>mean</th>\n",
       "      <td>8.325372</td>\n",
       "      <td>23.288620</td>\n",
       "      <td>4339.005086</td>\n",
       "      <td>0.432931</td>\n",
       "      <td>889.659250</td>\n",
       "      <td>0.105531</td>\n",
       "      <td>0.018436</td>\n",
       "      <td>0.074380</td>\n",
       "      <td>0.012715</td>\n",
       "      <td>169.141132</td>\n",
       "      <td>...</td>\n",
       "      <td>49.821360</td>\n",
       "      <td>0.309441</td>\n",
       "      <td>NaN</td>\n",
       "      <td>NaN</td>\n",
       "      <td>NaN</td>\n",
       "      <td>NaN</td>\n",
       "      <td>2.649583e+04</td>\n",
       "      <td>4.032345</td>\n",
       "      <td>0.143675</td>\n",
       "      <td>32.932613</td>\n",
       "    </tr>\n",
       "    <tr>\n",
       "      <th>std</th>\n",
       "      <td>3.932030</td>\n",
       "      <td>30.357863</td>\n",
       "      <td>9356.539302</td>\n",
       "      <td>0.495639</td>\n",
       "      <td>1983.928834</td>\n",
       "      <td>0.340709</td>\n",
       "      <td>0.134565</td>\n",
       "      <td>0.262472</td>\n",
       "      <td>0.112075</td>\n",
       "      <td>47.454456</td>\n",
       "      <td>...</td>\n",
       "      <td>2.562799</td>\n",
       "      <td>0.452974</td>\n",
       "      <td>NaN</td>\n",
       "      <td>NaN</td>\n",
       "      <td>NaN</td>\n",
       "      <td>NaN</td>\n",
       "      <td>7.847446e+04</td>\n",
       "      <td>0.204768</td>\n",
       "      <td>0.350871</td>\n",
       "      <td>43.733193</td>\n",
       "    </tr>\n",
       "    <tr>\n",
       "      <th>min</th>\n",
       "      <td>1.000000</td>\n",
       "      <td>1.000000</td>\n",
       "      <td>1.000000</td>\n",
       "      <td>0.000000</td>\n",
       "      <td>0.000000</td>\n",
       "      <td>0.000000</td>\n",
       "      <td>0.000000</td>\n",
       "      <td>0.000000</td>\n",
       "      <td>0.000000</td>\n",
       "      <td>61.000000</td>\n",
       "      <td>...</td>\n",
       "      <td>1.000000</td>\n",
       "      <td>0.012500</td>\n",
       "      <td>NaN</td>\n",
       "      <td>NaN</td>\n",
       "      <td>NaN</td>\n",
       "      <td>NaN</td>\n",
       "      <td>0.000000e+00</td>\n",
       "      <td>2.333333</td>\n",
       "      <td>0.000000</td>\n",
       "      <td>1.000000</td>\n",
       "    </tr>\n",
       "    <tr>\n",
       "      <th>25%</th>\n",
       "      <td>5.810000</td>\n",
       "      <td>7.000000</td>\n",
       "      <td>100.000000</td>\n",
       "      <td>0.000000</td>\n",
       "      <td>24.000000</td>\n",
       "      <td>0.000000</td>\n",
       "      <td>0.000000</td>\n",
       "      <td>0.000000</td>\n",
       "      <td>0.000000</td>\n",
       "      <td>134.000000</td>\n",
       "      <td>...</td>\n",
       "      <td>50.000000</td>\n",
       "      <td>0.012500</td>\n",
       "      <td>NaN</td>\n",
       "      <td>NaN</td>\n",
       "      <td>NaN</td>\n",
       "      <td>NaN</td>\n",
       "      <td>1.987000e+03</td>\n",
       "      <td>3.917353</td>\n",
       "      <td>0.000000</td>\n",
       "      <td>4.000000</td>\n",
       "    </tr>\n",
       "    <tr>\n",
       "      <th>50%</th>\n",
       "      <td>8.000000</td>\n",
       "      <td>10.000000</td>\n",
       "      <td>1000.000000</td>\n",
       "      <td>0.000000</td>\n",
       "      <td>150.000000</td>\n",
       "      <td>0.000000</td>\n",
       "      <td>0.000000</td>\n",
       "      <td>0.000000</td>\n",
       "      <td>0.000000</td>\n",
       "      <td>165.000000</td>\n",
       "      <td>...</td>\n",
       "      <td>50.000000</td>\n",
       "      <td>0.012500</td>\n",
       "      <td>NaN</td>\n",
       "      <td>NaN</td>\n",
       "      <td>NaN</td>\n",
       "      <td>NaN</td>\n",
       "      <td>7.936000e+03</td>\n",
       "      <td>4.040650</td>\n",
       "      <td>0.000000</td>\n",
       "      <td>4.000000</td>\n",
       "    </tr>\n",
       "    <tr>\n",
       "      <th>75%</th>\n",
       "      <td>11.000000</td>\n",
       "      <td>26.000000</td>\n",
       "      <td>5000.000000</td>\n",
       "      <td>1.000000</td>\n",
       "      <td>855.000000</td>\n",
       "      <td>0.000000</td>\n",
       "      <td>0.000000</td>\n",
       "      <td>0.000000</td>\n",
       "      <td>0.000000</td>\n",
       "      <td>201.000000</td>\n",
       "      <td>...</td>\n",
       "      <td>50.000000</td>\n",
       "      <td>1.000000</td>\n",
       "      <td>NaN</td>\n",
       "      <td>NaN</td>\n",
       "      <td>NaN</td>\n",
       "      <td>NaN</td>\n",
       "      <td>2.456400e+04</td>\n",
       "      <td>4.161797</td>\n",
       "      <td>0.000000</td>\n",
       "      <td>99.000000</td>\n",
       "    </tr>\n",
       "    <tr>\n",
       "      <th>max</th>\n",
       "      <td>49.000000</td>\n",
       "      <td>252.000000</td>\n",
       "      <td>100000.000000</td>\n",
       "      <td>1.000000</td>\n",
       "      <td>20744.000000</td>\n",
       "      <td>3.000000</td>\n",
       "      <td>1.000000</td>\n",
       "      <td>1.000000</td>\n",
       "      <td>1.000000</td>\n",
       "      <td>448.000000</td>\n",
       "      <td>...</td>\n",
       "      <td>50.000000</td>\n",
       "      <td>1.000000</td>\n",
       "      <td>NaN</td>\n",
       "      <td>NaN</td>\n",
       "      <td>NaN</td>\n",
       "      <td>NaN</td>\n",
       "      <td>2.174765e+06</td>\n",
       "      <td>5.000000</td>\n",
       "      <td>1.000000</td>\n",
       "      <td>99.000000</td>\n",
       "    </tr>\n",
       "  </tbody>\n",
       "</table>\n",
       "<p>11 rows × 27 columns</p>\n",
       "</div>"
      ],
      "text/plain": [
       "              price  retail_price     units_sold  uses_ad_boosts  \\\n",
       "count   1573.000000   1573.000000    1573.000000     1573.000000   \n",
       "unique          NaN           NaN            NaN             NaN   \n",
       "top             NaN           NaN            NaN             NaN   \n",
       "freq            NaN           NaN            NaN             NaN   \n",
       "mean       8.325372     23.288620    4339.005086        0.432931   \n",
       "std        3.932030     30.357863    9356.539302        0.495639   \n",
       "min        1.000000      1.000000       1.000000        0.000000   \n",
       "25%        5.810000      7.000000     100.000000        0.000000   \n",
       "50%        8.000000     10.000000    1000.000000        0.000000   \n",
       "75%       11.000000     26.000000    5000.000000        1.000000   \n",
       "max       49.000000    252.000000  100000.000000        1.000000   \n",
       "\n",
       "        rating_count  badges_count  badge_local_product  \\\n",
       "count    1573.000000   1573.000000          1573.000000   \n",
       "unique           NaN           NaN                  NaN   \n",
       "top              NaN           NaN                  NaN   \n",
       "freq             NaN           NaN                  NaN   \n",
       "mean      889.659250      0.105531             0.018436   \n",
       "std      1983.928834      0.340709             0.134565   \n",
       "min         0.000000      0.000000             0.000000   \n",
       "25%        24.000000      0.000000             0.000000   \n",
       "50%       150.000000      0.000000             0.000000   \n",
       "75%       855.000000      0.000000             0.000000   \n",
       "max     20744.000000      3.000000             1.000000   \n",
       "\n",
       "        badge_product_quality  badge_fast_shipping         tags  ...  \\\n",
       "count             1573.000000          1573.000000  1573.000000  ...   \n",
       "unique                    NaN                  NaN          NaN  ...   \n",
       "top                       NaN                  NaN          NaN  ...   \n",
       "freq                      NaN                  NaN          NaN  ...   \n",
       "mean                 0.074380             0.012715   169.141132  ...   \n",
       "std                  0.262472             0.112075    47.454456  ...   \n",
       "min                  0.000000             0.000000    61.000000  ...   \n",
       "25%                  0.000000             0.000000   134.000000  ...   \n",
       "50%                  0.000000             0.000000   165.000000  ...   \n",
       "75%                  0.000000             0.000000   201.000000  ...   \n",
       "max                  1.000000             1.000000   448.000000  ...   \n",
       "\n",
       "       inventory_total has_urgency_banner  urgency_text origin_country  \\\n",
       "count      1573.000000        1573.000000          1573           1573   \n",
       "unique             NaN                NaN             3              7   \n",
       "top                NaN                NaN                           CN   \n",
       "freq               NaN                NaN          1100           1516   \n",
       "mean         49.821360           0.309441           NaN            NaN   \n",
       "std           2.562799           0.452974           NaN            NaN   \n",
       "min           1.000000           0.012500           NaN            NaN   \n",
       "25%          50.000000           0.012500           NaN            NaN   \n",
       "50%          50.000000           0.012500           NaN            NaN   \n",
       "75%          50.000000           1.000000           NaN            NaN   \n",
       "max          50.000000           1.000000           NaN            NaN   \n",
       "\n",
       "                              merchant_title  merchant_name  \\\n",
       "count                                   1573           1573   \n",
       "unique                                   958            958   \n",
       "top     guangzhouweishiweifushiyouxiangongsi    广州唯适唯服饰有限公司   \n",
       "freq                                      15             15   \n",
       "mean                                     NaN            NaN   \n",
       "std                                      NaN            NaN   \n",
       "min                                      NaN            NaN   \n",
       "25%                                      NaN            NaN   \n",
       "50%                                      NaN            NaN   \n",
       "75%                                      NaN            NaN   \n",
       "max                                      NaN            NaN   \n",
       "\n",
       "        merchant_rating_count  merchant_rating  merchant_has_profile_picture  \\\n",
       "count            1.573000e+03      1573.000000                   1573.000000   \n",
       "unique                    NaN              NaN                           NaN   \n",
       "top                       NaN              NaN                           NaN   \n",
       "freq                      NaN              NaN                           NaN   \n",
       "mean             2.649583e+04         4.032345                      0.143675   \n",
       "std              7.847446e+04         0.204768                      0.350871   \n",
       "min              0.000000e+00         2.333333                      0.000000   \n",
       "25%              1.987000e+03         3.917353                      0.000000   \n",
       "50%              7.936000e+03         4.040650                      0.000000   \n",
       "75%              2.456400e+04         4.161797                      0.000000   \n",
       "max              2.174765e+06         5.000000                      1.000000   \n",
       "\n",
       "             rating  \n",
       "count   1573.000000  \n",
       "unique          NaN  \n",
       "top             NaN  \n",
       "freq            NaN  \n",
       "mean      32.932613  \n",
       "std       43.733193  \n",
       "min        1.000000  \n",
       "25%        4.000000  \n",
       "50%        4.000000  \n",
       "75%       99.000000  \n",
       "max       99.000000  \n",
       "\n",
       "[11 rows x 27 columns]"
      ]
     },
     "execution_count": 13,
     "metadata": {},
     "output_type": "execute_result"
    }
   ],
   "source": [
    "df.describe(include= 'all')"
   ]
  },
  {
   "cell_type": "markdown",
   "id": "ba045afa",
   "metadata": {},
   "source": [
    "**now we have our basic data, somewhat clean, but not yet ready for learning**"
   ]
  },
  {
   "cell_type": "markdown",
   "id": "e57cf976",
   "metadata": {},
   "source": [
    "# Data analysis <a class=\"anchor\" id=\"data2\"></a>"
   ]
  },
  {
   "cell_type": "code",
   "execution_count": 14,
   "id": "ab515bf3",
   "metadata": {},
   "outputs": [
    {
     "data": {
      "text/plain": [
       "Index(['price', 'retail_price', 'units_sold', 'uses_ad_boosts', 'rating_count',\n",
       "       'badges_count', 'badge_local_product', 'badge_product_quality',\n",
       "       'badge_fast_shipping', 'tags', 'product_variation_inventory',\n",
       "       'shipping_option_price', 'shipping_is_express', 'countries_shipped_to',\n",
       "       'inventory_total', 'has_urgency_banner', 'merchant_rating_count',\n",
       "       'merchant_rating', 'merchant_has_profile_picture', 'rating'],\n",
       "      dtype='object')"
      ]
     },
     "execution_count": 14,
     "metadata": {},
     "output_type": "execute_result"
    }
   ],
   "source": [
    "# exploring numeric data\n",
    "df_numeric_keys = df.corr().keys()\n",
    "df_numeric_keys"
   ]
  },
  {
   "cell_type": "markdown",
   "id": "b0afd073",
   "metadata": {},
   "source": [
    "20 numeric feature, remember we changed the `'tags'` to `len(tags)`"
   ]
  },
  {
   "cell_type": "code",
   "execution_count": 15,
   "id": "48694394",
   "metadata": {},
   "outputs": [
    {
     "data": {
      "image/png": "[encoded data removed]",
      "text/plain": [
       "<Figure size 1440x1440 with 2 Axes>"
      ]
     },
     "metadata": {},
     "output_type": "display_data"
    }
   ],
   "source": [
    "#see correlation heatmap\n",
    "import seaborn as sns; \n",
    "import matplotlib.pyplot as plt\n",
    "\n",
    "sns.set_theme()\n",
    "_, ax = plt.subplots(figsize=(20,20)) \n",
    "ax = sns.heatmap(data = df.corr().round(2), annot =True)"
   ]
  },
  {
   "cell_type": "markdown",
   "id": "e2947d61",
   "metadata": {},
   "source": [
    "<img src=\"https://imgur.com/zX3roJ0.png\" alt=\"drawing\" width=\"300\" hight=\"300\"/>\n"
   ]
  },
  {
   "cell_type": "markdown",
   "id": "6c57d43d",
   "metadata": {},
   "source": [
    "# Data Preprocessing <a class=\"anchor\" id=\"data3\"></a>\n",
    "    . label encoding for Decision Tree\n",
    "    . Normalization for SVM\n",
    "    . prepare Numeric data to investegate the usefulness of some useless string data like(names of merchant and title ...etc)\n",
    "\n",
    "**First the label encoding set:**"
   ]
  },
  {
   "cell_type": "code",
   "execution_count": 16,
   "id": "27534e8d",
   "metadata": {},
   "outputs": [],
   "source": [
    "#get non `number` keys\n",
    "str_keys = df.select_dtypes(exclude = 'number').keys()\n",
    "str_keys\n",
    "\n",
    "df_le = df.copy() #df_le: DataFrame with label encoding\n",
    "from sklearn import preprocessing\n",
    "le = preprocessing.LabelEncoder()\n",
    "for i in str_keys:\n",
    "    le.fit(df_le[i])\n",
    "    df_le[i] = le.transform(df_le[i])\n"
   ]
  },
  {
   "cell_type": "markdown",
   "id": "692f7368",
   "metadata": {},
   "source": [
    "**Second the Normalization -needed for SVM- :**\n",
    "$$\n",
    "        x_{new} = \\frac{x_{old} - \\mu}{\\sigma}\n",
    "$$\n",
    "\n",
    "$ \\mu $ is the mean, $\\sigma  $ is the standard deviation\n",
    "\n",
    "note: don't normalize last column(the target)"
   ]
  },
  {
   "cell_type": "code",
   "execution_count": 17,
   "id": "df7362d3",
   "metadata": {},
   "outputs": [],
   "source": [
    "# Normalization of numeric values only\n",
    "df_norm = df[df_numeric_keys].copy()    \n",
    "df_norm.iloc[:,:-1] = (df_norm.iloc[:,:-1] - df_norm.iloc[:,:-1].mean()) / df_norm.iloc[:,:-1].std()"
   ]
  },
  {
   "cell_type": "code",
   "execution_count": 18,
   "id": "0b5d88d1",
   "metadata": {},
   "outputs": [
    {
     "name": "stdout",
     "output_type": "stream",
     "text": [
      "(1573, 20) (1573, 27)\n"
     ]
    }
   ],
   "source": [
    "## Normalization of label-Encoded values\n",
    "df_le_norm = df_le.copy()   \n",
    "df_le_norm.iloc[:,:-1] = (df_le.iloc[:,:-1] - df_le.iloc[:,:-1].mean()) / df_le.iloc[:,:-1].std()\n",
    "\n",
    "print(df_norm.shape, df_le_norm.shape)"
   ]
  },
  {
   "cell_type": "code",
   "execution_count": 19,
   "id": "ec5b6038",
   "metadata": {},
   "outputs": [
    {
     "data": {
      "text/plain": [
       "(1573, 20)"
      ]
     },
     "execution_count": 19,
     "metadata": {},
     "output_type": "execute_result"
    }
   ],
   "source": [
    "#Just Numeric Data\n",
    "df_numeric = df[df_numeric_keys]\n",
    "df_numeric.shape"
   ]
  },
  {
   "cell_type": "markdown",
   "id": "9fc16c2c",
   "metadata": {},
   "source": [
    "# Now The model training <a class=\"anchor\" id=\"t0\"></a>\n",
    "searching for the best model with f1_score\n",
    "\n",
    "## Trail 0:\n",
    "model: **Naive Bayes**\n",
    "\n",
    "Assumption: neglect string/categorical features first"
   ]
  },
  {
   "cell_type": "code",
   "execution_count": 20,
   "id": "59a9a526",
   "metadata": {},
   "outputs": [],
   "source": [
    "#calling training data without test samples\n",
    "X = df_numeric[df_numeric['rating']!=99].iloc[:, :-1].values\n",
    "Y = df_numeric[df_numeric['rating']!=99].iloc[:, -1].values\n",
    "\n",
    "# split for hold-out\n",
    "from sklearn.model_selection import train_test_split\n",
    "\n",
    "x_tr, x_ts, y_tr, y_ts = train_test_split(X,Y, test_size=0.2)"
   ]
  },
  {
   "cell_type": "code",
   "execution_count": 21,
   "id": "911838dc",
   "metadata": {},
   "outputs": [
    {
     "name": "stdout",
     "output_type": "stream",
     "text": [
      "0.4429223744292237\n",
      "f1-score per each class: \n",
      " {1: 1.0, 2: 0.10526315789473684, 3: 0.20408163265306126, 4: 0.6387832699619771, 5: 0.0}\n"
     ]
    }
   ],
   "source": [
    "from sklearn.naive_bayes import GaussianNB\n",
    "from sklearn.metrics import f1_score\n",
    "\n",
    "NB_model = GaussianNB()\n",
    "NB_model.fit(x_tr, y_tr)\n",
    "\n",
    "y_hat = NB_model.predict(x_ts)\n",
    "\n",
    "print(f1_score(y_ts, y_hat, average='micro'))\n",
    "labels = [1,2,3,4,5]\n",
    "f1_scores = f1_score(y_ts, y_hat, average=None, labels=labels)\n",
    "f1_scores_with_labels = {label:score for label,score in zip(labels, f1_scores)}\n",
    "print('f1-score per each class:','\\n', f1_scores_with_labels)"
   ]
  },
  {
   "cell_type": "markdown",
   "id": "11ddc0ed",
   "metadata": {},
   "source": [
    "## trying feature selection method:\n",
    "To improve Naive Bayes\n",
    "\n",
    "SelektKBest with chi2 adapted from https://stats.stackexchange.com/"
   ]
  },
  {
   "cell_type": "code",
   "execution_count": 22,
   "id": "a7269eac",
   "metadata": {},
   "outputs": [
    {
     "name": "stdout",
     "output_type": "stream",
     "text": [
      "                           Specs         Score\n",
      "16         merchant_rating_count  1.030311e+06\n",
      "2                     units_sold  6.121540e+05\n",
      "4                   rating_count  1.457503e+05\n",
      "1                   retail_price  5.712445e+02\n",
      "10   product_variation_inventory  1.317332e+02\n",
      "7          badge_product_quality  1.051987e+02\n",
      "0                          price  9.872124e+01\n",
      "5                   badges_count  9.158290e+01\n",
      "9                           tags  1.972160e+01\n",
      "11         shipping_option_price  1.914599e+01\n",
      "13          countries_shipped_to  1.203226e+01\n",
      "12           shipping_is_express  8.231449e+00\n",
      "8            badge_fast_shipping  7.631598e+00\n",
      "18  merchant_has_profile_picture  4.793516e+00\n",
      "3                 uses_ad_boosts  3.443878e+00\n"
     ]
    },
    {
     "data": {
      "text/plain": [
       "array(['merchant_rating_count', 'units_sold', 'rating_count',\n",
       "       'retail_price', 'product_variation_inventory',\n",
       "       'badge_product_quality', 'price', 'badges_count', 'tags',\n",
       "       'shipping_option_price', 'countries_shipped_to',\n",
       "       'shipping_is_express'], dtype=object)"
      ]
     },
     "execution_count": 22,
     "metadata": {},
     "output_type": "execute_result"
    }
   ],
   "source": [
    "from sklearn.feature_selection import SelectKBest\n",
    "from sklearn.feature_selection import chi2\n",
    "import matplotlib.pyplot as plt\n",
    "\n",
    "bestfeatures = SelectKBest(score_func=chi2, k='all')\n",
    "fit = bestfeatures.fit(X,Y)\n",
    "dfscores = pd.DataFrame(fit.scores_)\n",
    "dfcolumns = pd.DataFrame(df_norm.columns)\n",
    "#concat two dataframes for better visualization \n",
    "featureScores = pd.concat([dfcolumns,dfscores],axis=1)\n",
    "featureScores.columns = ['Specs','Score']  #naming the dataframe columns\n",
    "print(featureScores.nlargest(15,'Score'))  #print 10 best features\n",
    "featureScores = featureScores.nlargest(12,'Score')\n",
    "featureScores['Specs'].values"
   ]
  },
  {
   "cell_type": "code",
   "execution_count": 23,
   "id": "b7049bcf",
   "metadata": {},
   "outputs": [
    {
     "name": "stdout",
     "output_type": "stream",
     "text": [
      "0.3881278538812785\n",
      "f1-score per each class: \n",
      " {1: 0.0, 2: 0.05405405405405406, 3: 0.18181818181818185, 4: 0.5791505791505791, 5: 0.0}\n"
     ]
    }
   ],
   "source": [
    "#trying top-10 features\n",
    "# get train sets without test set \n",
    "# remeber i used rating =99 for test set\n",
    "df_chi2_feat = df_norm[df_norm['rating']!=99][['merchant_rating_count', 'units_sold', 'rating_count',\n",
    "       'retail_price', 'product_variation_inventory',\n",
    "       'badge_product_quality', 'price', 'badges_count', 'tags',\n",
    "       'shipping_option_price', 'countries_shipped_to',\n",
    "       'shipping_is_express',\n",
    "       'rating']]\n",
    "X2 = df_chi2_feat.iloc[:, :-1]\n",
    "Y2 = df_chi2_feat.iloc[:, -1]\n",
    "\n",
    "x_tr, x_ts, y_tr, y_ts = train_test_split(X2,Y2, test_size=0.2)\n",
    "model2 = GaussianNB()\n",
    "model2.fit(x_tr, y_tr)\n",
    "y_hat2 = model2.predict(x_ts)\n",
    "\n",
    "print(f1_score(y_ts, y_hat, average='micro'))\n",
    "labels = [1,2,3,4,5]\n",
    "f1_scores = f1_score(y_ts, y_hat, average=None, labels=labels)\n",
    "f1_scores_with_labels = {label:score for label,score in zip(labels, f1_scores)}\n",
    "print('f1-score per each class:','\\n', f1_scores_with_labels)"
   ]
  },
  {
   "cell_type": "markdown",
   "id": "95b40805",
   "metadata": {},
   "source": [
    ">>That is even worse!!"
   ]
  },
  {
   "cell_type": "markdown",
   "id": "de47ab42",
   "metadata": {},
   "source": [
    "## randomly chosen features \n",
    "by randomly fitting the model manualy:\n",
    "\n",
    "So by running some sets of features randomly, i got these to be the most effective in Naive Bayes:\n",
    "\n",
    "`['price', 'retail_price', 'badges_count', 'badge_product_quality',\n",
    "       'product_variation_inventory', 'shipping_option_price',\n",
    "       'shipping_is_express', 'merchant_rating_count', 'merchant_rating']`"
   ]
  },
  {
   "cell_type": "code",
   "execution_count": 24,
   "id": "d59f733f",
   "metadata": {},
   "outputs": [
    {
     "name": "stdout",
     "output_type": "stream",
     "text": [
      "0.7214611872146118\n",
      "f1-score per each class: \n",
      " {1: 0.0, 2: 0.0, 3: 0.0, 4: 0.8364611260053619, 5: 0.1111111111111111}\n"
     ]
    },
    {
     "name": "stderr",
     "output_type": "stream",
     "text": [
      "C:\\Users\\asmaa\\anaconda3\\lib\\site-packages\\sklearn\\metrics\\_classification.py:1580: UndefinedMetricWarning: F-score is ill-defined and being set to 0.0 in labels with no true nor predicted samples. Use `zero_division` parameter to control this behavior.\n",
      "  _warn_prf(average, \"true nor predicted\", \"F-score is\", len(true_sum))\n"
     ]
    }
   ],
   "source": [
    "#trying best features\n",
    "# get train sets without test set \n",
    "# remeber i used rating =99 for test set\n",
    "df2 = df_le[df_le['rating']!=99][['price', 'retail_price', 'badges_count', 'badge_product_quality',\n",
    "       'product_variation_inventory', 'shipping_option_price',\n",
    "       'shipping_is_express', 'merchant_rating_count', 'merchant_rating',\n",
    "       'rating']]\n",
    "X2 = df2.iloc[:, :-1]\n",
    "Y2 = df2.iloc[:, -1]\n",
    "\n",
    "x_tr, x_ts, y_tr, y_ts = train_test_split(X2,Y2, test_size=0.2)\n",
    "model2 = GaussianNB()\n",
    "model2.fit(x_tr, y_tr)\n",
    "y_hat2 = model2.predict(x_ts)\n",
    "\n",
    "print(f1_score(y_ts, y_hat2, average='micro'))\n",
    "labels = [1,2,3,4,5]\n",
    "f1_scores = f1_score(y_ts, y_hat2, average=None, labels=labels)\n",
    "f1_scores_with_labels = {label:score for label,score in zip(labels, f1_scores)}\n",
    "print('f1-score per each class:','\\n', f1_scores_with_labels)"
   ]
  },
  {
   "cell_type": "markdown",
   "id": "3abd8fdf",
   "metadata": {},
   "source": [
    "*YEEEEEEES*     Always trust your instinct :D\n",
    "\n",
    "\n",
    "**Predict test and save to file**"
   ]
  },
  {
   "cell_type": "code",
   "execution_count": 25,
   "id": "c2e333ae",
   "metadata": {},
   "outputs": [
    {
     "name": "stderr",
     "output_type": "stream",
     "text": [
      "C:\\Users\\asmaa\\anaconda3\\lib\\site-packages\\sklearn\\base.py:450: UserWarning: X does not have valid feature names, but GaussianNB was fitted with feature names\n",
      "  warnings.warn(\n"
     ]
    }
   ],
   "source": [
    "#re-fit over whole train set\n",
    "model2.fit(X2,Y2)\n",
    "# select test data with the rating=99 mask\n",
    "x_ts = df_le[df_le['rating']==99][['price', 'retail_price', \n",
    "                                           'badges_count', 'badge_product_quality',\n",
    "       'product_variation_inventory', 'shipping_option_price',\n",
    "       'shipping_is_express', 'merchant_rating_count', 'merchant_rating']].values\n",
    "\n",
    "y_ts = model2.predict(x_ts)\n",
    "\n",
    "dummy = pd.DataFrame({'id': test_file['id'],'rating': y_ts})\n",
    "dummy.to_csv(\"Naive_bayes_le_v3.csv\", index = False)"
   ]
  },
  {
   "cell_type": "markdown",
   "id": "3e6f8e1c",
   "metadata": {},
   "source": [
    "## Trail 1: <a class=\"anchor\" id=\"t1\"></a>\n",
    "model: **Desicion Trees**\n",
    " \n",
    "Model Configuration: **Label Encode** string values. notice: mus encode train and test sets together"
   ]
  },
  {
   "cell_type": "code",
   "execution_count": 26,
   "id": "3a6b7ae2",
   "metadata": {},
   "outputs": [],
   "source": [
    "# get train sets without test set \n",
    "# remeber i used rating =99 for test set\n",
    "X = df_le[df_le['rating']!=99].iloc[:, :-1].values\n",
    "Y = df_le[df_le['rating']!=99].iloc[:, -1].values\n",
    "x_tr, x_ts, y_tr, y_ts = train_test_split(X,Y, test_size=0.2)\n",
    "\n",
    "from sklearn.tree import DecisionTreeClassifier\n"
   ]
  },
  {
   "cell_type": "code",
   "execution_count": 27,
   "id": "7b7284c1",
   "metadata": {},
   "outputs": [
    {
     "name": "stdout",
     "output_type": "stream",
     "text": [
      "0.6940639269406392\n",
      "f1-score per each class: \n",
      " {1: 0.0, 2: 0.5714285714285715, 3: 0.43749999999999994, 4: 0.8, 5: 0.4848484848484849}\n"
     ]
    }
   ],
   "source": [
    "#no special hyperpara\n",
    "DTmodel = DecisionTreeClassifier()\n",
    "DTmodel.fit(x_tr, y_tr)\n",
    "y_hat = DTmodel.predict(x_ts)\n",
    "\n",
    "#print average f1-score, and all f1/class\n",
    "print(f1_score(y_ts, y_hat, average='micro'))\n",
    "labels = [1,2,3,4,5]\n",
    "f1_scores = f1_score(y_ts, y_hat, average=None, labels=labels)\n",
    "f1_scores_with_labels = {label:score for label,score in zip(labels, f1_scores)}\n",
    "print('f1-score per each class:','\\n', f1_scores_with_labels)"
   ]
  },
  {
   "cell_type": "markdown",
   "id": "8e3ac5ac",
   "metadata": {},
   "source": [
    "## Tuning hyperparameters:\n",
    "I tried tuning the max_depth, 7 had the highest result with hold out"
   ]
  },
  {
   "cell_type": "code",
   "execution_count": 28,
   "id": "827c2fe6",
   "metadata": {},
   "outputs": [
    {
     "name": "stdout",
     "output_type": "stream",
     "text": [
      "0.7579908675799086\n",
      "f1-score per each class: \n",
      " {1: 0.0, 2: 0.6666666666666666, 3: 0.2564102564102564, 4: 0.855421686746988, 5: 0.5614035087719298}\n"
     ]
    }
   ],
   "source": [
    "DTmodel = DecisionTreeClassifier(max_depth=7)\n",
    "DTmodel.fit(x_tr, y_tr)\n",
    "y_hat = DTmodel.predict(x_ts)\n",
    "\n",
    "#print average f1-score, and all f1/class\n",
    "print(f1_score(y_ts, y_hat, average='micro'))\n",
    "labels = [1,2,3,4,5]\n",
    "f1_scores = f1_score(y_ts, y_hat, average=None, labels=labels)\n",
    "f1_scores_with_labels = {label:score for label,score in zip(labels, f1_scores)}\n",
    "print('f1-score per each class:','\\n', f1_scores_with_labels)"
   ]
  },
  {
   "cell_type": "markdown",
   "id": "fda39cda",
   "metadata": {},
   "source": [
    "**Predict test results and save to file**"
   ]
  },
  {
   "cell_type": "code",
   "execution_count": 29,
   "id": "5abe3120",
   "metadata": {},
   "outputs": [],
   "source": [
    "#re-fit the model over entire tain set\n",
    "DTmodel.fit(X,Y)\n",
    "\n",
    "# select test data with the rating=99 mask\n",
    "x_ts = df_le[df_le['rating']==99].iloc[:, :-1].values\n",
    "\n",
    "y_ts = DTmodel.predict(x_ts)\n",
    "\n",
    "dummy = pd.DataFrame({'id': test_file['id'],'rating': y_ts})\n",
    "dummy.to_csv(\"DTmodel_v2_max_depth.csv\", index = False)"
   ]
  },
  {
   "cell_type": "markdown",
   "id": "3a410f1a",
   "metadata": {},
   "source": [
    "## Trail 2: <a class=\"anchor\" id=\"t2\"></a>\n",
    "model: **Extra Trees Classifier**\n",
    "\"This class implements a meta estimator that fits a number of randomized decision trees (a.k.a. extra-trees) on various sub-samples of the dataset and uses averaging to improve the predictive accuracy and control over-fitting.\" [sklearn documentaion](https://scikit-learn.org/stable/modules/generated/sklearn.ensemble.ExtraTreesClassifier.html#sklearn.ensemble.ExtraTreesClassifier)\n",
    "\n",
    "I choses it after searching online\n",
    "\n",
    "Model Configuration: **Label Encode** string values. notice: mus encode train and test sets together\n"
   ]
  },
  {
   "cell_type": "markdown",
   "id": "a08cefe6",
   "metadata": {},
   "source": [
    "## Feature selection:\n",
    "First, lets take a look at best features from `ExtraTreesClassifier`"
   ]
  },
  {
   "cell_type": "code",
   "execution_count": 30,
   "id": "6ffb6c61",
   "metadata": {},
   "outputs": [],
   "source": [
    "# get train sets without test set \n",
    "# remeber i used rating =99 for test set\n",
    "X = df_le[df_le['rating']!=99].iloc[:, :-1].values\n",
    "Y = df_le[df_le['rating']!=99].iloc[:, -1].values\n",
    "\n",
    "x_tr, x_ts, y_tr, y_ts = train_test_split(X,Y, test_size=0.2)"
   ]
  },
  {
   "cell_type": "code",
   "execution_count": 31,
   "id": "df132d06",
   "metadata": {},
   "outputs": [
    {
     "name": "stdout",
     "output_type": "stream",
     "text": [
      "Index(['merchant_rating', 'rating_count', 'price', 'units_sold', 'tags',\n",
      "       'merchant_name', 'countries_shipped_to', 'merchant_title',\n",
      "       'merchant_rating_count', 'product_color', 'retail_price',\n",
      "       'product_variation_size_id', 'shipping_option_price',\n",
      "       'product_variation_inventory', 'badge_product_quality'],\n",
      "      dtype='object')\n"
     ]
    },
    {
     "data": {
      "image/png": "[encoded data removed]",
      "text/plain": [
       "<Figure size 432x288 with 1 Axes>"
      ]
     },
     "metadata": {},
     "output_type": "display_data"
    }
   ],
   "source": [
    "from sklearn.ensemble import ExtraTreesClassifier\n",
    "import matplotlib.pyplot as plt\n",
    "\n",
    "ETC_model = ExtraTreesClassifier()\n",
    "ETC_model.fit(X,Y)\n",
    "\n",
    "# Taking a look at the best features: \n",
    "#use inbuilt class feature_importances of tree based classifiers\n",
    "#plot graph of feature importances for better visualization\n",
    "feat_importances = pd.Series(ETC_model.feature_importances_, index=df_le.iloc[:,0:-1].columns)\n",
    "feat_importances.nlargest(15).plot(kind='barh')\n",
    "\n",
    "print(feat_importances.nlargest(15).index)\n",
    "plt.show()"
   ]
  },
  {
   "cell_type": "markdown",
   "id": "6c1cb8bb",
   "metadata": {},
   "source": [
    "**Now**, train the model with hold out to test performance, and try different hyperparameters. "
   ]
  },
  {
   "cell_type": "code",
   "execution_count": 32,
   "id": "0af5968b",
   "metadata": {},
   "outputs": [
    {
     "name": "stdout",
     "output_type": "stream",
     "text": [
      "0.7625570776255708\n",
      "f1-score per each class: \n",
      " {1: 1.0, 2: 0.4, 3: 0.43902439024390244, 4: 0.8495575221238938, 5: 0.47058823529411764}\n"
     ]
    }
   ],
   "source": [
    "# new model to use Hold out\n",
    "ETC_model = ExtraTreesClassifier()\n",
    "ETC_model.fit(x_tr,y_tr)\n",
    "y_hat = ETC_model.predict(x_ts)\n",
    "                 \n",
    "#print average f1-score, and all f1/class\n",
    "print(f1_score(y_ts, y_hat, average='micro'))\n",
    "labels = [1,2,3,4,5]\n",
    "f1_scores = f1_score(y_ts, y_hat, average=None, labels=labels)\n",
    "f1_scores_with_labels = {label:score for label,score in zip(labels, f1_scores)}\n",
    "print('f1-score per each class:','\\n', f1_scores_with_labels)"
   ]
  },
  {
   "cell_type": "markdown",
   "id": "51d910b7",
   "metadata": {},
   "source": [
    "## Try Extra Trees Classifier with only the top features:\n",
    "use Grid Search to tune feature numbers and n_estimators\n"
   ]
  },
  {
   "cell_type": "code",
   "execution_count": 33,
   "id": "8ba1f03e",
   "metadata": {},
   "outputs": [
    {
     "name": "stderr",
     "output_type": "stream",
     "text": [
      "C:\\Users\\asmaa\\anaconda3\\lib\\site-packages\\sklearn\\model_selection\\_split.py:676: UserWarning: The least populated class in y has only 2 members, which is less than n_splits=7.\n",
      "  warnings.warn(\n"
     ]
    },
    {
     "name": "stdout",
     "output_type": "stream",
     "text": [
      "Best parameters are: {'max_depth': 17, 'n_estimators': 40}\n"
     ]
    }
   ],
   "source": [
    "from sklearn.model_selection import GridSearchCV\n",
    "\n",
    "parameters = {'n_estimators': [20,30,40],\n",
    "             'max_depth': [10, 11, 13, 15,17]}\n",
    "GS = GridSearchCV(ETC_model, parameters, cv = 7)\n",
    "GS.fit(X,Y) \n",
    "\n",
    "print(f'Best parameters are: {GS.best_params_}')"
   ]
  },
  {
   "cell_type": "code",
   "execution_count": 34,
   "id": "40b9e8a4",
   "metadata": {},
   "outputs": [],
   "source": [
    "# get the highest features from above\n",
    "select_feat = [ 'merchant_rating', 'rating_count', 'price', 'tags', 'merchant_name',\n",
    "       'units_sold', 'retail_price', 'product_color', 'countries_shipped_to',\n",
    "       'merchant_title', 'merchant_rating_count', 'product_variation_size_id',\n",
    "       'shipping_option_price', 'product_variation_inventory',\n",
    "       'badge_product_quality']\n",
    "\n",
    "# get train sets\n",
    "X = df_le[df_le['rating']!=99].loc[:, select_feat].values\n",
    "Y = df_le[df_le['rating']!=99].iloc[:, -1].values\n",
    "x_tr, x_ts, y_tr, y_ts = train_test_split(X, Y, test_size = 0.2)\n"
   ]
  },
  {
   "cell_type": "code",
   "execution_count": 35,
   "id": "14e7dc5d",
   "metadata": {},
   "outputs": [
    {
     "name": "stdout",
     "output_type": "stream",
     "text": [
      "0.634703196347032\n",
      "f1-score per each class: \n",
      " {1: 0.0, 2: 0.6666666666666666, 3: 0.0588235294117647, 4: 0.7838616714697407, 5: 0.03773584905660377}\n"
     ]
    }
   ],
   "source": [
    "# model with the previous hyperparameters\n",
    "ETC_model = ExtraTreesClassifier(n_estimators=40, max_depth=15)\n",
    "ETC_model.fit(x_tr,y_tr)\n",
    "y_h = ETC_model.predict(x_ts)\n",
    "\n",
    "#print average f1-score, and all f1/class\n",
    "print(f1_score(y_ts, y_hat, average='micro'))\n",
    "labels = [1,2,3,4,5]\n",
    "f1_scores = f1_score(y_ts, y_hat, average=None, labels=labels)\n",
    "f1_scores_with_labels = {label:score for label,score in zip(labels, f1_scores)}\n",
    "print('f1-score per each class:','\\n', f1_scores_with_labels)"
   ]
  },
  {
   "cell_type": "markdown",
   "id": "425139d0",
   "metadata": {},
   "source": [
    ">>the score got lower after tuning hyperparas with GridSearch?!\n",
    "\n",
    "## Conclusion:\n",
    "tuning Hyperparameters in `ExtraTreesClassifier` have no effect, it is already a well-set classifier.\n",
    "\n",
    "\n",
    "<img src=\"https://imgur.com/JiFe0lf.png\" alt=\"drawing\" width=\"500\" hight=\"500\"/>\n"
   ]
  },
  {
   "cell_type": "markdown",
   "id": "4a1e08eb",
   "metadata": {},
   "source": [
    "since feature selection reduced the score>> refit the model with full features then:\n",
    "**Predict test results and save to file**"
   ]
  },
  {
   "cell_type": "code",
   "execution_count": 36,
   "id": "e5b2a98f",
   "metadata": {},
   "outputs": [],
   "source": [
    "# re-fetch data with full features\n",
    "# remeber i used rating =99 for test set\n",
    "X = df_le[df_le['rating']!=99].iloc[:, :-1].values\n",
    "Y = df_le[df_le['rating']!=99].iloc[:, -1].values\n",
    "\n",
    "x_tr, x_ts, y_tr, y_ts = train_test_split(X,Y, test_size=0.2)\n",
    "\n",
    "#re-fit the model over entire tain set\n",
    "ETC_model.fit(X,Y)\n",
    "x_ts = df_le[df_le['rating']==99].iloc[:, :-1].values\n",
    "    \n",
    "y_ts = ETC_model.predict(x_ts)\n",
    "dummy = pd.DataFrame({'id': test_file['id'],'rating': y_ts})\n",
    "dummy.to_csv(\"ExtraTreesClassifier_le_v2.csv\", index = False)\n"
   ]
  },
  {
   "cell_type": "markdown",
   "id": "48398488",
   "metadata": {},
   "source": [
    "## Trail 3: <a class=\"anchor\" id=\"t3\"></a>\n",
    "model: **SVM**\n",
    "\n",
    "Model Configuration: **Normalization**. notice: must norm train and test sets together\n",
    "\n",
    "Use GricSearch to find the best SVM model of kernel and Penalty and degree\n"
   ]
  },
  {
   "cell_type": "code",
   "execution_count": 37,
   "id": "3399e15b",
   "metadata": {},
   "outputs": [],
   "source": [
    "# get train sets without test set \n",
    "# remeber i used rating =99 for test set\n",
    "X = df_le_norm[df_le_norm['rating']!=99].iloc[:, :-1].values\n",
    "Y = df_le_norm[df_le_norm['rating']!=99].iloc[:, -1].values\n",
    "x_tr, x_ts, y_tr, y_ts = train_test_split(X, Y, test_size = 0.2)"
   ]
  },
  {
   "cell_type": "markdown",
   "id": "e5362cb4",
   "metadata": {},
   "source": [
    "# Applying Grid Search\n",
    "to find best parameters for the svm"
   ]
  },
  {
   "cell_type": "code",
   "execution_count": 38,
   "id": "be46f805",
   "metadata": {},
   "outputs": [
    {
     "name": "stderr",
     "output_type": "stream",
     "text": [
      "C:\\Users\\asmaa\\anaconda3\\lib\\site-packages\\sklearn\\model_selection\\_split.py:676: UserWarning: The least populated class in y has only 2 members, which is less than n_splits=7.\n",
      "  warnings.warn(\n"
     ]
    },
    {
     "name": "stdout",
     "output_type": "stream",
     "text": [
      "Best parameters are: {'C': 0.7, 'degree': 2, 'kernel': 'poly'}\n"
     ]
    },
    {
     "data": {
      "text/plain": [
       "7"
      ]
     },
     "execution_count": 38,
     "metadata": {},
     "output_type": "execute_result"
    }
   ],
   "source": [
    "import sklearn.svm as svm\n",
    "from sklearn.model_selection import GridSearchCV\n",
    "\n",
    "SVM_model = svm.SVC()\n",
    "#parameters set that grid search will explore\n",
    "parameters = {'kernel': ['rbf','poly', 'linear'],\n",
    "             'C': [0.7, 0.8 ,0.9 ,1.0],\n",
    "             'degree' : [2,3,4,5]}\n",
    "#grid search with cross-validation = 7\n",
    "GS = GridSearchCV(SVM_model, parameters, cv = 7)\n",
    "GS.fit(X,Y) \n",
    "\n",
    "print(f'Best parameters are: {GS.best_params_}')\n",
    "\n",
    "GS.cv"
   ]
  },
  {
   "cell_type": "code",
   "execution_count": 39,
   "id": "3b2ccb3c",
   "metadata": {},
   "outputs": [
    {
     "name": "stdout",
     "output_type": "stream",
     "text": [
      "0.684931506849315\n",
      "f1-score per each class: \n",
      " {1: 0.0, 2: 0.0, 3: 0.0, 4: 0.807799442896936, 5: 0.2380952380952381}\n"
     ]
    }
   ],
   "source": [
    "# >>   SVC with 2rd degree poynomial \n",
    "SVM_model = svm.SVC(kernel='poly', degree=2, C = 0.7)\n",
    "SVM_model.fit(x_tr, y_tr)\n",
    "y_hat = SVM_model.predict(x_ts)\n",
    "\n",
    "#print average f1-score, and all f1/class\n",
    "print(f1_score(y_ts, y_hat, average='micro'))\n",
    "labels = [1,2,3,4,5]\n",
    "f1_scores = f1_score(y_ts, y_hat, average=None, labels=labels)\n",
    "f1_scores_with_labels = {label:score for label,score in zip(labels, f1_scores)}\n",
    "print('f1-score per each class:','\\n', f1_scores_with_labels)"
   ]
  },
  {
   "cell_type": "markdown",
   "id": "a72e4668",
   "metadata": {},
   "source": [
    "\n",
    "**Predict test results and save to file**"
   ]
  },
  {
   "cell_type": "code",
   "execution_count": 40,
   "id": "45f7ddf4",
   "metadata": {},
   "outputs": [],
   "source": [
    "#re train over entire train set\n",
    "SVM_model.fit(X, Y)\n",
    "\n",
    "x_ts = df_le_norm[df_le_norm['rating']==99].iloc[:, :-1].values\n",
    "    \n",
    "y_ts = SVM_model.predict(x_ts)\n",
    "dummy = pd.DataFrame({'id': test_file['id'],'rating': y_ts})\n",
    "dummy.to_csv(\"SVM_le_norm_v3.csv\", index = False)\n",
    "   # header=['Category'], index_label='Id')"
   ]
  },
  {
   "cell_type": "markdown",
   "id": "9a20d478",
   "metadata": {},
   "source": [
    "# More: Bagging and Stacking tecnique: <a class=\"anchor\" id=\"more\"></a>\n",
    "* bagging the Extra trees Classifier. It sounds dumb to bag a bag of classifiers, but lets try it :D"
   ]
  },
  {
   "cell_type": "code",
   "execution_count": 41,
   "id": "c25f954e",
   "metadata": {},
   "outputs": [],
   "source": [
    "# get train sets without test set \n",
    "# remeber i used rating =99 for test set\n",
    "X = df_le[df_le['rating']!=99].iloc[:, :-1].values\n",
    "Y = df_le[df_le['rating']!=99].iloc[:, -1].values\n",
    "x_tr, x_ts, y_tr, y_ts = train_test_split(X,Y, test_size=0.2)"
   ]
  },
  {
   "cell_type": "code",
   "execution_count": 42,
   "id": "52aee10c",
   "metadata": {},
   "outputs": [
    {
     "name": "stdout",
     "output_type": "stream",
     "text": [
      "0.7579908675799086\n",
      "f1-score per each class: \n",
      " {1: 0.0, 2: 0.6666666666666666, 3: 0.1714285714285714, 4: 0.8539325842696629, 5: 0.4651162790697674}\n"
     ]
    }
   ],
   "source": [
    "from sklearn.ensemble import BaggingClassifier\n",
    "from sklearn.datasets import make_classification\n",
    "\n",
    "clf = BaggingClassifier(base_estimator=ExtraTreesClassifier(), n_estimators=10, random_state=0)\n",
    "clf.fit(x_tr, y_tr)\n",
    "y_hat = clf.predict(x_ts)\n",
    "\n",
    "#print average f1-score, and all f1/class\n",
    "print(f1_score(y_ts, y_hat, average='micro'))\n",
    "labels = [1,2,3,4,5]\n",
    "f1_scores = f1_score(y_ts, y_hat, average=None, labels=labels)\n",
    "f1_scores_with_labels = {label:score for label,score in zip(labels, f1_scores)}\n",
    "print('f1-score per each class:','\\n', f1_scores_with_labels)"
   ]
  },
  {
   "cell_type": "markdown",
   "id": "80534e5e",
   "metadata": {},
   "source": [
    "* of course baging a bag of classifiers won't do any good.\n",
    "<img src=\"https://imgur.com/8JzQGt8.png\" alt=\"drawing\" width=\"300\" hight=\"200\"/>\n",
    "\n",
    "**but i will predict and save results any way :D**"
   ]
  },
  {
   "cell_type": "code",
   "execution_count": 43,
   "id": "52550795",
   "metadata": {},
   "outputs": [],
   "source": [
    "#re train over entire train set\n",
    "clf.fit(X, Y)\n",
    "\n",
    "x_ts = df_le_norm[df_le_norm['rating']==99].iloc[:, :-1].values\n",
    "    \n",
    "y_ts = clf.predict(x_ts)\n",
    "dummy = pd.DataFrame({'id': test_file['id'],'rating': y_ts})\n",
    "dummy.to_csv(\"SVM_le_norm_bagging_v4.csv\", index = False)\n",
    "   # header=['Category'], index_label='Id')"
   ]
  },
  {
   "cell_type": "markdown",
   "id": "037581df",
   "metadata": {},
   "source": [
    "## Stacking  both:\n",
    "lets stack the Extra Trees Classifier with the SVM and use logistic regresstion at the final estimator,\n",
    "\n"
   ]
  },
  {
   "cell_type": "code",
   "execution_count": 44,
   "id": "ebd02f9a",
   "metadata": {},
   "outputs": [],
   "source": [
    "# get train sets without test set \n",
    "# remeber i used rating =99 for test set\n",
    "X = df_le[df_le['rating']!=99].iloc[:, :-1].values\n",
    "Y = df_le[df_le['rating']!=99].iloc[:, -1].values\n",
    "x_tr, x_ts, y_tr, y_ts = train_test_split(X,Y, test_size=0.2)"
   ]
  },
  {
   "cell_type": "code",
   "execution_count": 45,
   "id": "d7923ec5",
   "metadata": {},
   "outputs": [
    {
     "name": "stderr",
     "output_type": "stream",
     "text": [
      "C:\\Users\\asmaa\\anaconda3\\lib\\site-packages\\sklearn\\model_selection\\_split.py:676: UserWarning: The least populated class in y has only 2 members, which is less than n_splits=5.\n",
      "  warnings.warn(\n",
      "C:\\Users\\asmaa\\anaconda3\\lib\\site-packages\\sklearn\\model_selection\\_split.py:676: UserWarning: The least populated class in y has only 2 members, which is less than n_splits=5.\n",
      "  warnings.warn(\n"
     ]
    },
    {
     "name": "stdout",
     "output_type": "stream",
     "text": [
      "0.7716894977168951\n",
      "f1-score per each class: \n",
      " {1: 1.0, 2: 1.0, 3: 0.42857142857142855, 4: 0.864406779661017, 5: 0.35714285714285715}\n"
     ]
    },
    {
     "name": "stderr",
     "output_type": "stream",
     "text": [
      "C:\\Users\\asmaa\\anaconda3\\lib\\site-packages\\sklearn\\linear_model\\_logistic.py:814: ConvergenceWarning: lbfgs failed to converge (status=1):\n",
      "STOP: TOTAL NO. of ITERATIONS REACHED LIMIT.\n",
      "\n",
      "Increase the number of iterations (max_iter) or scale the data as shown in:\n",
      "    https://scikit-learn.org/stable/modules/preprocessing.html\n",
      "Please also refer to the documentation for alternative solver options:\n",
      "    https://scikit-learn.org/stable/modules/linear_model.html#logistic-regression\n",
      "  n_iter_i = _check_optimize_result(\n"
     ]
    }
   ],
   "source": [
    "from sklearn.svm import LinearSVC\n",
    "from sklearn.linear_model import LogisticRegression\n",
    "from sklearn.preprocessing import StandardScaler\n",
    "from sklearn.pipeline import make_pipeline\n",
    "from sklearn.ensemble import StackingClassifier\n",
    "\n",
    "estimators = [\n",
    " ('ETC', ExtraTreesClassifier()),\n",
    "    ('svm', svm.SVC())]\n",
    "\n",
    "clf = StackingClassifier(estimators=estimators, final_estimator=LogisticRegression())\n",
    "\n",
    "clf.fit(x_tr, y_tr)\n",
    "y_hat = clf.predict(x_ts)\n",
    "\n",
    "#print average f1-score, and all f1/class\n",
    "print(f1_score(y_ts, y_hat, average='micro'))\n",
    "labels = [1,2,3,4,5]\n",
    "f1_scores = f1_score(y_ts, y_hat, average=None, labels=labels, zero_division=True)\n",
    "f1_scores_with_labels = {label:score for label,score in zip(labels, f1_scores)}\n",
    "print('f1-score per each class:','\\n', f1_scores_with_labels)"
   ]
  },
  {
   "cell_type": "code",
   "execution_count": 46,
   "id": "65f12258",
   "metadata": {},
   "outputs": [
    {
     "name": "stderr",
     "output_type": "stream",
     "text": [
      "C:\\Users\\asmaa\\anaconda3\\lib\\site-packages\\sklearn\\model_selection\\_split.py:676: UserWarning: The least populated class in y has only 2 members, which is less than n_splits=5.\n",
      "  warnings.warn(\n",
      "C:\\Users\\asmaa\\anaconda3\\lib\\site-packages\\sklearn\\model_selection\\_split.py:676: UserWarning: The least populated class in y has only 2 members, which is less than n_splits=5.\n",
      "  warnings.warn(\n",
      "C:\\Users\\asmaa\\anaconda3\\lib\\site-packages\\sklearn\\linear_model\\_logistic.py:814: ConvergenceWarning: lbfgs failed to converge (status=1):\n",
      "STOP: TOTAL NO. of ITERATIONS REACHED LIMIT.\n",
      "\n",
      "Increase the number of iterations (max_iter) or scale the data as shown in:\n",
      "    https://scikit-learn.org/stable/modules/preprocessing.html\n",
      "Please also refer to the documentation for alternative solver options:\n",
      "    https://scikit-learn.org/stable/modules/linear_model.html#logistic-regression\n",
      "  n_iter_i = _check_optimize_result(\n"
     ]
    }
   ],
   "source": [
    "#re train over entire train set\n",
    "clf.fit(X, Y)\n",
    "\n",
    "x_ts = df_le_norm[df_le_norm['rating']==99].iloc[:, :-1].values\n",
    "    \n",
    "y_ts = clf.predict(x_ts)\n",
    "dummy = pd.DataFrame({'id': test_file['id'],'rating': y_ts})\n",
    "dummy.to_csv(\"Stacking_all.csv\", index = False)"
   ]
  },
  {
   "cell_type": "markdown",
   "id": "fad5d012",
   "metadata": {},
   "source": [
    "# more over: Balancing Data <a class=\"anchor\" id=\"resample_data\"></a>\n",
    "\n",
    "adding samples for the low-samlped classes\n",
    "\n",
    "code is from [website](https://towardsdatascience.com/methods-for-dealing-with-imbalanced-data-5b761be45a18)"
   ]
  },
  {
   "cell_type": "code",
   "execution_count": 47,
   "id": "0f11ff5d",
   "metadata": {},
   "outputs": [
    {
     "data": {
      "text/html": [
       "<div>\n",
       "<style scoped>\n",
       "    .dataframe tbody tr th:only-of-type {\n",
       "        vertical-align: middle;\n",
       "    }\n",
       "\n",
       "    .dataframe tbody tr th {\n",
       "        vertical-align: top;\n",
       "    }\n",
       "\n",
       "    .dataframe thead th {\n",
       "        text-align: right;\n",
       "    }\n",
       "</style>\n",
       "<table border=\"1\" class=\"dataframe\">\n",
       "  <thead>\n",
       "    <tr style=\"text-align: right;\">\n",
       "      <th></th>\n",
       "      <th>rate</th>\n",
       "      <th>count</th>\n",
       "    </tr>\n",
       "  </thead>\n",
       "  <tbody>\n",
       "    <tr>\n",
       "      <th>0</th>\n",
       "      <td>1.0</td>\n",
       "      <td>2.0</td>\n",
       "    </tr>\n",
       "    <tr>\n",
       "      <th>1</th>\n",
       "      <td>2.0</td>\n",
       "      <td>12.0</td>\n",
       "    </tr>\n",
       "    <tr>\n",
       "      <th>2</th>\n",
       "      <td>3.0</td>\n",
       "      <td>135.0</td>\n",
       "    </tr>\n",
       "    <tr>\n",
       "      <th>3</th>\n",
       "      <td>4.0</td>\n",
       "      <td>774.0</td>\n",
       "    </tr>\n",
       "    <tr>\n",
       "      <th>4</th>\n",
       "      <td>5.0</td>\n",
       "      <td>171.0</td>\n",
       "    </tr>\n",
       "  </tbody>\n",
       "</table>\n",
       "</div>"
      ],
      "text/plain": [
       "   rate  count\n",
       "0   1.0    2.0\n",
       "1   2.0   12.0\n",
       "2   3.0  135.0\n",
       "3   4.0  774.0\n",
       "4   5.0  171.0"
      ]
     },
     "execution_count": 47,
     "metadata": {},
     "output_type": "execute_result"
    }
   ],
   "source": [
    "#check class distribution\n",
    "# count of samples in each class\n",
    "d = pd.DataFrame( np.unique( Y, return_counts=True), index = ['rate', 'count'])\n",
    "d = d.transpose()\n",
    "d"
   ]
  },
  {
   "cell_type": "code",
   "execution_count": 48,
   "id": "c03f421e",
   "metadata": {},
   "outputs": [],
   "source": [
    "# get train sets\n",
    "X = df_le_norm[df_le_norm['rating']!=99].iloc[:, :-1]\n",
    "Y = df_le_norm[df_le_norm['rating']!=99].iloc[:, -1]\n",
    "x_tr, x_ts, y_tr, y_ts = train_test_split(X,Y, test_size=0.2)"
   ]
  },
  {
   "cell_type": "markdown",
   "id": "fbe57f40",
   "metadata": {},
   "source": [
    "### don't bother, this part of code is not completed:"
   ]
  },
  {
   "cell_type": "code",
   "execution_count": 49,
   "id": "1d33a544",
   "metadata": {},
   "outputs": [
    {
     "ename": "ValueError",
     "evalue": "The truth value of a Series is ambiguous. Use a.empty, a.bool(), a.item(), a.any() or a.all().",
     "output_type": "error",
     "traceback": [
      "\u001b[1;31m---------------------------------------------------------------------------\u001b[0m",
      "\u001b[1;31mValueError\u001b[0m                                Traceback (most recent call last)",
      "\u001b[1;32m<ipython-input-49-873dc2ddfadf>\u001b[0m in \u001b[0;36m<module>\u001b[1;34m\u001b[0m\n\u001b[0;32m     15\u001b[0m \u001b[1;31m#upsample minority\u001b[0m\u001b[1;33m\u001b[0m\u001b[1;33m\u001b[0m\u001b[1;33m\u001b[0m\u001b[0m\n\u001b[0;32m     16\u001b[0m \u001b[1;32mfor\u001b[0m \u001b[0mi\u001b[0m \u001b[1;32min\u001b[0m \u001b[0mrange\u001b[0m \u001b[1;33m(\u001b[0m\u001b[0mlen\u001b[0m\u001b[1;33m(\u001b[0m\u001b[0md\u001b[0m\u001b[1;33m[\u001b[0m\u001b[1;34m'rate'\u001b[0m\u001b[1;33m]\u001b[0m\u001b[1;33m)\u001b[0m\u001b[1;33m)\u001b[0m\u001b[1;33m:\u001b[0m\u001b[1;33m\u001b[0m\u001b[1;33m\u001b[0m\u001b[0m\n\u001b[1;32m---> 17\u001b[1;33m     rate_upsampled = resample(rate_class[i],\n\u001b[0m\u001b[0;32m     18\u001b[0m                           \u001b[0mreplace\u001b[0m\u001b[1;33m=\u001b[0m\u001b[1;32mTrue\u001b[0m\u001b[1;33m,\u001b[0m \u001b[1;31m# sample with replacement\u001b[0m\u001b[1;33m\u001b[0m\u001b[1;33m\u001b[0m\u001b[0m\n\u001b[0;32m     19\u001b[0m                           \u001b[0mn_samples\u001b[0m\u001b[1;33m=\u001b[0m\u001b[0md\u001b[0m\u001b[1;33m[\u001b[0m\u001b[1;34m'count'\u001b[0m\u001b[1;33m]\u001b[0m\u001b[1;33m.\u001b[0m\u001b[0mnlargest\u001b[0m\u001b[1;33m(\u001b[0m\u001b[1;36m1\u001b[0m\u001b[1;33m)\u001b[0m\u001b[1;33m,\u001b[0m \u001b[1;31m# match number in majority class\u001b[0m\u001b[1;33m\u001b[0m\u001b[1;33m\u001b[0m\u001b[0m\n",
      "\u001b[1;32m~\\anaconda3\\lib\\site-packages\\sklearn\\utils\\__init__.py\u001b[0m in \u001b[0;36mresample\u001b[1;34m(replace, n_samples, random_state, stratify, *arrays)\u001b[0m\n\u001b[0;32m    546\u001b[0m     \u001b[1;32mif\u001b[0m \u001b[0mmax_n_samples\u001b[0m \u001b[1;32mis\u001b[0m \u001b[1;32mNone\u001b[0m\u001b[1;33m:\u001b[0m\u001b[1;33m\u001b[0m\u001b[1;33m\u001b[0m\u001b[0m\n\u001b[0;32m    547\u001b[0m         \u001b[0mmax_n_samples\u001b[0m \u001b[1;33m=\u001b[0m \u001b[0mn_samples\u001b[0m\u001b[1;33m\u001b[0m\u001b[1;33m\u001b[0m\u001b[0m\n\u001b[1;32m--> 548\u001b[1;33m     \u001b[1;32melif\u001b[0m \u001b[1;33m(\u001b[0m\u001b[0mmax_n_samples\u001b[0m \u001b[1;33m>\u001b[0m \u001b[0mn_samples\u001b[0m\u001b[1;33m)\u001b[0m \u001b[1;32mand\u001b[0m \u001b[1;33m(\u001b[0m\u001b[1;32mnot\u001b[0m \u001b[0mreplace\u001b[0m\u001b[1;33m)\u001b[0m\u001b[1;33m:\u001b[0m\u001b[1;33m\u001b[0m\u001b[1;33m\u001b[0m\u001b[0m\n\u001b[0m\u001b[0;32m    549\u001b[0m         raise ValueError(\n\u001b[0;32m    550\u001b[0m             \u001b[1;34m\"Cannot sample %d out of arrays with dim %d when replace is False\"\u001b[0m\u001b[1;33m\u001b[0m\u001b[1;33m\u001b[0m\u001b[0m\n",
      "\u001b[1;32m~\\anaconda3\\lib\\site-packages\\pandas\\core\\generic.py\u001b[0m in \u001b[0;36m__nonzero__\u001b[1;34m(self)\u001b[0m\n\u001b[0;32m   1440\u001b[0m     \u001b[1;33m@\u001b[0m\u001b[0mfinal\u001b[0m\u001b[1;33m\u001b[0m\u001b[1;33m\u001b[0m\u001b[0m\n\u001b[0;32m   1441\u001b[0m     \u001b[1;32mdef\u001b[0m \u001b[0m__nonzero__\u001b[0m\u001b[1;33m(\u001b[0m\u001b[0mself\u001b[0m\u001b[1;33m)\u001b[0m\u001b[1;33m:\u001b[0m\u001b[1;33m\u001b[0m\u001b[1;33m\u001b[0m\u001b[0m\n\u001b[1;32m-> 1442\u001b[1;33m         raise ValueError(\n\u001b[0m\u001b[0;32m   1443\u001b[0m             \u001b[1;34mf\"The truth value of a {type(self).__name__} is ambiguous. \"\u001b[0m\u001b[1;33m\u001b[0m\u001b[1;33m\u001b[0m\u001b[0m\n\u001b[0;32m   1444\u001b[0m             \u001b[1;34m\"Use a.empty, a.bool(), a.item(), a.any() or a.all().\"\u001b[0m\u001b[1;33m\u001b[0m\u001b[1;33m\u001b[0m\u001b[0m\n",
      "\u001b[1;31mValueError\u001b[0m: The truth value of a Series is ambiguous. Use a.empty, a.bool(), a.item(), a.any() or a.all()."
     ]
    }
   ],
   "source": [
    "from sklearn.utils import resample\n",
    "\n",
    "# # Separate input features and target\n",
    "\n",
    "# # setting up testing and training sets\n",
    "# # concatenate our training data back together\n",
    "\n",
    "# separate minority and majority classes\n",
    "\n",
    "rate_class = []\n",
    "for i in range(len(d['rate'])):\n",
    "\n",
    "    rate_class.append(df_le_norm[df_le_norm['rating']== d['rate'][i]]) \n",
    "    \n",
    "#upsample minority\n",
    "for i in range (len(d['rate'])):\n",
    "    rate_upsampled = resample(rate_class[i],\n",
    "                          replace=True, # sample with replacement\n",
    "                          n_samples=d['count'].nlargest(1), # match number in majority class\n",
    "                          random_state=27) # reproducible results\n",
    "\n",
    "# # combine majority and upsampled minority\n",
    "# unsampled = pd.DataFrame()\n",
    "# for i in range(len(d['rate'])):\n",
    "#     upsampled = pd.append(rate[i])\n",
    "\n",
    "# # check new class counts\n",
    "# upsampled['rating'].value_counts()"
   ]
  }
 ],
 "metadata": {
  "kernelspec": {
   "display_name": "Python 3",
   "language": "python",
   "name": "python3"
  },
  "language_info": {
   "codemirror_mode": {
    "name": "ipython",
    "version": 3
   },
   "file_extension": ".py",
   "mimetype": "text/x-python",
   "name": "python",
   "nbconvert_exporter": "python",
   "pygments_lexer": "ipython3",
   "version": "3.8.8"
  }
 },
 "nbformat": 4,
 "nbformat_minor": 5
}
