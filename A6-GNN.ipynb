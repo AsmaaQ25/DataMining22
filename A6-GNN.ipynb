{
 "cells": [
  {
   "cell_type": "markdown",
   "id": "9ca78291",
   "metadata": {
    "id": "POwDaceEsKCg"
   },
   "source": [
    "# CISC 873 Data Mining Competition #6\n",
    "name: Asmaa Qindeel\n",
    "\n",
    "\n",
    "Competition #6: https://www.kaggle.com/competitions/cisc873-dm-f22-a6"
   ]
  },
  {
   "cell_type": "markdown",
   "id": "b2645bc1",
   "metadata": {
    "id": "e_poxWuQsUYP"
   },
   "source": [
    "# TOPICS:\n",
    "* [Questions & Answers](#Questions)\n",
    "* [Problem and Protocol](#intro)\n",
    "\n",
    "**Code Part**\n",
    "* [Preparing workspace: gathering info about the data](#pre)\n",
    "\n",
    "* [Trail 1:](#t1)\n",
    "* [Trail 2:](#t2)\n",
    "* [Trail 3:](#t3)\n",
    "* [Trail 4:](#t4)\n",
    "* [Trail 5:](#t5)\n",
    "* [Trial 6:](#t6)\n",
    "* [Trial 7:](#t7)\n",
    "* [Trial 8:](#t8)\n",
    "* [Trial 9:](#t9)\n",
    "* [Trial 10:](#t10)\n",
    "\n",
    "\n",
    "\n",
    "[**Conclusion**](#conc)"
   ]
  },
  {
   "cell_type": "markdown",
   "id": "26c7628b",
   "metadata": {},
   "source": [
    "You have to tune at least 10 times. All the tried solutions should be different (e.g. different feature sets/different preprocessing). The tried solutions should cover at least:\n",
    "\n",
    "GCN aggregation mechanisms: Tune at least three aggregation mechanisms (aka message_passing mechanisms) used in the graph convolution layer. Explain your understanding (based on the documentation/paper) of the mechanisms you chose.\n",
    "\n",
    "\n",
    "Up-sampling: adjust the training data preparation/generation part to up-sample the positive class samples (very unbalanced dataset)"
   ]
  },
  {
   "cell_type": "markdown",
   "id": "2d721248",
   "metadata": {
    "id": "fex7AHnxsXuN"
   },
   "source": [
    "<a class=\"anchor\" id=\"Questions\"></a>\n",
    "\n",
    "# Questions:  \n",
    "\n",
    "1. Based on the provided template, describe the format of the input file (sdf file).\n",
    "    - the data is in a Spatial Data File(sdf), means every dataitem is written in a specific place with specific order. Knowing that order is the key to read the file. For instance, in our file the samples are separated by `$$$$`, first line is the id, last line is the label, one column for the nodes, two columns for the edges, one column for edge weights. And a descriptive line, the second line which has the data: (number_of_nodes number_of_edges) in the first two items.\n",
    "2. What are the input tensors to the neural network model (their meaning, not just symbol)? What is each of their dims and their meaning (e.g. batch_size)?\n",
    "    - three input tensors\n",
    "        - data(m,): the nodes, which are letters that we tokenize and embed later. dim = m, where m = batch_size * number of nodes in the biggest sample. If batch_size =1, then m = nodes of sample.\n",
    "        - edge(n,2): the edges of all the samples in the batch. dim = n * 2, where n is the total number of edges in all the batch samples, and 2 because each sample needs 2 items to descripe one edge.\n",
    "        - node2graph(m): is an indicator of the sample order/index in the batch. m is same m as in data.\n",
    "        \n",
    "3. For each dim of gnn_out, what does it symbolize? For each dim of avg, what does it symbolize?\n",
    "    - gnn_out(m,32): m as above, with 32 hidden_dim which is the hidden nodes. avg(batch_size,32) takes the mean for each sample, the mean per segment. it reduces the m* 32 dim into batch_size * 32.\n",
    "\n",
    "4. What is the difference between segment_mean and tf.reduce_mean? For each dim of pred, what does it symbolize?\n",
    "    - segment mean may have different size for each segment. reduce_mean splits the input in same sized sets. pred(batch_size, 1), first dim is the batch size or the samples number. second dim is the label dim, since this is binary classification, the output layer has a single node.\n",
    "5. What is the motivation/theory/idea to use multiple gcn layers comparing to just one? How many layers were used in the template?\n",
    "    - probably deeper graphs, in here we use 1 GCN layer."
   ]
  },
  {
   "cell_type": "markdown",
   "id": "15fab6ca",
   "metadata": {
    "id": "7mo66ko2sgbR"
   },
   "source": [
    "<a class=\"anchor\" id=\"intro\"></a>\n",
    "\n",
    "# Problem Formulation:\n",
    "https://www.kaggle.com/c/cisc-873-dm-f22-a3\n",
    "\n",
    "THis is a classifidation problem, where each input is a graph of a chemical compound. the compound can be classifien as positive or negative for medical purposes.\n",
    "\n",
    "The input will be in a sdf file format, it needs to be read in order. \n",
    "\n",
    "Metric used in this problem is roc_auc.\n",
    "\n",
    "## The Impact:\n",
    "Training a model to classify chemical compounds can be used as an attachment to scientific equipment, i.e. make an automatic microscope that can read the sample and identify it with no human error, wouldn't that be nice!\n",
    "\n",
    "There is a project in AI that is trending now, it is about predicting protien folding, I don't realy understand its impact, but they say it will make a great change in the medical field. such a project also works on graph data input. So including graphs in machine learning is cruicial, not all data is rows and columns. \n",
    "\n",
    "\n",
    "# Experimental Protocol:\n",
    "\n",
    "Read the sdf file, save the data.\n",
    "\n",
    "For the nodes in graphs We will tokenize and embed them(handle them like text NLP), then the edges will be handled as numeric features.\n",
    "\n",
    "liberary tf2-gnn is used to include the layers for graph learning."
   ]
  },
  {
   "cell_type": "markdown",
   "id": "64078d8b",
   "metadata": {
    "id": "f808a0ed"
   },
   "source": [
    "# References\n",
    "Bird, Steven, Edward Loper and Ewan Klein (2009), Natural Language Processing with Python. O’Reilly Media Inc.\n",
    "\n",
    "[Competition Template](#https://www.kaggle.com/competitions/cisc873-dm-f22-a6/data)"
   ]
  },
  {
   "cell_type": "code",
   "execution_count": 8,
   "id": "4f7eecf0",
   "metadata": {
    "executionInfo": {
     "elapsed": 2869,
     "status": "ok",
     "timestamp": 1647248501884,
     "user": {
      "displayName": "asmaa kandil",
      "photoUrl": "https://lh3.googleusercontent.com/a-/AOh14Gh80UJPWPEk1itZhs5DtBbaN9KVmPp_FF7Pu2KE=s64",
      "userId": "14088357115434192972"
     },
     "user_tz": -120
    },
    "id": "4ec5d4e8"
   },
   "outputs": [],
   "source": [
    "# import libs\n",
    "import tensorflow as tf\n",
    "from tensorflow.math import segment_mean\n",
    "from tensorflow import keras\n",
    "from tensorflow.keras import Input, Model\n",
    "from tensorflow.keras.layers import Embedding, Dense\n",
    "from tensorflow.keras.optimizers import Adam\n",
    "\n",
    "#the lib for graph convolution\n",
    "from tf2_gnn.layers.gnn import GNN, GNNInput\n",
    "\n",
    "import sklearn\n",
    "import pandas as pd\n",
    "import numpy as np\n",
    "import math\n",
    "import nltk "
   ]
  },
  {
   "cell_type": "code",
   "execution_count": 2,
   "id": "ab5fef2d",
   "metadata": {
    "colab": {
     "base_uri": "https://localhost:8080/"
    },
    "executionInfo": {
     "elapsed": 2050,
     "status": "ok",
     "timestamp": 1647248539031,
     "user": {
      "displayName": "asmaa kandil",
      "photoUrl": "https://lh3.googleusercontent.com/a-/AOh14Gh80UJPWPEk1itZhs5DtBbaN9KVmPp_FF7Pu2KE=s64",
      "userId": "14088357115434192972"
     },
     "user_tz": -120
    },
    "id": "644a065b",
    "outputId": "6b505b5a-4ea1-4e7a-b4ea-f83033742757"
   },
   "outputs": [],
   "source": [
    "#load the data\n",
    "\n",
    "from tqdm.notebook import tqdm\n",
    "\n",
    "def read_sdf(file):\n",
    "    #open the file\n",
    "    with open(file, 'r') as rf:\n",
    "        content = rf.read()\n",
    "    samples = content.split('$$$$') # the sign between each two samples\n",
    "    \n",
    "    def parse_sample(s):\n",
    "        #read lines in current sample\n",
    "        lines = s.splitlines()\n",
    "        links = []\n",
    "        nodes = []\n",
    "        label = 0\n",
    "        for l in lines:\n",
    "            #read the label line\n",
    "            if l.strip() == '1.0':\n",
    "                label = 1\n",
    "            if l.strip() == '-1.0':\n",
    "                label = 0\n",
    "            # read the data lines, they start with four spaces\n",
    "            if l.startswith('    '):\n",
    "                feature = l.split()\n",
    "                node = feature[3] \n",
    "                nodes.append(node)\n",
    "            # read the edges lines, they start with one space\n",
    "            elif l.startswith(' '):\n",
    "                lnk = l.split()\n",
    "                # edge: (from, to,) (1-based index)\n",
    "                if int(lnk[0]) - 1 < len(nodes):\n",
    "                    links.append((\n",
    "                        int(lnk[0])-1, \n",
    "                        int(lnk[1])-1, # zero-based index\n",
    "                        # int(lnk[2]) ignore edge weight\n",
    "                    ))\n",
    "        return nodes, np.array(links), label\n",
    "    \n",
    "    return [parse_sample(s) for s in tqdm(samples) if len(s[0]) > 0]"
   ]
  },
  {
   "cell_type": "code",
   "execution_count": 3,
   "id": "3add5d0b",
   "metadata": {},
   "outputs": [
    {
     "data": {
      "application/vnd.jupyter.widget-view+json": {
       "model_id": "9c57ccd8d54a4708a2633845b5ece5d1",
       "version_major": 2,
       "version_minor": 0
      },
      "text/plain": [
       "  0%|          | 0/25024 [00:00<?, ?it/s]"
      ]
     },
     "metadata": {},
     "output_type": "display_data"
    }
   ],
   "source": [
    "from sklearn.model_selection import train_test_split\n",
    "\n",
    "#split the data to test and validation\n",
    "training_set = read_sdf('train.sdf')\n",
    "training_set, validation_set = train_test_split(training_set, test_size=0.15,)"
   ]
  },
  {
   "cell_type": "code",
   "execution_count": 4,
   "id": "1bca9992",
   "metadata": {},
   "outputs": [
    {
     "data": {
      "application/vnd.jupyter.widget-view+json": {
       "model_id": "ffcd0e7e5f4c4c7fb765acaf33da2177",
       "version_major": 2,
       "version_minor": 0
      },
      "text/plain": [
       "  0%|          | 0/12326 [00:00<?, ?it/s]"
      ]
     },
     "metadata": {},
     "output_type": "display_data"
    }
   ],
   "source": [
    "# read the test file as well\n",
    "testing_set  = read_sdf('test_x.sdf')"
   ]
  },
  {
   "cell_type": "markdown",
   "id": "7d401428",
   "metadata": {},
   "source": [
    "<a class=\"anchor\" id=\"pre\"></a>\n",
    "\n",
    "# Preprocesing"
   ]
  },
  {
   "cell_type": "code",
   "execution_count": 5,
   "id": "68df7591",
   "metadata": {},
   "outputs": [],
   "source": [
    "from tensorflow.keras.preprocessing.text import Tokenizer\n",
    "# tokenize the nodes \n",
    "\n",
    "max_vocab = 500\n",
    "max_len = 100\n",
    "\n",
    "# build vocabulary from training set\n",
    "all_nodes = [s[0] for s in training_set]\n",
    "tokenizer = Tokenizer(num_words=max_vocab)\n",
    "tokenizer.fit_on_texts(all_nodes)"
   ]
  },
  {
   "cell_type": "code",
   "execution_count": 10,
   "id": "ba9c97d1",
   "metadata": {},
   "outputs": [],
   "source": [
    "from tensorflow.keras.preprocessing.sequence import pad_sequences\n",
    "import random\n",
    "random.seed(0)\n",
    "\n",
    "\n",
    "def prepare_single_batch(samples):\n",
    "    '''function to prepare single batch, embed all nodes together, \n",
    "    get all edges together, and add node2graph index for each node\n",
    "    '''\n",
    "    sample_nodes = [s[0] for s in samples]\n",
    "    sample_nodes = tokenizer.texts_to_sequences(sample_nodes)\n",
    "    sample_nodes = pad_sequences(sample_nodes, padding='post')\n",
    "    max_nodes_len = np.shape(sample_nodes)[1] #biggest node number in the samples\n",
    "    edges = [s[1]+i*max_nodes_len for i,s in enumerate(samples)]\n",
    "    edges = [e for e in edges if len(e) > 0]\n",
    "    node_to_graph = [[i]*max_nodes_len for i in range(len(samples))]\n",
    "    \n",
    "    all_nodes = np.reshape(sample_nodes, -1)\n",
    "    all_edges = np.concatenate(edges)\n",
    "\n",
    "    node_to_graph = np.reshape(node_to_graph, -1)\n",
    "    return {\n",
    "        'data': all_nodes,\n",
    "        'edges': all_edges,\n",
    "        'node2grah': node_to_graph,\n",
    "    }, np.array([s[2] for s in samples])\n",
    "\n",
    "\n",
    "\n",
    "def gen_batch(dataset, batch_size=16, repeat=False, shuffle=True):\n",
    "    while True:\n",
    "        dataset = list(dataset)\n",
    "        if shuffle:\n",
    "            random.shuffle(dataset)\n",
    "        l = len(dataset)\n",
    "        for ndx in range(0, l, batch_size):\n",
    "            batch_samples = dataset[ndx:min(ndx + batch_size, l)]\n",
    "            yield prepare_single_batch(batch_samples)\n",
    "        if not repeat:\n",
    "            break\n"
   ]
  },
  {
   "cell_type": "markdown",
   "id": "893f518d",
   "metadata": {
    "id": "651431da"
   },
   "source": [
    "<a class=\"anchor\" id=\"t1\"></a>\n",
    "\n",
    "# Trial 1:\n",
    "use model with one gcn layer and one dense layer, with defalut parameters.\n",
    "only change the hidden_dim of the gcn layer to 32\n",
    "\n",
    "- hypers: defalut optimizer(rmsprop)\n",
    "- batch_size = 16\n",
    "- epoch = 5"
   ]
  },
  {
   "cell_type": "code",
   "execution_count": 6,
   "id": "e8753fb1",
   "metadata": {},
   "outputs": [
    {
     "name": "stdout",
     "output_type": "stream",
     "text": [
      "Model: \"model\"\n",
      "__________________________________________________________________________________________________\n",
      " Layer (type)                   Output Shape         Param #     Connected to                     \n",
      "==================================================================================================\n",
      " input_3 (InputLayer)           [(None,)]            0           []                               \n",
      "                                                                                                  \n",
      " input_1 (InputLayer)           [(None,)]            0           []                               \n",
      "                                                                                                  \n",
      " tf.math.reduce_max (TFOpLambda  ()                  0           ['input_3[0][0]']                \n",
      " )                                                                                                \n",
      "                                                                                                  \n",
      " embedding (Embedding)          (None, 20)           10000       ['input_1[0][0]']                \n",
      "                                                                                                  \n",
      " input_2 (InputLayer)           [(None, 2)]          0           []                               \n",
      "                                                                                                  \n",
      " tf.__operators__.add (TFOpLamb  ()                  0           ['tf.math.reduce_max[0][0]']     \n",
      " da)                                                                                              \n",
      "                                                                                                  \n",
      " gnn (GNN)                      (None, 32)           22464       ['embedding[0][0]',              \n",
      "                                                                  'input_2[0][0]',                \n",
      "                                                                  'input_3[0][0]',                \n",
      "                                                                  'tf.__operators__.add[0][0]']   \n",
      "                                                                                                  \n",
      " tf.math.segment_mean (TFOpLamb  (None, 32)          0           ['gnn[0][0]',                    \n",
      " da)                                                              'input_3[0][0]']                \n",
      "                                                                                                  \n",
      " dense (Dense)                  (None, 1)            33          ['tf.math.segment_mean[0][0]']   \n",
      "                                                                                                  \n",
      "==================================================================================================\n",
      "Total params: 32,497\n",
      "Trainable params: 32,497\n",
      "Non-trainable params: 0\n",
      "__________________________________________________________________________________________________\n"
     ]
    }
   ],
   "source": [
    "\n",
    "\n",
    "data = keras.Input(batch_shape=(None,))\n",
    "\n",
    "# the first dim is different to the previous one. it is the total number of edges in this batch\n",
    "edge = keras.Input(batch_shape=(None, 2), dtype=tf.int32)\n",
    "node2graph = keras.Input(batch_shape=(None,), dtype=tf.int32)\n",
    "embeded = Embedding(tokenizer.num_words, 20)(data)\n",
    "\n",
    "# number of graphs (number of samples)\n",
    "num_graph = tf.reduce_max(node2graph)+1\n",
    "\n",
    "gnn_input = GNNInput(\n",
    "    node_features=embeded,\n",
    "    adjacency_lists=(edge,),\n",
    "    node_to_graph_map=node2graph, \n",
    "    num_graphs=num_graph,\n",
    ")\n",
    "\n",
    "# https://github.com/microsoft/tf2-gnn/blob/master/tf2_gnn/layers/gnn.py\n",
    "params = GNN.get_default_hyperparameters()\n",
    "params[\"hidden_dim\"] = 32\n",
    "gnn_layer = GNN(params)\n",
    "gnn_out = gnn_layer(gnn_input)\n",
    "\n",
    "avg = segment_mean(\n",
    "    data=gnn_out,\n",
    "    segment_ids=node2graph\n",
    ")\n",
    "\n",
    "pred = Dense(1, activation='sigmoid')(avg)\n",
    "\n",
    "model = Model(\n",
    "    inputs={\n",
    "        'data': data,\n",
    "        'edges': edge,\n",
    "        'node2grah': node2graph,\n",
    "    },\n",
    "    outputs=pred\n",
    ")\n",
    "model.summary()"
   ]
  },
  {
   "cell_type": "code",
   "execution_count": 7,
   "id": "4c25d2ec",
   "metadata": {},
   "outputs": [],
   "source": [
    "#compile loss function\n",
    "model.compile(\n",
    "    loss='BinaryCrossentropy',\n",
    "    metrics=['AUC']\n",
    ")"
   ]
  },
  {
   "cell_type": "code",
   "execution_count": 11,
   "id": "d978c652",
   "metadata": {},
   "outputs": [
    {
     "name": "stdout",
     "output_type": "stream",
     "text": [
      "Epoch 1/5\n"
     ]
    },
    {
     "name": "stderr",
     "output_type": "stream",
     "text": [
      "C:\\Users\\asmaa\\anaconda3\\lib\\site-packages\\tensorflow\\python\\framework\\indexed_slices.py:444: UserWarning: Converting sparse IndexedSlices(IndexedSlices(indices=Tensor(\"gradients/cond_3_grad/Identity_1:0\", shape=(None,), dtype=int32), values=Tensor(\"gradients/cond_3_grad/Identity:0\", shape=(None, 32), dtype=float32), dense_shape=Tensor(\"gradients/cond_3_grad/Identity_2:0\", shape=(2,), dtype=int32))) to a dense Tensor of unknown shape. This may consume a large amount of memory.\n",
      "  warnings.warn(\n",
      "C:\\Users\\asmaa\\anaconda3\\lib\\site-packages\\tensorflow\\python\\framework\\indexed_slices.py:444: UserWarning: Converting sparse IndexedSlices(IndexedSlices(indices=Tensor(\"gradients/GatherV2_1_grad/Reshape_1:0\", shape=(None,), dtype=int32), values=Tensor(\"gradients/GatherV2_1_grad/Reshape:0\", shape=(None,), dtype=float32), dense_shape=Tensor(\"gradients/GatherV2_1_grad/Cast:0\", shape=(1,), dtype=int32))) to a dense Tensor of unknown shape. This may consume a large amount of memory.\n",
      "  warnings.warn(\n",
      "C:\\Users\\asmaa\\anaconda3\\lib\\site-packages\\tensorflow\\python\\framework\\indexed_slices.py:444: UserWarning: Converting sparse IndexedSlices(IndexedSlices(indices=Tensor(\"gradients/GatherV2_grad/Reshape_1:0\", shape=(None,), dtype=int32), values=Tensor(\"gradients/GatherV2_grad/Reshape:0\", shape=(None,), dtype=float32), dense_shape=Tensor(\"gradients/GatherV2_grad/Cast:0\", shape=(1,), dtype=int32))) to a dense Tensor of unknown shape. This may consume a large amount of memory.\n",
      "  warnings.warn(\n",
      "C:\\Users\\asmaa\\anaconda3\\lib\\site-packages\\tensorflow\\python\\framework\\indexed_slices.py:444: UserWarning: Converting sparse IndexedSlices(IndexedSlices(indices=Tensor(\"gradients/rgcn_2/embedding_lookup_grad/Reshape_1:0\", shape=(None,), dtype=int32), values=Tensor(\"gradients/rgcn_2/embedding_lookup_grad/Reshape:0\", shape=(None, 32), dtype=float32), dense_shape=Tensor(\"gradients/rgcn_2/embedding_lookup_grad/Cast:0\", shape=(2,), dtype=int32))) to a dense Tensor of unknown shape. This may consume a large amount of memory.\n",
      "  warnings.warn(\n",
      "C:\\Users\\asmaa\\anaconda3\\lib\\site-packages\\tensorflow\\python\\framework\\indexed_slices.py:444: UserWarning: Converting sparse IndexedSlices(IndexedSlices(indices=Tensor(\"gradients/cond_1_grad/Identity_1:0\", shape=(None,), dtype=int32), values=Tensor(\"gradients/cond_1_grad/Identity:0\", shape=(None, 32), dtype=float32), dense_shape=Tensor(\"gradients/cond_1_grad/Identity_2:0\", shape=(2,), dtype=int32))) to a dense Tensor of unknown shape. This may consume a large amount of memory.\n",
      "  warnings.warn(\n",
      "C:\\Users\\asmaa\\anaconda3\\lib\\site-packages\\tensorflow\\python\\framework\\indexed_slices.py:444: UserWarning: Converting sparse IndexedSlices(IndexedSlices(indices=Tensor(\"gradients/rgcn/embedding_lookup_grad/Reshape_1:0\", shape=(None,), dtype=int32), values=Tensor(\"gradients/rgcn/embedding_lookup_grad/Reshape:0\", shape=(None, 32), dtype=float32), dense_shape=Tensor(\"gradients/rgcn/embedding_lookup_grad/Cast:0\", shape=(2,), dtype=int32))) to a dense Tensor of unknown shape. This may consume a large amount of memory.\n",
      "  warnings.warn(\n"
     ]
    },
    {
     "name": "stdout",
     "output_type": "stream",
     "text": [
      "1330/1330 [==============================] - 28s 18ms/step - loss: 0.2276 - auc: 0.4728 - val_loss: 0.2146 - val_auc: 0.5856\n",
      "Epoch 2/5\n",
      "1330/1330 [==============================] - 23s 18ms/step - loss: 0.2006 - auc: 0.5667 - val_loss: 0.2111 - val_auc: 0.6138\n",
      "Epoch 3/5\n",
      "1330/1330 [==============================] - 22s 17ms/step - loss: 0.1949 - auc: 0.6133 - val_loss: 0.2064 - val_auc: 0.6683\n",
      "Epoch 4/5\n",
      "1330/1330 [==============================] - 24s 18ms/step - loss: 0.1882 - auc: 0.6458 - val_loss: 0.2011 - val_auc: 0.6729\n",
      "Epoch 5/5\n",
      "1330/1330 [==============================] - 23s 17ms/step - loss: 0.1826 - auc: 0.6849 - val_loss: 0.1974 - val_auc: 0.7017\n"
     ]
    },
    {
     "data": {
      "text/plain": [
       "<keras.callbacks.History at 0x170a32da070>"
      ]
     },
     "execution_count": 11,
     "metadata": {},
     "output_type": "execute_result"
    }
   ],
   "source": [
    "#train teh model\n",
    "batch_size = 16\n",
    "num_batchs = math.ceil(len(training_set) / batch_size)\n",
    "num_batchs_validation = math.ceil(len(validation_set) / batch_size)\n",
    "\n",
    "model.fit(\n",
    "    gen_batch(\n",
    "        training_set, batch_size=batch_size, repeat=True\n",
    "    ),\n",
    "    steps_per_epoch=num_batchs,\n",
    "    epochs=5,\n",
    "    validation_data=gen_batch(\n",
    "        validation_set, batch_size=16, repeat=True\n",
    "    ),\n",
    "    validation_steps=num_batchs_validation,\n",
    ")"
   ]
  },
  {
   "cell_type": "code",
   "execution_count": 13,
   "id": "e6affd95",
   "metadata": {},
   "outputs": [
    {
     "data": {
      "text/plain": [
       "array([0.09073231, 0.05983728, 0.05978483, ..., 0.019364  , 0.09987938,\n",
       "       0.02540815], dtype=float32)"
      ]
     },
     "execution_count": 13,
     "metadata": {},
     "output_type": "execute_result"
    }
   ],
   "source": [
    "#predic and save to file\n",
    "y_pred = model.predict(\n",
    "    gen_batch(testing_set, batch_size=16, shuffle=False)\n",
    ")\n",
    "\n",
    "y_pred = np.reshape(y_pred, -1)\n",
    "y_pred"
   ]
  },
  {
   "cell_type": "code",
   "execution_count": null,
   "id": "99659e3a",
   "metadata": {},
   "outputs": [],
   "source": [
    "submission = pd.DataFrame({'label':y_pred})\n",
    "submission.index.name = 'id'\n",
    "submission.to_csv('T1.csv')"
   ]
  },
  {
   "cell_type": "markdown",
   "id": "517aa5e0",
   "metadata": {},
   "source": [
    "<a class=\"anchor\" id=\"t2\"></a>\n",
    "# Trial 2: \n",
    "\n",
    "\n",
    "T1 got 0.7 val_accuracy, which is a good start, next i'll try changing one parameter of the model. it is the message passing style, meaning how the model will handle each node in graph, the defalut is `rgcn`, lets change it to `ggnn`.\n",
    "\n",
    "**setting:**\n",
    "\n",
    "- one gcn layer with hidden_dim=32\n",
    "- one dense layer\n",
    "- hypers: defalut optimizer(rmsprop)\n",
    "- batch_size = 16\n",
    "- epoch = 10 + add early stopping"
   ]
  },
  {
   "cell_type": "code",
   "execution_count": 13,
   "id": "f8384d00",
   "metadata": {},
   "outputs": [
    {
     "data": {
      "text/plain": [
       "'rgcn'"
      ]
     },
     "execution_count": 13,
     "metadata": {},
     "output_type": "execute_result"
    }
   ],
   "source": [
    "#default message_calculation_class \n",
    "params['message_calculation_class']"
   ]
  },
  {
   "cell_type": "code",
   "execution_count": 15,
   "id": "2b5ac8d1",
   "metadata": {},
   "outputs": [
    {
     "name": "stdout",
     "output_type": "stream",
     "text": [
      "Model: \"model_1\"\n",
      "__________________________________________________________________________________________________\n",
      " Layer (type)                   Output Shape         Param #     Connected to                     \n",
      "==================================================================================================\n",
      " input_9 (InputLayer)           [(None,)]            0           []                               \n",
      "                                                                                                  \n",
      " input_7 (InputLayer)           [(None,)]            0           []                               \n",
      "                                                                                                  \n",
      " tf.math.reduce_max_2 (TFOpLamb  ()                  0           ['input_9[0][0]']                \n",
      " da)                                                                                              \n",
      "                                                                                                  \n",
      " embedding_2 (Embedding)        (None, 20)           10000       ['input_7[0][0]']                \n",
      "                                                                                                  \n",
      " input_8 (InputLayer)           [(None, 2)]          0           []                               \n",
      "                                                                                                  \n",
      " tf.__operators__.add_2 (TFOpLa  ()                  0           ['tf.math.reduce_max_2[0][0]']   \n",
      " mbda)                                                                                            \n",
      "                                                                                                  \n",
      " gnn_2 (GNN)                    (None, 32)           47808       ['embedding_2[0][0]',            \n",
      "                                                                  'input_8[0][0]',                \n",
      "                                                                  'input_9[0][0]',                \n",
      "                                                                  'tf.__operators__.add_2[0][0]'] \n",
      "                                                                                                  \n",
      " tf.math.segment_mean_1 (TFOpLa  (None, 32)          0           ['gnn_2[0][0]',                  \n",
      " mbda)                                                            'input_9[0][0]']                \n",
      "                                                                                                  \n",
      " dense_1 (Dense)                (None, 1)            33          ['tf.math.segment_mean_1[0][0]'] \n",
      "                                                                                                  \n",
      "==================================================================================================\n",
      "Total params: 57,841\n",
      "Trainable params: 57,841\n",
      "Non-trainable params: 0\n",
      "__________________________________________________________________________________________________\n"
     ]
    }
   ],
   "source": [
    "#\n",
    "data = keras.Input(batch_shape=(None,))\n",
    "\n",
    "# the first dim is different to the previous one. it is the total number of edges in this batch\n",
    "edge = keras.Input(batch_shape=(None, 2), dtype=tf.int32)\n",
    "node2graph = keras.Input(batch_shape=(None,), dtype=tf.int32)\n",
    "embeded = Embedding(tokenizer.num_words, 20)(data)\n",
    "\n",
    "# number of graphs (number of samples)\n",
    "num_graph = tf.reduce_max(node2graph)+1\n",
    "\n",
    "gnn_input = GNNInput(\n",
    "    node_features=embeded,\n",
    "    adjacency_lists=(edge,),\n",
    "    node_to_graph_map=node2graph, \n",
    "    num_graphs=num_graph,\n",
    ")\n",
    "\n",
    "# https://github.com/microsoft/tf2-gnn/blob/master/tf2_gnn/layers/gnn.py\n",
    "params = GNN.get_default_hyperparameters()\n",
    "params['message_calculation_class'] = 'ggnn'\n",
    "params[\"hidden_dim\"] = 32\n",
    "gnn_layer = GNN(params)\n",
    "gnn_out = gnn_layer(gnn_input)\n",
    "\n",
    " \n",
    "avg = segment_mean(\n",
    "    data=gnn_out,\n",
    "    segment_ids=node2graph\n",
    ")\n",
    " \n",
    "\n",
    "pred = Dense(1, activation='sigmoid')(avg)\n",
    "\n",
    "model2 = Model(\n",
    "    inputs={\n",
    "        'data': data,\n",
    "        'edges': edge,\n",
    "        'node2grah': node2graph,\n",
    "    },\n",
    "    outputs=pred\n",
    ")\n",
    "model2.summary()"
   ]
  },
  {
   "cell_type": "code",
   "execution_count": 18,
   "id": "feb4175c",
   "metadata": {},
   "outputs": [],
   "source": [
    "# train the model\n",
    "model2.compile(\n",
    "    loss='BinaryCrossentropy',\n",
    "    metrics=['AUC']\n",
    ")"
   ]
  },
  {
   "cell_type": "code",
   "execution_count": 19,
   "id": "fe56ad30",
   "metadata": {},
   "outputs": [
    {
     "name": "stdout",
     "output_type": "stream",
     "text": [
      "Epoch 1/10\n"
     ]
    },
    {
     "name": "stderr",
     "output_type": "stream",
     "text": [
      "C:\\Users\\asmaa\\anaconda3\\lib\\site-packages\\tensorflow\\python\\framework\\indexed_slices.py:444: UserWarning: Converting sparse IndexedSlices(IndexedSlices(indices=Tensor(\"gradients/ggnn_3/embedding_lookup_grad/Reshape_1:0\", shape=(None,), dtype=int32), values=Tensor(\"gradients/ggnn_3/embedding_lookup_grad/Reshape:0\", shape=(None, 32), dtype=float32), dense_shape=Tensor(\"gradients/ggnn_3/embedding_lookup_grad/Cast:0\", shape=(2,), dtype=int32))) to a dense Tensor of unknown shape. This may consume a large amount of memory.\n",
      "  warnings.warn(\n",
      "C:\\Users\\asmaa\\anaconda3\\lib\\site-packages\\tensorflow\\python\\framework\\indexed_slices.py:444: UserWarning: Converting sparse IndexedSlices(IndexedSlices(indices=Tensor(\"gradients/ggnn_2/embedding_lookup_grad/Reshape_1:0\", shape=(None,), dtype=int32), values=Tensor(\"gradients/ggnn_2/embedding_lookup_grad/Reshape:0\", shape=(None, 32), dtype=float32), dense_shape=Tensor(\"gradients/ggnn_2/embedding_lookup_grad/Cast:0\", shape=(2,), dtype=int32))) to a dense Tensor of unknown shape. This may consume a large amount of memory.\n",
      "  warnings.warn(\n",
      "C:\\Users\\asmaa\\anaconda3\\lib\\site-packages\\tensorflow\\python\\framework\\indexed_slices.py:444: UserWarning: Converting sparse IndexedSlices(IndexedSlices(indices=Tensor(\"gradients/ggnn_1/embedding_lookup_grad/Reshape_1:0\", shape=(None,), dtype=int32), values=Tensor(\"gradients/ggnn_1/embedding_lookup_grad/Reshape:0\", shape=(None, 32), dtype=float32), dense_shape=Tensor(\"gradients/ggnn_1/embedding_lookup_grad/Cast:0\", shape=(2,), dtype=int32))) to a dense Tensor of unknown shape. This may consume a large amount of memory.\n",
      "  warnings.warn(\n",
      "C:\\Users\\asmaa\\anaconda3\\lib\\site-packages\\tensorflow\\python\\framework\\indexed_slices.py:444: UserWarning: Converting sparse IndexedSlices(IndexedSlices(indices=Tensor(\"gradients/ggnn/embedding_lookup_grad/Reshape_1:0\", shape=(None,), dtype=int32), values=Tensor(\"gradients/ggnn/embedding_lookup_grad/Reshape:0\", shape=(None, 32), dtype=float32), dense_shape=Tensor(\"gradients/ggnn/embedding_lookup_grad/Cast:0\", shape=(2,), dtype=int32))) to a dense Tensor of unknown shape. This may consume a large amount of memory.\n",
      "  warnings.warn(\n"
     ]
    },
    {
     "name": "stdout",
     "output_type": "stream",
     "text": [
      "1330/1330 [==============================] - 42s 27ms/step - loss: 0.1902 - auc: 0.6182 - val_loss: 0.2053 - val_auc: 0.6378\n",
      "Epoch 2/10\n",
      "1330/1330 [==============================] - 35s 26ms/step - loss: 0.1832 - auc: 0.6569 - val_loss: 0.2259 - val_auc: 0.6379\n",
      "Epoch 3/10\n",
      "1330/1330 [==============================] - 36s 27ms/step - loss: 0.1828 - auc: 0.6565 - val_loss: 0.1990 - val_auc: 0.6763\n",
      "Epoch 4/10\n",
      "1330/1330 [==============================] - 38s 29ms/step - loss: 0.1777 - auc: 0.6947 - val_loss: 0.1886 - val_auc: 0.7265\n",
      "Epoch 5/10\n",
      "1330/1330 [==============================] - 36s 27ms/step - loss: 0.1756 - auc: 0.6979 - val_loss: 0.1966 - val_auc: 0.7129\n",
      "Epoch 6/10\n",
      "1330/1330 [==============================] - 36s 27ms/step - loss: 0.1723 - auc: 0.7193 - val_loss: 0.1881 - val_auc: 0.7309\n",
      "Epoch 7/10\n",
      "1330/1330 [==============================] - 36s 27ms/step - loss: 0.1707 - auc: 0.7277 - val_loss: 0.1943 - val_auc: 0.7417\n",
      "Epoch 8/10\n",
      "1330/1330 [==============================] - 36s 27ms/step - loss: 0.1693 - auc: 0.7410 - val_loss: 0.1817 - val_auc: 0.7701\n",
      "Epoch 9/10\n",
      "1330/1330 [==============================] - 35s 26ms/step - loss: 0.1696 - auc: 0.7249 - val_loss: 0.1884 - val_auc: 0.7348\n",
      "Epoch 10/10\n",
      "1330/1330 [==============================] - 35s 26ms/step - loss: 0.1667 - auc: 0.7347 - val_loss: 0.1846 - val_auc: 0.7486\n"
     ]
    },
    {
     "data": {
      "text/plain": [
       "<keras.callbacks.History at 0x170aca402b0>"
      ]
     },
     "execution_count": 19,
     "metadata": {},
     "output_type": "execute_result"
    }
   ],
   "source": [
    "\n",
    "batch_size = 16\n",
    "num_batchs = math.ceil(len(training_set) / batch_size)\n",
    "num_batchs_validation = math.ceil(len(validation_set) / batch_size)\n",
    "\n",
    "model2.fit(\n",
    "    gen_batch(\n",
    "        training_set, batch_size=batch_size, repeat=True\n",
    "    ),\n",
    "    steps_per_epoch=num_batchs,\n",
    "    epochs=10,\n",
    "    validation_data=gen_batch(\n",
    "        validation_set, batch_size=16, repeat=True\n",
    "    ),\n",
    "    validation_steps=num_batchs_validation,\n",
    "    callbacks = [tf.keras.callbacks.EarlyStopping(\n",
    "    monitor=\"val_loss\", mode = 'min',\n",
    "    patience=3)]\n",
    ")"
   ]
  },
  {
   "cell_type": "code",
   "execution_count": 25,
   "id": "bd30df31",
   "metadata": {},
   "outputs": [],
   "source": [
    "# predict and save to file\n",
    "y_pred = model2.predict(\n",
    "    gen_batch(testing_set, batch_size=16, shuffle=False)\n",
    ")\n",
    "y_pred = np.reshape(y_pred, -1)\n",
    "\n",
    "submission = pd.DataFrame({'label':y_pred})\n",
    "submission.index.name = 'id'\n",
    "submission.to_csv('T2.csv')"
   ]
  },
  {
   "cell_type": "markdown",
   "id": "dd08f9d3",
   "metadata": {
    "id": "OBFqwoQC5qEz"
   },
   "source": [
    "<a class=\"anchor\" id=\"t3\"></a>\n",
    "\n",
    "# Trial 3:\n",
    "\n",
    "from trial 1 and 2, `ggnn` is better, also the 5 epochs were not enough. but we are still exploring which method is better, here lets try the `rgin`, which requires a num_aggr_MLP_hidden_layers \n",
    "\n",
    "**new setting:**\n",
    "- one gcn layer with hidden_dim=32\n",
    "- one dense layer\n",
    "- hypers: defalut optimizer(rmsprop)\n",
    "- batch_size = 16\n",
    "- epoch = 10 + add early stopping"
   ]
  },
  {
   "cell_type": "code",
   "execution_count": 20,
   "id": "e1526341",
   "metadata": {},
   "outputs": [
    {
     "name": "stdout",
     "output_type": "stream",
     "text": [
      "Model: \"model_2\"\n",
      "__________________________________________________________________________________________________\n",
      " Layer (type)                   Output Shape         Param #     Connected to                     \n",
      "==================================================================================================\n",
      " input_12 (InputLayer)          [(None,)]            0           []                               \n",
      "                                                                                                  \n",
      " input_10 (InputLayer)          [(None,)]            0           []                               \n",
      "                                                                                                  \n",
      " tf.math.reduce_max_3 (TFOpLamb  ()                  0           ['input_12[0][0]']               \n",
      " da)                                                                                              \n",
      "                                                                                                  \n",
      " embedding_3 (Embedding)        (None, 20)           10000       ['input_10[0][0]']               \n",
      "                                                                                                  \n",
      " input_11 (InputLayer)          [(None, 2)]          0           []                               \n",
      "                                                                                                  \n",
      " tf.__operators__.add_3 (TFOpLa  ()                  0           ['tf.math.reduce_max_3[0][0]']   \n",
      " mbda)                                                                                            \n",
      "                                                                                                  \n",
      " gnn_3 (GNN)                    (None, 32)           92096       ['embedding_3[0][0]',            \n",
      "                                                                  'input_11[0][0]',               \n",
      "                                                                  'input_12[0][0]',               \n",
      "                                                                  'tf.__operators__.add_3[0][0]'] \n",
      "                                                                                                  \n",
      " tf.math.segment_mean_2 (TFOpLa  (None, 32)          0           ['gnn_3[0][0]',                  \n",
      " mbda)                                                            'input_12[0][0]']               \n",
      "                                                                                                  \n",
      " dense_2 (Dense)                (None, 1)            33          ['tf.math.segment_mean_2[0][0]'] \n",
      "                                                                                                  \n",
      "==================================================================================================\n",
      "Total params: 102,129\n",
      "Trainable params: 102,129\n",
      "Non-trainable params: 0\n",
      "__________________________________________________________________________________________________\n"
     ]
    }
   ],
   "source": [
    "#\n",
    "data = keras.Input(batch_shape=(None,))\n",
    "\n",
    "# the first dim is different to the previous one. it is the total number of edges in this batch\n",
    "edge = keras.Input(batch_shape=(None, 2), dtype=tf.int32)\n",
    "node2graph = keras.Input(batch_shape=(None,), dtype=tf.int32)\n",
    "embeded = Embedding(tokenizer.num_words, 20)(data)\n",
    "\n",
    "# number of graphs (number of samples)\n",
    "num_graph = tf.reduce_max(node2graph)+1\n",
    "\n",
    "gnn_input = GNNInput(\n",
    "    node_features=embeded,\n",
    "    adjacency_lists=(edge,),\n",
    "    node_to_graph_map=node2graph, \n",
    "    num_graphs=num_graph,\n",
    ")\n",
    "\n",
    "# https://github.com/microsoft/tf2-gnn/blob/master/tf2_gnn/layers/gnn.py\n",
    "params = GNN.get_default_hyperparameters()\n",
    "\n",
    "params['message_calculation_class'] = 'rgin'\n",
    "\n",
    "# change the num_aggr_MLP_hidden_layers\n",
    "params['num_aggr_MLP_hidden_layers'] = 16\n",
    "params[\"hidden_dim\"] = 32\n",
    "gnn_layer = GNN(params)\n",
    "gnn_out = gnn_layer(gnn_input)\n",
    "\n",
    "\n",
    "avg = segment_mean(\n",
    "    data=gnn_out,\n",
    "    segment_ids=node2graph\n",
    ")\n",
    "\n",
    "pred = Dense(1, activation='sigmoid')(avg)\n",
    "\n",
    "\n",
    "model3 = Model(\n",
    "    inputs={\n",
    "        'data': data,\n",
    "        'edges': edge,\n",
    "        'node2grah': node2graph,\n",
    "    },\n",
    "    outputs=pred\n",
    ")\n",
    "model3.summary()"
   ]
  },
  {
   "cell_type": "code",
   "execution_count": 32,
   "id": "a26185cd",
   "metadata": {},
   "outputs": [],
   "source": [
    "model3.compile(\n",
    "    loss='BinaryCrossentropy',\n",
    "    metrics=['AUC']\n",
    ")"
   ]
  },
  {
   "cell_type": "code",
   "execution_count": 33,
   "id": "63921f35",
   "metadata": {},
   "outputs": [
    {
     "name": "stdout",
     "output_type": "stream",
     "text": [
      "Epoch 1/10\n"
     ]
    },
    {
     "name": "stderr",
     "output_type": "stream",
     "text": [
      "C:\\Users\\asmaa\\anaconda3\\lib\\site-packages\\tensorflow\\python\\framework\\indexed_slices.py:444: UserWarning: Converting sparse IndexedSlices(IndexedSlices(indices=Tensor(\"gradients/rgin_2/embedding_lookup_grad/Reshape_1:0\", shape=(None,), dtype=int32), values=Tensor(\"gradients/rgin_2/embedding_lookup_grad/Reshape:0\", shape=(None, 32), dtype=float32), dense_shape=Tensor(\"gradients/rgin_2/embedding_lookup_grad/Cast:0\", shape=(2,), dtype=int32))) to a dense Tensor of unknown shape. This may consume a large amount of memory.\n",
      "  warnings.warn(\n",
      "C:\\Users\\asmaa\\anaconda3\\lib\\site-packages\\tensorflow\\python\\framework\\indexed_slices.py:444: UserWarning: Converting sparse IndexedSlices(IndexedSlices(indices=Tensor(\"gradients/rgin/embedding_lookup_grad/Reshape_1:0\", shape=(None,), dtype=int32), values=Tensor(\"gradients/rgin/embedding_lookup_grad/Reshape:0\", shape=(None, 32), dtype=float32), dense_shape=Tensor(\"gradients/rgin/embedding_lookup_grad/Cast:0\", shape=(2,), dtype=int32))) to a dense Tensor of unknown shape. This may consume a large amount of memory.\n",
      "  warnings.warn(\n"
     ]
    },
    {
     "name": "stdout",
     "output_type": "stream",
     "text": [
      "1330/1330 [==============================] - 73s 47ms/step - loss: 0.2299 - auc: 0.5480 - val_loss: 0.2041 - val_auc: 0.6796\n",
      "Epoch 2/10\n",
      "1330/1330 [==============================] - 84s 64ms/step - loss: 0.2144 - auc: 0.5689 - val_loss: 0.1917 - val_auc: 0.6411\n",
      "Epoch 3/10\n",
      "1330/1330 [==============================] - 76s 57ms/step - loss: 0.2046 - auc: 0.5960 - val_loss: 0.2114 - val_auc: 0.6437\n",
      "Epoch 4/10\n",
      "1330/1330 [==============================] - 63s 47ms/step - loss: 0.2156 - auc: 0.5186 - val_loss: 0.2247 - val_auc: 0.3724\n",
      "Epoch 5/10\n",
      "1330/1330 [==============================] - 74s 55ms/step - loss: 0.2079 - auc: 0.5179 - val_loss: 0.2092 - val_auc: 0.6564\n"
     ]
    },
    {
     "data": {
      "text/plain": [
       "<keras.callbacks.History at 0x2d6ff656970>"
      ]
     },
     "execution_count": 33,
     "metadata": {},
     "output_type": "execute_result"
    }
   ],
   "source": [
    "import math\n",
    "\n",
    "batch_size = 16\n",
    "num_batchs = math.ceil(len(training_set) / batch_size)\n",
    "num_batchs_validation = math.ceil(len(validation_set) / batch_size)\n",
    "\n",
    "model3.fit(\n",
    "    gen_batch(\n",
    "        training_set, batch_size=batch_size, repeat=True\n",
    "    ),\n",
    "    steps_per_epoch=num_batchs,\n",
    "    epochs=10,\n",
    "    validation_data=gen_batch(\n",
    "        validation_set, batch_size=16, repeat=True\n",
    "    ),\n",
    "    validation_steps=num_batchs_validation,\n",
    "        callbacks = [tf.keras.callbacks.EarlyStopping(\n",
    "    monitor=\"val_loss\", mode = 'min',\n",
    "    patience=3)]\n",
    ")"
   ]
  },
  {
   "cell_type": "code",
   "execution_count": 36,
   "id": "4d264857",
   "metadata": {},
   "outputs": [],
   "source": [
    "# predict and save to file \n",
    "y_pred = model3.predict(\n",
    "    gen_batch(testing_set, batch_size=16, shuffle=False)\n",
    ")\n",
    "y_pred = np.reshape(y_pred, -1)\n",
    "\n",
    "submission = pd.DataFrame({'label':y_pred})\n",
    "submission.index.name = 'id'\n",
    "submission.to_csv('T3.csv')"
   ]
  },
  {
   "cell_type": "markdown",
   "id": "3e24e8fb",
   "metadata": {
    "id": "OBFqwoQC5qEz"
   },
   "source": [
    "<a class=\"anchor\" id=\"t4\"></a>\n",
    "\n",
    "# Trial 4: Sampling:\n",
    "\n",
    "As mentioned in the https://www.kaggle.com/competitions/cisc873-dm-f22-a6/overview , the data is unbalanced, so here i try to balance it with simply repeating the minor class nodes.\n",
    "\n",
    "**new setting:**\n",
    "- sampling strategy is 1:2 , so that i don't overflood the data with repeated dummy samples.\n",
    "- one gcn layer with hidden_dim=32\n",
    "- defalus message_calculation_class = 'rgcn'\n",
    "- one dense layer\n",
    "- hypers: defalut optimizer(rmsprop)\n",
    "- batch_size = 16\n",
    "- epoch = 10 + add early stopping"
   ]
  },
  {
   "cell_type": "code",
   "execution_count": 23,
   "id": "44ce46ab",
   "metadata": {},
   "outputs": [],
   "source": [
    "import imblearn.over_sampling as over_sampling \n",
    "import imblearn.under_sampling as under_sampling\n",
    "import imblearn.combine as combine\n",
    "import imblearn.pipeline as imb_pipe\n",
    "from collections import Counter"
   ]
  },
  {
   "cell_type": "code",
   "execution_count": 32,
   "id": "c3235a6c",
   "metadata": {},
   "outputs": [
    {
     "data": {
      "text/plain": [
       "Counter({0: 20254, 1: 1016})"
      ]
     },
     "execution_count": 32,
     "metadata": {},
     "output_type": "execute_result"
    }
   ],
   "source": [
    "#check balance\n",
    "# turn data to data frame to easily duplicate the minority class later\n",
    "df = pd.DataFrame(training_set)\n",
    "X = df.iloc[:, : -1].values\n",
    "y = df.iloc[:, -1].values\n",
    " \n",
    "# use counter to count the classes # i could use pandas.\n",
    "c = Counter(y)\n",
    "c"
   ]
  },
  {
   "cell_type": "markdown",
   "id": "53c08e31",
   "metadata": {},
   "source": [
    "data ratio of 5:100 , this is enough to render the model biased for the major class"
   ]
  },
  {
   "cell_type": "code",
   "execution_count": 33,
   "id": "8e9fb0aa",
   "metadata": {},
   "outputs": [
    {
     "data": {
      "text/plain": [
       "0    20254\n",
       "1    10160\n",
       "Name: 2, dtype: int64"
      ]
     },
     "execution_count": 33,
     "metadata": {},
     "output_type": "execute_result"
    }
   ],
   "source": [
    "# create 9*duplicates , plus original will be 10\n",
    "class_oversample = df.loc[df[df[2]==1].index.repeat(9)]\n",
    "\n",
    "df_over = pd.concat([df, class_oversample])\n",
    "\n",
    "#check classes now\n",
    "df_over[2].value_counts()"
   ]
  },
  {
   "cell_type": "code",
   "execution_count": 34,
   "id": "b21ea390",
   "metadata": {},
   "outputs": [],
   "source": [
    "# put it back in the list\n",
    "training_set_over = df.values.tolist()\n"
   ]
  },
  {
   "cell_type": "code",
   "execution_count": 28,
   "id": "9ee5d015",
   "metadata": {},
   "outputs": [
    {
     "name": "stdout",
     "output_type": "stream",
     "text": [
      "Model: \"model_3\"\n",
      "__________________________________________________________________________________________________\n",
      " Layer (type)                   Output Shape         Param #     Connected to                     \n",
      "==================================================================================================\n",
      " input_15 (InputLayer)          [(None,)]            0           []                               \n",
      "                                                                                                  \n",
      " input_13 (InputLayer)          [(None,)]            0           []                               \n",
      "                                                                                                  \n",
      " tf.math.reduce_max_4 (TFOpLamb  ()                  0           ['input_15[0][0]']               \n",
      " da)                                                                                              \n",
      "                                                                                                  \n",
      " embedding_4 (Embedding)        (None, 20)           10000       ['input_13[0][0]']               \n",
      "                                                                                                  \n",
      " input_14 (InputLayer)          [(None, 2)]          0           []                               \n",
      "                                                                                                  \n",
      " tf.__operators__.add_4 (TFOpLa  ()                  0           ['tf.math.reduce_max_4[0][0]']   \n",
      " mbda)                                                                                            \n",
      "                                                                                                  \n",
      " gnn_4 (GNN)                    (None, 32)           22464       ['embedding_4[0][0]',            \n",
      "                                                                  'input_14[0][0]',               \n",
      "                                                                  'input_15[0][0]',               \n",
      "                                                                  'tf.__operators__.add_4[0][0]'] \n",
      "                                                                                                  \n",
      " tf.math.segment_mean_3 (TFOpLa  (None, 32)          0           ['gnn_4[0][0]',                  \n",
      " mbda)                                                            'input_15[0][0]']               \n",
      "                                                                                                  \n",
      " dense_3 (Dense)                (None, 1)            33          ['tf.math.segment_mean_3[0][0]'] \n",
      "                                                                                                  \n",
      "==================================================================================================\n",
      "Total params: 32,497\n",
      "Trainable params: 32,497\n",
      "Non-trainable params: 0\n",
      "__________________________________________________________________________________________________\n"
     ]
    }
   ],
   "source": [
    "#\n",
    "data = keras.Input(batch_shape=(None,))\n",
    "\n",
    "# the first dim is different to the previous one. it is the total number of edges in this batch\n",
    "edge = keras.Input(batch_shape=(None, 2), dtype=tf.int32)\n",
    "node2graph = keras.Input(batch_shape=(None,), dtype=tf.int32)\n",
    "embeded = Embedding(tokenizer.num_words, 20)(data)\n",
    "\n",
    "# number of graphs (number of samples)\n",
    "num_graph = tf.reduce_max(node2graph)+1\n",
    "\n",
    "gnn_input = GNNInput(\n",
    "    node_features=embeded,\n",
    "    adjacency_lists=(edge,),\n",
    "    node_to_graph_map=node2graph, \n",
    "    num_graphs=num_graph,\n",
    ")\n",
    "\n",
    "# https://github.com/microsoft/tf2-gnn/blob/master/tf2_gnn/layers/gnn.py\n",
    "params = GNN.get_default_hyperparameters()\n",
    "params[\"hidden_dim\"] = 32\n",
    "gnn_layer = GNN(params)\n",
    "gnn_out = gnn_layer(gnn_input)\n",
    "\n",
    "avg = segment_mean(\n",
    "    data=gnn_out,\n",
    "    segment_ids=node2graph\n",
    ")\n",
    "\n",
    "pred = Dense(1, activation='sigmoid')(avg)\n",
    "\n",
    "model4 = Model(\n",
    "    inputs={\n",
    "        'data': data,\n",
    "        'edges': edge,\n",
    "        'node2grah': node2graph,\n",
    "    },\n",
    "    outputs=pred\n",
    ")\n",
    "model4.summary()"
   ]
  },
  {
   "cell_type": "code",
   "execution_count": 126,
   "id": "59c15a2a",
   "metadata": {},
   "outputs": [],
   "source": [
    "model4.compile(\n",
    "    #optimizer is rmsprop by defalut\n",
    "    loss='BinaryCrossentropy',\n",
    "    metrics=['AUC']\n",
    ")"
   ]
  },
  {
   "cell_type": "code",
   "execution_count": 127,
   "id": "df67a95c",
   "metadata": {},
   "outputs": [
    {
     "name": "stdout",
     "output_type": "stream",
     "text": [
      "Epoch 1/10\n",
      "1905/1905 [==============================] - 38s 18ms/step - loss: 0.5835 - auc: 0.6929 - val_loss: 0.4033 - val_auc: 0.7665\n",
      "Epoch 2/10\n",
      "1905/1905 [==============================] - 32s 17ms/step - loss: 0.5416 - auc: 0.7547 - val_loss: 0.3566 - val_auc: 0.7563\n",
      "Epoch 3/10\n",
      "1905/1905 [==============================] - 32s 17ms/step - loss: 0.5249 - auc: 0.7771 - val_loss: 0.3587 - val_auc: 0.7668\n",
      "Epoch 4/10\n",
      "1905/1905 [==============================] - 34s 18ms/step - loss: 0.5142 - auc: 0.7898 - val_loss: 0.3541 - val_auc: 0.7712\n",
      "Epoch 5/10\n",
      "1905/1905 [==============================] - 38s 20ms/step - loss: 0.5079 - auc: 0.7973 - val_loss: 0.3349 - val_auc: 0.7733\n",
      "Epoch 6/10\n",
      "1905/1905 [==============================] - 35s 18ms/step - loss: 0.5000 - auc: 0.8045 - val_loss: 0.3998 - val_auc: 0.7915\n",
      "Epoch 7/10\n",
      "1905/1905 [==============================] - 35s 18ms/step - loss: 0.4951 - auc: 0.8091 - val_loss: 0.3753 - val_auc: 0.8023\n",
      "Epoch 8/10\n",
      "1905/1905 [==============================] - 32s 17ms/step - loss: 0.4831 - auc: 0.8203 - val_loss: 0.3334 - val_auc: 0.8183\n",
      "Epoch 9/10\n",
      "1905/1905 [==============================] - 32s 17ms/step - loss: 0.4782 - auc: 0.8252 - val_loss: 0.3524 - val_auc: 0.8049\n",
      "Epoch 10/10\n",
      "1905/1905 [==============================] - 32s 17ms/step - loss: 0.4722 - auc: 0.8302 - val_loss: 0.4389 - val_auc: 0.7918\n"
     ]
    },
    {
     "data": {
      "text/plain": [
       "<keras.callbacks.History at 0x279e1245c40>"
      ]
     },
     "execution_count": 127,
     "metadata": {},
     "output_type": "execute_result"
    }
   ],
   "source": [
    "batch_size = 16\n",
    "num_batchs = math.ceil(len(training_set_over) / batch_size)\n",
    "num_batchs_validation = math.ceil(len(validation_set) / batch_size)\n",
    "\n",
    "model4.fit(\n",
    "    gen_batch(\n",
    "        training_set_over, batch_size=batch_size, repeat=True\n",
    "    ),\n",
    "    steps_per_epoch=num_batchs,\n",
    "    epochs=10,\n",
    "    validation_data=gen_batch(\n",
    "        validation_set, batch_size=16, repeat=True\n",
    "    ),\n",
    "    validation_steps=num_batchs_validation,\n",
    "     callbacks = [tf.keras.callbacks.EarlyStopping(\n",
    "    monitor=\"val_loss\", mode = 'min',\n",
    "    patience=3)]\n",
    ")"
   ]
  },
  {
   "cell_type": "code",
   "execution_count": 129,
   "id": "23b361d4",
   "metadata": {},
   "outputs": [],
   "source": [
    "y_pred = model4.predict(\n",
    "    gen_batch(testing_set, batch_size=16, shuffle=False)\n",
    ")\n",
    "print(y_pred.shape)\n",
    "y_pred = np.reshape(y_pred, -1)\n",
    "print(y_pred.shape)\n",
    "submission = pd.DataFrame({'label':y_pred})\n",
    "submission.index.name = 'id'\n",
    "submission.to_csv('T4.csv')"
   ]
  },
  {
   "cell_type": "markdown",
   "id": "6ee45f62",
   "metadata": {
    "id": "hOwTdWl0FrOe"
   },
   "source": [
    "\n",
    "<a class=\"anchor\" id=\"t5\"></a>\n",
    "\n",
    "# Trial 5:\n",
    "val_acc = 0.79, Seems like oversamplig to ratio 1:2 made a big change.\n",
    "\n",
    "I'll try another sampling method, the SMOTE. According to this https://machinelearningmastery.com/smote-oversampling-for-imbalanced-classification/\n",
    "it repeates certain points.\n",
    "\n",
    "\n",
    "**trial failed** i couldn't get the SMOTE model to take the graph data.\n",
    "\n",
    "I also tried to create a generator like the gen_batch for the SMOTE model, but that faile too. Tried to build my own smart resampler, also failed. T5 failed."
   ]
  },
  {
   "cell_type": "code",
   "execution_count": 45,
   "id": "58cf6f4e",
   "metadata": {},
   "outputs": [],
   "source": [
    "# full_pipline = imb_pipe(\n",
    "#     steps=[       \n",
    "#         ('resampler' , over_sampling.BorderlineSMOTE(sampling_strategy=0.5)), #over sampler\n",
    "#         ('my_classifier', model4())]\n",
    "# )"
   ]
  },
  {
   "cell_type": "code",
   "execution_count": 73,
   "id": "733258b5",
   "metadata": {},
   "outputs": [],
   "source": [
    "# training_set = pd.DataFrame(training_set)\n",
    "# oversampler = over_sampling.SMOTE(sampling_strategy=0.5)\n",
    "# X = oversampler.fit_resample(training_set)\n",
    "# training_set\n",
    "# Counter(training_set[0])"
   ]
  },
  {
   "cell_type": "code",
   "execution_count": 151,
   "id": "d0a49e25",
   "metadata": {},
   "outputs": [],
   "source": [
    "# def resampler(samples):\n",
    "#     sample_nodes = [s[0] for s in samples]\n",
    "#     sample_nodes = tokenizer.texts_to_sequences(sample_nodes)\n",
    "#     sample_nodes = pad_sequences(sample_nodes, padding='post')\n",
    "#     max_nodes_len = np.shape(sample_nodes)[1]\n",
    "#     edges = [s[1]+i*max_nodes_len for i,s in enumerate(samples)]\n",
    "#     edges = [e for e in edges if len(e) > 0]\n",
    "# #     node_to_graph = [[i]*max_nodes_len for i in range(len(samples))]\n",
    "    \n",
    "#     all_nodes = np.reshape(sample_nodes, -1)\n",
    "#     all_edges = np.concatenate(edges)\n",
    "\n",
    "# #     node_to_graph = np.reshape(node_to_graph, -1)\n",
    "#     return {\n",
    "#         'data': all_nodes,\n",
    "#         'edges': all_edges,\n",
    "# #         'node2grah': node_to_graph,\n",
    "#     }, np.array([s[2] for s in samples])"
   ]
  },
  {
   "cell_type": "code",
   "execution_count": 140,
   "id": "b6a0f4b4",
   "metadata": {},
   "outputs": [],
   "source": [
    "# # resampler\n",
    "# def iresampler(dataset, batch_size=1, repeat=False, shuffle=False):\n",
    "#     while True:\n",
    "#         dataset = list(dataset)\n",
    "#         if shuffle:\n",
    "#             random.shuffle(dataset)\n",
    "#         l = len(dataset)\n",
    "#         x_dict = {}\n",
    "#         y_array = np.array(())\n",
    "#         for ndx in range(0, l, batch_size):\n",
    "#             batch_samples = dataset[ndx:min(ndx + batch_size, l)]\n",
    "#             x, y = resampler(batch_samples)\n",
    "#             np.concatenate((x_dict, x))\n",
    "            \n",
    "#         if not repeat:\n",
    "#             break\n"
   ]
  },
  {
   "cell_type": "code",
   "execution_count": 141,
   "id": "f311d1a2",
   "metadata": {},
   "outputs": [],
   "source": [
    "# sampler = over_sampling.SMOTE(sampling_strategy=0.5)\n",
    "# # X, y = sampler.fit_resample(prepare_single_batch(training_set))\n",
    "# X = resampler(training_set, batch_size=1)"
   ]
  },
  {
   "cell_type": "markdown",
   "id": "56cce8bf",
   "metadata": {
    "id": "hOwTdWl0FrOe"
   },
   "source": [
    "\n",
    "<a class=\"anchor\" id=\"t6\"></a>\n",
    "\n",
    "# Trial 6:\n",
    "\n",
    "Same setting as T4, but change the optimizer, the default rmsprop is not converging fast enough\n",
    "\n",
    "**setting:**\n",
    "- sampling strategy is 1:2 , so that i don't overflood the data with repeated dummy samples.\n",
    "- one gcn layer with hidden_dim=32\n",
    "- defalut message_calculation_class = 'rgcn'\n",
    "- one dense layer\n",
    "- hypers: defalut optimizer(rmsprop)\n",
    "- batch_size = 16\n",
    "- epoch = 15 + add early stopping\n",
    "\n",
    "**change**\n",
    "optimizer : adam"
   ]
  },
  {
   "cell_type": "code",
   "execution_count": 29,
   "id": "c573a938",
   "metadata": {},
   "outputs": [
    {
     "name": "stdout",
     "output_type": "stream",
     "text": [
      "Model: \"model_4\"\n",
      "__________________________________________________________________________________________________\n",
      " Layer (type)                   Output Shape         Param #     Connected to                     \n",
      "==================================================================================================\n",
      " input_18 (InputLayer)          [(None,)]            0           []                               \n",
      "                                                                                                  \n",
      " input_16 (InputLayer)          [(None,)]            0           []                               \n",
      "                                                                                                  \n",
      " tf.math.reduce_max_5 (TFOpLamb  ()                  0           ['input_18[0][0]']               \n",
      " da)                                                                                              \n",
      "                                                                                                  \n",
      " embedding_5 (Embedding)        (None, 20)           10000       ['input_16[0][0]']               \n",
      "                                                                                                  \n",
      " input_17 (InputLayer)          [(None, 2)]          0           []                               \n",
      "                                                                                                  \n",
      " tf.__operators__.add_5 (TFOpLa  ()                  0           ['tf.math.reduce_max_5[0][0]']   \n",
      " mbda)                                                                                            \n",
      "                                                                                                  \n",
      " gnn_5 (GNN)                    (None, 32)           22464       ['embedding_5[0][0]',            \n",
      "                                                                  'input_17[0][0]',               \n",
      "                                                                  'input_18[0][0]',               \n",
      "                                                                  'tf.__operators__.add_5[0][0]'] \n",
      "                                                                                                  \n",
      " tf.math.segment_mean_4 (TFOpLa  (None, 32)          0           ['gnn_5[0][0]',                  \n",
      " mbda)                                                            'input_18[0][0]']               \n",
      "                                                                                                  \n",
      " dense_4 (Dense)                (None, 1)            33          ['tf.math.segment_mean_4[0][0]'] \n",
      "                                                                                                  \n",
      "==================================================================================================\n",
      "Total params: 32,497\n",
      "Trainable params: 32,497\n",
      "Non-trainable params: 0\n",
      "__________________________________________________________________________________________________\n"
     ]
    }
   ],
   "source": [
    "data = keras.Input(batch_shape=(None,))\n",
    "\n",
    "# the first dim is different to the previous one. it is the total number of edges in this batch\n",
    "edge = keras.Input(batch_shape=(None, 2), dtype=tf.int32)\n",
    "node2graph = keras.Input(batch_shape=(None,), dtype=tf.int32)\n",
    "embeded = Embedding(tokenizer.num_words, 20)(data)\n",
    "\n",
    "# number of graphs (number of samples)\n",
    "num_graph = tf.reduce_max(node2graph)+1\n",
    "\n",
    "gnn_input = GNNInput(\n",
    "    node_features=embeded,\n",
    "    adjacency_lists=(edge,),\n",
    "    node_to_graph_map=node2graph, \n",
    "    num_graphs=num_graph,\n",
    ")\n",
    "\n",
    "# https://github.com/microsoft/tf2-gnn/blob/master/tf2_gnn/layers/gnn.py\n",
    "params = GNN.get_default_hyperparameters()\n",
    "params[\"hidden_dim\"] = 32\n",
    "gnn_layer = GNN(params)\n",
    "gnn_out = gnn_layer(gnn_input)\n",
    "\n",
    " \n",
    "avg = segment_mean(\n",
    "    data=gnn_out,\n",
    "    segment_ids=node2graph\n",
    ")\n",
    "\n",
    "pred = Dense(1, activation='sigmoid')(avg)\n",
    "\n",
    "model6 = Model(\n",
    "    inputs={\n",
    "        'data': data,\n",
    "        'edges': edge,\n",
    "        'node2grah': node2graph,\n",
    "    },\n",
    "    outputs=pred\n",
    ")\n",
    "model6.summary()"
   ]
  },
  {
   "cell_type": "code",
   "execution_count": 30,
   "id": "2ec5147c",
   "metadata": {},
   "outputs": [],
   "source": [
    "model6.compile( optimizer='adam',\n",
    "    loss='BinaryCrossentropy',\n",
    "    metrics=['AUC']\n",
    ")"
   ]
  },
  {
   "cell_type": "code",
   "execution_count": 35,
   "id": "4bd30ee1",
   "metadata": {},
   "outputs": [
    {
     "name": "stdout",
     "output_type": "stream",
     "text": [
      "Epoch 1/15\n",
      "1330/1330 [==============================] - 26s 19ms/step - loss: 0.1767 - auc: 0.7087 - val_loss: 0.1941 - val_auc: 0.7190\n",
      "Epoch 2/15\n",
      "1330/1330 [==============================] - 25s 18ms/step - loss: 0.1757 - auc: 0.7083 - val_loss: 0.1913 - val_auc: 0.7283\n",
      "Epoch 3/15\n",
      "1330/1330 [==============================] - 23s 18ms/step - loss: 0.1723 - auc: 0.7316 - val_loss: 0.1883 - val_auc: 0.7211\n",
      "Epoch 4/15\n",
      "1330/1330 [==============================] - 25s 19ms/step - loss: 0.1706 - auc: 0.7418 - val_loss: 0.1913 - val_auc: 0.7740\n",
      "Epoch 5/15\n",
      "1330/1330 [==============================] - 23s 18ms/step - loss: 0.1700 - auc: 0.7447 - val_loss: 0.1890 - val_auc: 0.7141\n",
      "Epoch 6/15\n",
      "1330/1330 [==============================] - 25s 19ms/step - loss: 0.1685 - auc: 0.7531 - val_loss: 0.1813 - val_auc: 0.7696\n",
      "Epoch 7/15\n",
      "1330/1330 [==============================] - 23s 17ms/step - loss: 0.1670 - auc: 0.7628 - val_loss: 0.2033 - val_auc: 0.7359\n",
      "Epoch 8/15\n",
      "1330/1330 [==============================] - 24s 18ms/step - loss: 0.1673 - auc: 0.7590 - val_loss: 0.1934 - val_auc: 0.7365\n",
      "Epoch 9/15\n",
      "1330/1330 [==============================] - 23s 17ms/step - loss: 0.1679 - auc: 0.7554 - val_loss: 0.2007 - val_auc: 0.7630\n",
      "Epoch 10/15\n",
      "1330/1330 [==============================] - 24s 18ms/step - loss: 0.1655 - auc: 0.7715 - val_loss: 0.1862 - val_auc: 0.7552\n",
      "Epoch 11/15\n",
      "1330/1330 [==============================] - 27s 20ms/step - loss: 0.1664 - auc: 0.7675 - val_loss: 0.1876 - val_auc: 0.7613\n",
      "Epoch 12/15\n",
      "1330/1330 [==============================] - 24s 18ms/step - loss: 0.1642 - auc: 0.7751 - val_loss: 0.1820 - val_auc: 0.7559\n",
      "Epoch 13/15\n",
      "1330/1330 [==============================] - 24s 18ms/step - loss: 0.1646 - auc: 0.7779 - val_loss: 0.1947 - val_auc: 0.7273\n",
      "Epoch 14/15\n",
      "1330/1330 [==============================] - 23s 17ms/step - loss: 0.1642 - auc: 0.7817 - val_loss: 0.1803 - val_auc: 0.7885\n",
      "Epoch 15/15\n",
      "1330/1330 [==============================] - 23s 17ms/step - loss: 0.1622 - auc: 0.7876 - val_loss: 0.1773 - val_auc: 0.7697\n"
     ]
    },
    {
     "data": {
      "text/plain": [
       "<keras.callbacks.History at 0x170b70dd8b0>"
      ]
     },
     "execution_count": 35,
     "metadata": {},
     "output_type": "execute_result"
    }
   ],
   "source": [
    "batch_size = 16\n",
    "num_batchs = math.ceil(len(training_set_over) / batch_size)\n",
    "num_batchs_validation = math.ceil(len(validation_set) / batch_size)\n",
    "\n",
    "model6.fit(\n",
    "    gen_batch(\n",
    "        training_set_over, batch_size=batch_size, repeat=True\n",
    "    ),\n",
    "    steps_per_epoch=num_batchs,\n",
    "    epochs=15,\n",
    "    validation_data=gen_batch(\n",
    "        validation_set, batch_size=16, repeat=True\n",
    "    ),\n",
    "    validation_steps=num_batchs_validation,\n",
    "     callbacks = [tf.keras.callbacks.EarlyStopping(\n",
    "    monitor=\"val_loss\", mode = 'min',\n",
    "    patience=5)]\n",
    ")"
   ]
  },
  {
   "cell_type": "code",
   "execution_count": 165,
   "id": "adb108c3",
   "metadata": {},
   "outputs": [],
   "source": [
    "#predict and save to file\n",
    "y_pred = model6.predict(\n",
    "    gen_batch(testing_set, batch_size=16, shuffle=False)\n",
    ")\n",
    "\n",
    "y_pred = np.reshape(y_pred, -1)\n",
    "\n",
    "submission = pd.DataFrame({'label':y_pred})\n",
    "submission.index.name = 'id'\n",
    "submission.to_csv('T6.csv')"
   ]
  },
  {
   "cell_type": "markdown",
   "id": "82b0c4f0",
   "metadata": {
    "id": "hOwTdWl0FrOe"
   },
   "source": [
    "\n",
    "<a class=\"anchor\" id=\"t7\"></a>\n",
    "\n",
    "# Trial 7:\n",
    "build a model with parameters of T4 & T6, which got the highest results in val_acc and in test accuracy over kaggle, so \n",
    "oversample and train for more than 10 epochs, and change the message_calculation_class = `ggnn`\n",
    "\n",
    "**setting**\n",
    "- sampling strategy is 1:2 , so that i don't overflood the data with repeated dummy samples.\n",
    "- one gcn layer with hidden_dim=32\n",
    "- defalut message_calculation_class = 'rgat'\n",
    "- one dense layer\n",
    "- hypers: adam\n",
    "- batch_size = 16\n",
    "> epoch = 20 , no early stopping"
   ]
  },
  {
   "cell_type": "code",
   "execution_count": 54,
   "id": "76d28b53",
   "metadata": {},
   "outputs": [],
   "source": [
    "# turn data to data frame to easily duplicate the minority class later\n",
    "df = pd.DataFrame(training_set)\n",
    "X = df.iloc[:, : -1].values\n",
    "y = df.iloc[:, -1].values\n",
    " # create 9*duplicates , plus original will be 10\n",
    "class_oversample = df.loc[df[df[2]==1].index.repeat(9)]\n",
    "\n",
    "df_over = pd.concat([df, class_oversample])\n",
    "training_set_over = df.values.tolist()"
   ]
  },
  {
   "cell_type": "code",
   "execution_count": 60,
   "id": "edae305f",
   "metadata": {},
   "outputs": [
    {
     "name": "stdout",
     "output_type": "stream",
     "text": [
      "Model: \"model_10\"\n",
      "__________________________________________________________________________________________________\n",
      " Layer (type)                   Output Shape         Param #     Connected to                     \n",
      "==================================================================================================\n",
      " input_36 (InputLayer)          [(None,)]            0           []                               \n",
      "                                                                                                  \n",
      " input_34 (InputLayer)          [(None,)]            0           []                               \n",
      "                                                                                                  \n",
      " tf.math.reduce_max_11 (TFOpLam  ()                  0           ['input_36[0][0]']               \n",
      " bda)                                                                                             \n",
      "                                                                                                  \n",
      " embedding_11 (Embedding)       (None, 20)           10000       ['input_34[0][0]']               \n",
      "                                                                                                  \n",
      " input_35 (InputLayer)          [(None, 2)]          0           []                               \n",
      "                                                                                                  \n",
      " tf.__operators__.add_11 (TFOpL  ()                  0           ['tf.math.reduce_max_11[0][0]']  \n",
      " ambda)                                                                                           \n",
      "                                                                                                  \n",
      " gnn_11 (GNN)                   (None, 32)           22720       ['embedding_11[0][0]',           \n",
      "                                                                  'input_35[0][0]',               \n",
      "                                                                  'input_36[0][0]',               \n",
      "                                                                  'tf.__operators__.add_11[0][0]']\n",
      "                                                                                                  \n",
      " tf.math.segment_mean_10 (TFOpL  (None, 32)          0           ['gnn_11[0][0]',                 \n",
      " ambda)                                                           'input_36[0][0]']               \n",
      "                                                                                                  \n",
      " dense_10 (Dense)               (None, 1)            33          ['tf.math.segment_mean_10[0][0]']\n",
      "                                                                                                  \n",
      "==================================================================================================\n",
      "Total params: 32,753\n",
      "Trainable params: 32,753\n",
      "Non-trainable params: 0\n",
      "__________________________________________________________________________________________________\n"
     ]
    }
   ],
   "source": [
    "data = keras.Input(batch_shape=(None,))\n",
    "\n",
    "# the first dim is different to the previous one. it is the total number of edges in this batch\n",
    "edge = keras.Input(batch_shape=(None, 2), dtype=tf.int32)\n",
    "node2graph = keras.Input(batch_shape=(None,), dtype=tf.int32)\n",
    "embeded = Embedding(tokenizer.num_words, 20)(data)\n",
    "\n",
    "# number of graphs (number of samples)\n",
    "num_graph = tf.reduce_max(node2graph)+1\n",
    "\n",
    "gnn_input = GNNInput(\n",
    "    node_features=embeded,\n",
    "    adjacency_lists=(edge,),\n",
    "    node_to_graph_map=node2graph, \n",
    "    num_graphs=num_graph,\n",
    ")\n",
    "\n",
    "# https://github.com/microsoft/tf2-gnn/blob/master/tf2_gnn/layers/gnn.py\n",
    "params = GNN.get_default_hyperparameters()\n",
    "params['message_calculation_class'] = 'rgat'\n",
    "params['num_heads'] = 16\n",
    "params[\"hidden_dim\"] = 32\n",
    "gnn_layer = GNN(params)\n",
    "gnn_out = gnn_layer(gnn_input)\n",
    "\n",
    "# print('gnn_out', gnn_out)\n",
    "\n",
    "# https://www.tensorflow.org/api_docs/python/tf/math/segment_mean\n",
    "avg = segment_mean(\n",
    "    data=gnn_out,\n",
    "    segment_ids=node2graph\n",
    ")\n",
    "# print('mean:', avg)\n",
    "\n",
    "pred = Dense(1, activation='sigmoid')(avg)\n",
    "# print('pred:', pred)\n",
    "\n",
    "model7 = Model(\n",
    "    inputs={\n",
    "        'data': data,\n",
    "        'edges': edge,\n",
    "        'node2grah': node2graph,\n",
    "    },\n",
    "    outputs=pred\n",
    ")\n",
    "model7.summary()"
   ]
  },
  {
   "cell_type": "code",
   "execution_count": 61,
   "id": "7f204cc6",
   "metadata": {},
   "outputs": [],
   "source": [
    "model7.compile( optimizer = 'adam',\n",
    "    loss='BinaryCrossentropy',\n",
    "    metrics=['AUC']\n",
    ")"
   ]
  },
  {
   "cell_type": "code",
   "execution_count": 62,
   "id": "a13d1473",
   "metadata": {},
   "outputs": [
    {
     "name": "stdout",
     "output_type": "stream",
     "text": [
      "Epoch 1/20\n"
     ]
    },
    {
     "name": "stderr",
     "output_type": "stream",
     "text": [
      "C:\\Users\\asmaa\\anaconda3\\lib\\site-packages\\tensorflow\\python\\framework\\indexed_slices.py:444: UserWarning: Converting sparse IndexedSlices(IndexedSlices(indices=Tensor(\"gradients/concat_3:0\", shape=(None,), dtype=int32), values=Tensor(\"gradients/concat_2:0\", shape=(None, 32), dtype=float32), dense_shape=Tensor(\"gradients/rgat_2/embedding_lookup_grad/Cast:0\", shape=(2,), dtype=int32))) to a dense Tensor of unknown shape. This may consume a large amount of memory.\n",
      "  warnings.warn(\n",
      "C:\\Users\\asmaa\\anaconda3\\lib\\site-packages\\tensorflow\\python\\framework\\indexed_slices.py:444: UserWarning: Converting sparse IndexedSlices(IndexedSlices(indices=Tensor(\"gradients/rgat/embedding_lookup_grad/Reshape_1:0\", shape=(None,), dtype=int32), values=Tensor(\"gradients/rgat/embedding_lookup_grad/Reshape:0\", shape=(None, 32), dtype=float32), dense_shape=Tensor(\"gradients/rgat/embedding_lookup_grad/Cast:0\", shape=(2,), dtype=int32))) to a dense Tensor of unknown shape. This may consume a large amount of memory.\n",
      "  warnings.warn(\n",
      "C:\\Users\\asmaa\\anaconda3\\lib\\site-packages\\tensorflow\\python\\framework\\indexed_slices.py:444: UserWarning: Converting sparse IndexedSlices(IndexedSlices(indices=Tensor(\"gradients/rgat/embedding_lookup_1_grad/Reshape_1:0\", shape=(None,), dtype=int32), values=Tensor(\"gradients/rgat/embedding_lookup_1_grad/Reshape:0\", shape=(None, 32), dtype=float32), dense_shape=Tensor(\"gradients/rgat/embedding_lookup_1_grad/Cast:0\", shape=(2,), dtype=int32))) to a dense Tensor of unknown shape. This may consume a large amount of memory.\n",
      "  warnings.warn(\n"
     ]
    },
    {
     "name": "stdout",
     "output_type": "stream",
     "text": [
      "1330/1330 [==============================] - 71s 43ms/step - loss: 0.2301 - auc: 0.4920 - val_loss: 0.2274 - val_auc: 0.6327\n",
      "Epoch 2/20\n",
      "1330/1330 [==============================] - 55s 41ms/step - loss: 0.1869 - auc: 0.6367 - val_loss: 0.1992 - val_auc: 0.6661\n",
      "Epoch 3/20\n",
      "1330/1330 [==============================] - 58s 43ms/step - loss: 0.1827 - auc: 0.6655 - val_loss: 0.2004 - val_auc: 0.6913\n",
      "Epoch 4/20\n",
      "1330/1330 [==============================] - 55s 41ms/step - loss: 0.1799 - auc: 0.6819 - val_loss: 0.2044 - val_auc: 0.6817\n",
      "Epoch 5/20\n",
      "1330/1330 [==============================] - 58s 43ms/step - loss: 0.1766 - auc: 0.7106 - val_loss: 0.1947 - val_auc: 0.7173\n",
      "Epoch 6/20\n",
      "1330/1330 [==============================] - 55s 41ms/step - loss: 0.1745 - auc: 0.7259 - val_loss: 0.1914 - val_auc: 0.7213\n",
      "Epoch 7/20\n",
      "1330/1330 [==============================] - 57s 43ms/step - loss: 0.1743 - auc: 0.7238 - val_loss: 0.1938 - val_auc: 0.7270\n",
      "Epoch 8/20\n",
      "1330/1330 [==============================] - 55s 41ms/step - loss: 0.1707 - auc: 0.7421 - val_loss: 0.1882 - val_auc: 0.7366\n",
      "Epoch 9/20\n",
      "1330/1330 [==============================] - 55s 41ms/step - loss: 0.1711 - auc: 0.7404 - val_loss: 0.1934 - val_auc: 0.7412\n",
      "Epoch 10/20\n",
      "1330/1330 [==============================] - 60s 45ms/step - loss: 0.1694 - auc: 0.7466 - val_loss: 0.1856 - val_auc: 0.7355\n",
      "Epoch 11/20\n",
      "1330/1330 [==============================] - 55s 41ms/step - loss: 0.1687 - auc: 0.7512 - val_loss: 0.1885 - val_auc: 0.7496\n",
      "Epoch 12/20\n",
      "1330/1330 [==============================] - 60s 45ms/step - loss: 0.1674 - auc: 0.7571 - val_loss: 0.1921 - val_auc: 0.7337\n",
      "Epoch 13/20\n",
      "1330/1330 [==============================] - 54s 41ms/step - loss: 0.1675 - auc: 0.7605 - val_loss: 0.1993 - val_auc: 0.7066\n",
      "Epoch 14/20\n",
      "1330/1330 [==============================] - 58s 44ms/step - loss: 0.1662 - auc: 0.7658 - val_loss: 0.1817 - val_auc: 0.7470\n",
      "Epoch 15/20\n",
      "1330/1330 [==============================] - 56s 42ms/step - loss: 0.1670 - auc: 0.7668 - val_loss: 0.1869 - val_auc: 0.7728\n",
      "Epoch 16/20\n",
      "1330/1330 [==============================] - 57s 43ms/step - loss: 0.1663 - auc: 0.7665 - val_loss: 0.1857 - val_auc: 0.7544\n",
      "Epoch 17/20\n",
      "1330/1330 [==============================] - 56s 42ms/step - loss: 0.1640 - auc: 0.7722 - val_loss: 0.1903 - val_auc: 0.7689\n",
      "Epoch 18/20\n",
      "1330/1330 [==============================] - 56s 42ms/step - loss: 0.1629 - auc: 0.7777 - val_loss: 0.1808 - val_auc: 0.7550\n",
      "Epoch 19/20\n",
      "1330/1330 [==============================] - 63s 47ms/step - loss: 0.1631 - auc: 0.7765 - val_loss: 0.1889 - val_auc: 0.7524\n",
      "Epoch 20/20\n",
      "1330/1330 [==============================] - 59s 44ms/step - loss: 0.1618 - auc: 0.7813 - val_loss: 0.1825 - val_auc: 0.7739\n",
      "Wall time: 19min 11s\n"
     ]
    }
   ],
   "source": [
    "%%time\n",
    "\n",
    "\n",
    "batch_size = 16\n",
    "num_batchs = math.ceil(len(training_set_over) / batch_size)\n",
    "num_batchs_validation = math.ceil(len(validation_set) / batch_size)\n",
    "\n",
    "history = model7.fit(\n",
    "    gen_batch(\n",
    "        training_set_over, batch_size=batch_size, repeat=True\n",
    "    ),\n",
    "    steps_per_epoch=num_batchs,\n",
    "    epochs=20,\n",
    "    validation_data=gen_batch(\n",
    "        validation_set, batch_size=16, repeat=True\n",
    "    ),\n",
    "    validation_steps=num_batchs_validation, \n",
    "    verbose = 1\n",
    ")"
   ]
  },
  {
   "cell_type": "code",
   "execution_count": 63,
   "id": "32b32119",
   "metadata": {},
   "outputs": [
    {
     "data": {
      "image/png": "[encoded data removed]",
      "text/plain": [
       "<Figure size 432x288 with 1 Axes>"
      ]
     },
     "metadata": {
      "needs_background": "light"
     },
     "output_type": "display_data"
    }
   ],
   "source": [
    "# lets check the overfitting of the model\n",
    "from matplotlib import pyplot as plt\n",
    "\n",
    "plt.plot(history.history['auc'])\n",
    "plt.plot(history.history['val_auc'])\n",
    "plt.title('model accuracy')\n",
    "plt.ylabel('accuracy')\n",
    "plt.xlabel('epoch')\n",
    "plt.legend(['train', 'val'], loc='upper left')\n",
    "plt.show()"
   ]
  },
  {
   "cell_type": "code",
   "execution_count": 64,
   "id": "714c39d6",
   "metadata": {},
   "outputs": [
    {
     "data": {
      "image/png": "[encoded data removed]",
      "text/plain": [
       "<Figure size 432x288 with 1 Axes>"
      ]
     },
     "metadata": {
      "needs_background": "light"
     },
     "output_type": "display_data"
    }
   ],
   "source": [
    "plt.plot(history.history['loss'])\n",
    "plt.plot(history.history['val_loss'])\n",
    "plt.title('model loss')\n",
    "plt.ylabel('loss')\n",
    "plt.xlabel('epoch')\n",
    "plt.legend(['train', 'val'], loc='upper left')\n",
    "plt.show()"
   ]
  },
  {
   "cell_type": "code",
   "execution_count": 188,
   "id": "b160fbe5",
   "metadata": {},
   "outputs": [],
   "source": [
    "y_pred = model7.predict(\n",
    "    gen_batch(testing_set, batch_size=16, shuffle=False)\n",
    ")\n",
    "\n",
    "y_pred = np.reshape(y_pred, -1)\n",
    "\n",
    "\n",
    "submission = pd.DataFrame({'label':y_pred})\n",
    "submission.index.name = 'id'\n",
    "submission.to_csv('T7.csv')"
   ]
  },
  {
   "cell_type": "markdown",
   "id": "d5463918",
   "metadata": {
    "id": "hOwTdWl0FrOe"
   },
   "source": [
    "\n",
    "<a class=\"anchor\" id=\"t8\"></a>\n",
    "\n",
    "# Trial 8:\n",
    "well, we have seen what overfitting looks like :D, it looks like T7. \n",
    "\n",
    "**settings** same as T7 but\n",
    "\n",
    "- make batch_size 32"
   ]
  },
  {
   "cell_type": "code",
   "execution_count": null,
   "id": "a94206da",
   "metadata": {},
   "outputs": [],
   "source": [
    "# turn data to data frame to easily duplicate the minority class later\n",
    "df = pd.DataFrame(training_set)\n",
    "X = df.iloc[:, : -1].values\n",
    "y = df.iloc[:, -1].values\n",
    " # create 9*duplicates , plus original will be 10\n",
    "class_oversample = df.loc[df[df[2]==1].index.repeat(9)]\n",
    "\n",
    "df_over = pd.concat([df, class_oversample])\n",
    "training_set_over = df.values.tolist()"
   ]
  },
  {
   "cell_type": "code",
   "execution_count": 66,
   "id": "72ea2379",
   "metadata": {},
   "outputs": [
    {
     "name": "stdout",
     "output_type": "stream",
     "text": [
      "Model: \"model_11\"\n",
      "__________________________________________________________________________________________________\n",
      " Layer (type)                   Output Shape         Param #     Connected to                     \n",
      "==================================================================================================\n",
      " input_39 (InputLayer)          [(None,)]            0           []                               \n",
      "                                                                                                  \n",
      " input_37 (InputLayer)          [(None,)]            0           []                               \n",
      "                                                                                                  \n",
      " tf.math.reduce_max_12 (TFOpLam  ()                  0           ['input_39[0][0]']               \n",
      " bda)                                                                                             \n",
      "                                                                                                  \n",
      " embedding_12 (Embedding)       (None, 20)           10000       ['input_37[0][0]']               \n",
      "                                                                                                  \n",
      " input_38 (InputLayer)          [(None, 2)]          0           []                               \n",
      "                                                                                                  \n",
      " tf.__operators__.add_12 (TFOpL  ()                  0           ['tf.math.reduce_max_12[0][0]']  \n",
      " ambda)                                                                                           \n",
      "                                                                                                  \n",
      " gnn_12 (GNN)                   (None, 32)           22464       ['embedding_12[0][0]',           \n",
      "                                                                  'input_38[0][0]',               \n",
      "                                                                  'input_39[0][0]',               \n",
      "                                                                  'tf.__operators__.add_12[0][0]']\n",
      "                                                                                                  \n",
      " tf.math.segment_mean_11 (TFOpL  (None, 32)          0           ['gnn_12[0][0]',                 \n",
      " ambda)                                                           'input_39[0][0]']               \n",
      "                                                                                                  \n",
      " dense_11 (Dense)               (None, 1)            33          ['tf.math.segment_mean_11[0][0]']\n",
      "                                                                                                  \n",
      "==================================================================================================\n",
      "Total params: 32,497\n",
      "Trainable params: 32,497\n",
      "Non-trainable params: 0\n",
      "__________________________________________________________________________________________________\n"
     ]
    }
   ],
   "source": [
    "data = keras.Input(batch_shape=(None,))\n",
    "\n",
    "# the first dim is different to the previous one. it is the total number of edges in this batch\n",
    "edge = keras.Input(batch_shape=(None, 2), dtype=tf.int32)\n",
    "node2graph = keras.Input(batch_shape=(None,), dtype=tf.int32)\n",
    "embeded = Embedding(tokenizer.num_words, 20)(data)\n",
    "\n",
    "# number of graphs (number of samples)\n",
    "num_graph = tf.reduce_max(node2graph)+1\n",
    "\n",
    "gnn_input = GNNInput(\n",
    "    node_features=embeded,\n",
    "    adjacency_lists=(edge,),\n",
    "    node_to_graph_map=node2graph, \n",
    "    num_graphs=num_graph,\n",
    ")\n",
    "\n",
    "# https://github.com/microsoft/tf2-gnn/blob/master/tf2_gnn/layers/gnn.py\n",
    "params = GNN.get_default_hyperparameters()\n",
    "params[\"hidden_dim\"] = 32\n",
    "gnn_layer = GNN(params)\n",
    "gnn_out = gnn_layer(gnn_input)\n",
    "\n",
    "avg = segment_mean(\n",
    "    data=gnn_out,\n",
    "    segment_ids=node2graph\n",
    ")\n",
    "\n",
    "pred = Dense(1, activation='sigmoid')(avg)\n",
    "\n",
    "model8 = Model(\n",
    "    inputs={\n",
    "        'data': data,\n",
    "        'edges': edge,\n",
    "        'node2grah': node2graph,\n",
    "    },\n",
    "    outputs=pred\n",
    ")\n",
    "model.summary()"
   ]
  },
  {
   "cell_type": "code",
   "execution_count": 67,
   "id": "32919732",
   "metadata": {},
   "outputs": [],
   "source": [
    "model8.compile(\n",
    "    loss='BinaryCrossentropy',\n",
    "    metrics=['AUC']\n",
    ")"
   ]
  },
  {
   "cell_type": "code",
   "execution_count": 69,
   "id": "9e293263",
   "metadata": {},
   "outputs": [
    {
     "name": "stdout",
     "output_type": "stream",
     "text": [
      "Epoch 1/5\n",
      "665/665 [==============================] - 26s 39ms/step - loss: 0.2366 - auc: 0.4760 - val_loss: 0.2218 - val_auc: 0.6523\n",
      "Epoch 2/5\n",
      "665/665 [==============================] - 24s 35ms/step - loss: 0.1951 - auc: 0.6014 - val_loss: 0.1991 - val_auc: 0.6339\n",
      "Epoch 3/5\n",
      "665/665 [==============================] - 25s 38ms/step - loss: 0.1917 - auc: 0.6189 - val_loss: 0.2150 - val_auc: 0.6756\n",
      "Epoch 4/5\n",
      "665/665 [==============================] - 24s 36ms/step - loss: 0.1902 - auc: 0.6276 - val_loss: 0.2013 - val_auc: 0.6593\n",
      "Epoch 5/5\n",
      "665/665 [==============================] - 26s 40ms/step - loss: 0.1880 - auc: 0.6472 - val_loss: 0.2018 - val_auc: 0.6750\n"
     ]
    },
    {
     "data": {
      "text/plain": [
       "<keras.callbacks.History at 0x170d64c2ac0>"
      ]
     },
     "execution_count": 69,
     "metadata": {},
     "output_type": "execute_result"
    }
   ],
   "source": [
    "import math\n",
    "\n",
    "batch_size = 32\n",
    "num_batchs = math.ceil(len(training_set_over) / batch_size)\n",
    "num_batchs_validation = math.ceil(len(validation_set) / batch_size)\n",
    "\n",
    "model8.fit(\n",
    "    gen_batch(\n",
    "        training_set_over, batch_size=batch_size, repeat=True\n",
    "    ),\n",
    "    steps_per_epoch=num_batchs,\n",
    "    epochs=5,\n",
    "    validation_data=gen_batch(\n",
    "        validation_set, batch_size=16, repeat=True\n",
    "    ),\n",
    "    validation_steps=num_batchs_validation,\n",
    ")"
   ]
  },
  {
   "cell_type": "code",
   "execution_count": 70,
   "id": "05698096",
   "metadata": {},
   "outputs": [
    {
     "data": {
      "text/plain": [
       "array([0.49969295, 0.49970955, 0.49963474, ..., 0.49972904, 0.4994854 ,\n",
       "       0.49964124], dtype=float32)"
      ]
     },
     "execution_count": 70,
     "metadata": {},
     "output_type": "execute_result"
    }
   ],
   "source": [
    "y_pred = model.predict(\n",
    "    gen_batch(testing_set, batch_size=32, shuffle=False)\n",
    ")\n",
    "\n",
    "y_pred = np.reshape(y_pred, -1)\n",
    "y_pred"
   ]
  },
  {
   "cell_type": "code",
   "execution_count": null,
   "id": "1fbde82a",
   "metadata": {},
   "outputs": [],
   "source": [
    "submission = pd.DataFrame({'label':y_pred})\n",
    "submission.index.name = 'id'\n",
    "submission.to_csv('T8.csv')"
   ]
  },
  {
   "cell_type": "markdown",
   "id": "0aed5854",
   "metadata": {
    "id": "hOwTdWl0FrOe"
   },
   "source": [
    "\n",
    "<a class=\"anchor\" id=\"t9\"></a>\n",
    "\n",
    "# Trial 9:\n",
    "\n",
    "I want to try adding more than one gcn layer,\n",
    "\n",
    "**Status** Trial not completed\n"
   ]
  },
  {
   "cell_type": "code",
   "execution_count": 73,
   "id": "b2485a73",
   "metadata": {},
   "outputs": [],
   "source": [
    "# import tensorflow as tf\n",
    "# from tensorflow.math import segment_mean\n",
    "# from tensorflow import keras\n",
    "# from tensorflow.keras import Input, Model\n",
    "# from tensorflow.keras.layers import Embedding, Dense\n",
    "# from tensorflow.keras.optimizers import Adam\n",
    "\n",
    "# from tf2_gnn.layers.gnn import GNN, GNNInput\n",
    "\n",
    "# data = keras.Input(batch_shape=(None,))\n",
    "\n",
    "# # the first dim is different to the previous one. it is the total number of edges in this batch\n",
    "# edge = keras.Input(batch_shape=(None, 2), dtype=tf.int32)\n",
    "# node2graph = keras.Input(batch_shape=(None,), dtype=tf.int32)\n",
    "# embeded = Embedding(tokenizer.num_words, 20)(data)\n",
    "\n",
    "# # number of graphs (number of samples)\n",
    "# num_graph = tf.reduce_max(node2graph)+1\n",
    "\n",
    "# gnn_input = GNNInput(\n",
    "#     node_features=embeded,\n",
    "#     adjacency_lists=(edge,),\n",
    "#     node_to_graph_map=node2graph, \n",
    "#     num_graphs=num_graph,\n",
    "# )\n",
    "\n",
    "# # https://github.com/microsoft/tf2-gnn/blob/master/tf2_gnn/layers/gnn.py\n",
    "# params = GNN.get_default_hyperparameters()\n",
    "# params[\"hidden_dim\"] = 32\n",
    "# gnn_layer = GNN(params)\n",
    "# gnn_1 = GNN(params)\n",
    "# gnn_1 = gnn_layer(gnn_input)\n",
    "# gnn_out = gnn_1(params)\n",
    "# avg = segment_mean(\n",
    "#     data=gnn_out,\n",
    "#     segment_ids=node2graph\n",
    "# )\n",
    "# print('mean:', avg)\n",
    "\n",
    "# pred = Dense(1, activation='sigmoid')(avg)\n",
    "# print('pred:', pred)\n",
    "\n",
    "# model = Model(\n",
    "#     inputs={\n",
    "#         'data': data,\n",
    "#         'edges': edge,\n",
    "#         'node2grah': node2graph,\n",
    "#     },\n",
    "#     outputs=pred\n",
    "# )\n",
    "# model.summary()"
   ]
  },
  {
   "cell_type": "markdown",
   "id": "834b1b36",
   "metadata": {
    "id": "hOwTdWl0FrOe"
   },
   "source": [
    "<a class=\"anchor\" id=\"t10\"></a>\n",
    "\n",
    "# Trial 10:\n",
    "I have no more trial i'd like to proceed."
   ]
  },
  {
   "cell_type": "markdown",
   "id": "18be13dd",
   "metadata": {},
   "source": [
    "# Conclusion:\n",
    "<a class=\"anchor\" id=\"conc\"></a>\n",
    "\n",
    "Graph data is a big part of real problems, there is a lot of decisions to maake when it comes to training its model, how would the model handle the nodes, individually(attention mode) or dense agggregation to focus on all nodes together, or any other method.\n",
    "Another consideration is how big should the model be, number of gcn layers "
   ]
  }
 ],
 "metadata": {
  "colab": {
   "collapsed_sections": [],
   "name": "C3_npl_v2.ipynb",
   "provenance": []
  },
  "kernelspec": {
   "display_name": "Python 3",
   "language": "python",
   "name": "python3"
  },
  "language_info": {
   "codemirror_mode": {
    "name": "ipython",
    "version": 3
   },
   "file_extension": ".py",
   "mimetype": "text/x-python",
   "name": "python",
   "nbconvert_exporter": "python",
   "pygments_lexer": "ipython3",
   "version": "3.8.8"
  }
 },
 "nbformat": 4,
 "nbformat_minor": 5
}
